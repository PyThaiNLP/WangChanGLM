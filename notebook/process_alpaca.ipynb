{
 "cells": [
  {
   "cell_type": "markdown",
   "id": "07edeb1f",
   "metadata": {},
   "source": [
    "# Process Alpaca English and Translated Thai"
   ]
  },
  {
   "cell_type": "code",
   "execution_count": 1,
   "id": "92d4996d",
   "metadata": {},
   "outputs": [
    {
     "name": "stderr",
     "output_type": "stream",
     "text": [
      "2023-03-27 13:11:59.616957: I tensorflow/core/platform/cpu_feature_guard.cc:193] This TensorFlow binary is optimized with oneAPI Deep Neural Network Library (oneDNN) to use the following CPU instructions in performance-critical operations:  AVX2 FMA\n",
      "To enable them in other operations, rebuild TensorFlow with the appropriate compiler flags.\n",
      "2023-03-27 13:12:00.626429: W tensorflow/compiler/xla/stream_executor/platform/default/dso_loader.cc:64] Could not load dynamic library 'libnvinfer.so.7'; dlerror: libnvinfer.so.7: cannot open shared object file: No such file or directory; LD_LIBRARY_PATH: /usr/local/cuda-11.7/lib64\n",
      "2023-03-27 13:12:00.626545: W tensorflow/compiler/xla/stream_executor/platform/default/dso_loader.cc:64] Could not load dynamic library 'libnvinfer_plugin.so.7'; dlerror: libnvinfer_plugin.so.7: cannot open shared object file: No such file or directory; LD_LIBRARY_PATH: /usr/local/cuda-11.7/lib64\n",
      "2023-03-27 13:12:00.626557: W tensorflow/compiler/tf2tensorrt/utils/py_utils.cc:38] TF-TRT Warning: Cannot dlopen some TensorRT libraries. If you would like to use Nvidia GPU with TensorRT, please make sure the missing libraries mentioned above are installed properly.\n"
     ]
    }
   ],
   "source": [
    "import json\n",
    "import pandas as pd\n",
    "from datasets import (\n",
    "    Dataset,\n",
    "    load_dataset\n",
    ")\n",
    "from transformers import (\n",
    "    AutoTokenizer,\n",
    "    AutoModelForCausalLM,\n",
    "    TrainingArguments,\n",
    "    Trainer,\n",
    "    HfArgumentParser,\n",
    "    AdamW,\n",
    "    DataCollatorForLanguageModeling,\n",
    ")\n",
    "from deepspeed.runtime.lr_schedules import WarmupDecayLR\n",
    "from typing import Optional, Union, List, Dict, Any\n",
    "import evaluate\n",
    "from dataclasses import dataclass, field\n",
    "import torch.nn as nn\n",
    "import numpy as np\n",
    "import wandb\n",
    "import multiprocessing\n",
    "import copy\n",
    "cpu_cores = multiprocessing.cpu_count()\n",
    "\n"
   ]
  },
  {
   "cell_type": "code",
   "execution_count": null,
   "id": "347ac1f0",
   "metadata": {},
   "outputs": [],
   "source": [
    "with open('../data_large/alpaca_data.json','r') as f:\n",
    "    data = json.load(f)\n",
    "len(data)"
   ]
  },
  {
   "cell_type": "code",
   "execution_count": null,
   "id": "2990e506",
   "metadata": {},
   "outputs": [],
   "source": [
    "data[0]"
   ]
  },
  {
   "cell_type": "code",
   "execution_count": null,
   "id": "e653cf8b",
   "metadata": {},
   "outputs": [],
   "source": [
    "dset = Dataset.from_list(data)"
   ]
  },
  {
   "cell_type": "code",
   "execution_count": null,
   "id": "1d61e5d6",
   "metadata": {},
   "outputs": [],
   "source": [
    "tokenizer = AutoTokenizer.from_pretrained('facebook/xglm-564M')\n",
    "tokenizer('hey')"
   ]
  },
  {
   "cell_type": "code",
   "execution_count": null,
   "id": "2c0b2441",
   "metadata": {},
   "outputs": [],
   "source": [
    "def preprocess_sft(example):\n",
    "    if example['input']!=\"\":\n",
    "        example['text'] = f\"<human>: {example['instruction']} <context>: {example['input']} <bot>: {example['output']}\"\n",
    "        example['has_context'] = 1\n",
    "    else:\n",
    "        example['text'] = f\"<human>: {example['instruction']} <bot>: {example['output']}\"\n",
    "        example['has_context'] = 0\n",
    "    example['nb_tokens'] = len(tokenizer(example['text'])['input_ids'])\n",
    "    return example\n",
    "\n",
    "dset_sft = dset.map(preprocess_sft,\n",
    "                remove_columns=['instruction','input','output'])"
   ]
  },
  {
   "cell_type": "code",
   "execution_count": null,
   "id": "2bece7c9",
   "metadata": {},
   "outputs": [],
   "source": [
    "#99.9% are less than 512 tokens\n",
    "pd.Series(dset_sft['nb_tokens']).quantile([i/1000 for i in range(1000)])"
   ]
  },
  {
   "cell_type": "code",
   "execution_count": null,
   "id": "7ac0e5c9",
   "metadata": {},
   "outputs": [],
   "source": [
    "#only 37 examples are over 512; we decide to remove it first\n",
    "(pd.Series(dset_sft['nb_tokens'])>512).sum()"
   ]
  },
  {
   "cell_type": "code",
   "execution_count": null,
   "id": "561aff40",
   "metadata": {},
   "outputs": [],
   "source": [
    "#filter down\n",
    "dset_sft = dset_sft.filter(lambda example: example[\"nb_tokens\"]<=512)\\\n",
    "            .remove_columns(['nb_tokens'])\n",
    "\n",
    "dset_sft"
   ]
  },
  {
   "cell_type": "code",
   "execution_count": null,
   "id": "e4a85453",
   "metadata": {},
   "outputs": [],
   "source": [
    "dset_sft = dset_sft.train_test_split(test_size=0.05, seed=125)\n",
    "dset_sft"
   ]
  },
  {
   "cell_type": "code",
   "execution_count": null,
   "id": "36df2305",
   "metadata": {},
   "outputs": [],
   "source": [
    "# dset_sft.push_to_hub('pythainlp/alpaca_en_sft', private=True)"
   ]
  },
  {
   "cell_type": "code",
   "execution_count": 2,
   "id": "00f3cd37",
   "metadata": {},
   "outputs": [
    {
     "name": "stderr",
     "output_type": "stream",
     "text": [
      "Using custom data configuration pythainlp--alpaca_en_sft-8c0a443e01591af7\n",
      "Found cached dataset parquet (/home/charipol/.cache/huggingface/datasets/pythainlp___parquet/pythainlp--alpaca_en_sft-8c0a443e01591af7/0.0.0/2a3b91fbd88a2c90d1dbbb32b460cf621d31bd5b05b934492fdef7d8d6f236ec)\n"
     ]
    },
    {
     "data": {
      "application/vnd.jupyter.widget-view+json": {
       "model_id": "cea710a5613e4120916ba3678419348d",
       "version_major": 2,
       "version_minor": 0
      },
      "text/plain": [
       "  0%|          | 0/2 [00:00<?, ?it/s]"
      ]
     },
     "metadata": {},
     "output_type": "display_data"
    }
   ],
   "source": [
    "dset_sft = load_dataset('pythainlp/alpaca_en_sft')"
   ]
  },
  {
   "cell_type": "code",
   "execution_count": 3,
   "id": "9a8ec970",
   "metadata": {},
   "outputs": [],
   "source": [
    "# Load the value-head model and tokenizer.\n",
    "tokenizer = AutoTokenizer.from_pretrained('facebook/xglm-564M')\n",
    "model = AutoModelForCausalLM.from_pretrained('facebook/xglm-564M')\n",
    "\n",
    "# Preprocess the dataset.\n",
    "def mask_labels(l, context_cue, human_cue, bot_cue):\n",
    "    result = []\n",
    "    i = 0\n",
    "    while i < len(l):\n",
    "        if (l[i:i+len(human_cue)] == human_cue)|((l[i:i+len(context_cue)] == context_cue)):\n",
    "            while l[i:i+len(bot_cue)] != bot_cue:\n",
    "                result.append(-100)\n",
    "                i += 1\n",
    "        else:\n",
    "            result.append(l[i])\n",
    "            i += 1\n",
    "    return result\n",
    "        \n",
    "def preprocess_function(example):\n",
    "    tokenized_qa = tokenizer(example['text']+tokenizer.eos_token, \n",
    "                            truncation=True, \n",
    "                            padding=\"max_length\",\n",
    "                            max_length=512,\n",
    "                            add_special_tokens=False\n",
    "                            )\n",
    "    labels = copy.deepcopy(tokenized_qa['input_ids'])\n",
    "    labels = mask_labels(labels, \n",
    "              tokenizer('<context>:', add_special_tokens=False)['input_ids'],\n",
    "              tokenizer('<human>:', add_special_tokens=False)['input_ids'],\n",
    "              tokenizer('<bot>:', add_special_tokens=False)['input_ids']\n",
    "             )\n",
    "    labels = [-100 if i==tokenizer.pad_token_id else i for i in labels]\n",
    "    return {\n",
    "        \"input_ids\": tokenized_qa[\"input_ids\"],\n",
    "        \"attention_mask\": tokenized_qa[\"attention_mask\"],\n",
    "        \"labels\": labels,\n",
    "    }\n"
   ]
  },
  {
   "cell_type": "code",
   "execution_count": 4,
   "id": "4b69b91c",
   "metadata": {},
   "outputs": [
    {
     "name": "stdout",
     "output_type": "stream",
     "text": [
      "          "
     ]
    },
    {
     "data": {
      "application/vnd.jupyter.widget-view+json": {
       "model_id": "10ef1330176844b480a1147bee2a533f",
       "version_major": 2,
       "version_minor": 0
      },
      "text/plain": [
       "#0:   0%|          | 0/9874 [00:00<?, ?ex/s]"
      ]
     },
     "metadata": {},
     "output_type": "display_data"
    },
    {
     "data": {
      "application/vnd.jupyter.widget-view+json": {
       "model_id": "3cbc592aad00448fbde8beb8ee747062",
       "version_major": 2,
       "version_minor": 0
      },
      "text/plain": [
       "#3:   0%|          | 0/9873 [00:00<?, ?ex/s]"
      ]
     },
     "metadata": {},
     "output_type": "display_data"
    },
    {
     "data": {
      "application/vnd.jupyter.widget-view+json": {
       "model_id": "5f0bac3dd3e0414490778431ef50c214",
       "version_major": 2,
       "version_minor": 0
      },
      "text/plain": [
       "#1:   0%|          | 0/9873 [00:00<?, ?ex/s]"
      ]
     },
     "metadata": {},
     "output_type": "display_data"
    },
    {
     "data": {
      "application/vnd.jupyter.widget-view+json": {
       "model_id": "54f8150ea56a46a1995cfc8f0e21ab33",
       "version_major": 2,
       "version_minor": 0
      },
      "text/plain": [
       "#2:   0%|          | 0/9873 [00:00<?, ?ex/s]"
      ]
     },
     "metadata": {},
     "output_type": "display_data"
    },
    {
     "data": {
      "application/vnd.jupyter.widget-view+json": {
       "model_id": "5e42484ad5e2487f9bea06ceb1d8e2cf",
       "version_major": 2,
       "version_minor": 0
      },
      "text/plain": [
       "#4:   0%|          | 0/9873 [00:00<?, ?ex/s]"
      ]
     },
     "metadata": {},
     "output_type": "display_data"
    },
    {
     "name": "stdout",
     "output_type": "stream",
     "text": [
      "          "
     ]
    },
    {
     "data": {
      "application/vnd.jupyter.widget-view+json": {
       "model_id": "e2c48ad656714695ab3a6799d08e2da6",
       "version_major": 2,
       "version_minor": 0
      },
      "text/plain": [
       "#0:   0%|          | 0/520 [00:00<?, ?ex/s]"
      ]
     },
     "metadata": {},
     "output_type": "display_data"
    },
    {
     "data": {
      "application/vnd.jupyter.widget-view+json": {
       "model_id": "e266c2c561cd47e1a7fc95b9aebd331a",
       "version_major": 2,
       "version_minor": 0
      },
      "text/plain": [
       "#1:   0%|          | 0/520 [00:00<?, ?ex/s]"
      ]
     },
     "metadata": {},
     "output_type": "display_data"
    },
    {
     "data": {
      "application/vnd.jupyter.widget-view+json": {
       "model_id": "098ba675c0cc497598cfabf75e4afab3",
       "version_major": 2,
       "version_minor": 0
      },
      "text/plain": [
       "#3:   0%|          | 0/520 [00:00<?, ?ex/s]"
      ]
     },
     "metadata": {},
     "output_type": "display_data"
    },
    {
     "data": {
      "application/vnd.jupyter.widget-view+json": {
       "model_id": "3b6e6c5e3d544b58b23cb1938dd5b4a4",
       "version_major": 2,
       "version_minor": 0
      },
      "text/plain": [
       "#2:   0%|          | 0/520 [00:00<?, ?ex/s]"
      ]
     },
     "metadata": {},
     "output_type": "display_data"
    },
    {
     "data": {
      "application/vnd.jupyter.widget-view+json": {
       "model_id": "8f004fb8ff6a4f28b88db9ce0d1e2033",
       "version_major": 2,
       "version_minor": 0
      },
      "text/plain": [
       "#4:   0%|          | 0/519 [00:00<?, ?ex/s]"
      ]
     },
     "metadata": {},
     "output_type": "display_data"
    }
   ],
   "source": [
    "tokenized_ds = dset_sft.map(preprocess_function, \n",
    "                      batched=False, \n",
    "                      num_proc=5, \n",
    "                      )"
   ]
  },
  {
   "cell_type": "code",
   "execution_count": null,
   "id": "d00d054f",
   "metadata": {},
   "outputs": [],
   "source": []
  }
 ],
 "metadata": {
  "kernelspec": {
   "display_name": "Python 3 (ipykernel)",
   "language": "python",
   "name": "python3"
  },
  "language_info": {
   "codemirror_mode": {
    "name": "ipython",
    "version": 3
   },
   "file_extension": ".py",
   "mimetype": "text/x-python",
   "name": "python",
   "nbconvert_exporter": "python",
   "pygments_lexer": "ipython3",
   "version": "3.9.12"
  }
 },
 "nbformat": 4,
 "nbformat_minor": 5
}
