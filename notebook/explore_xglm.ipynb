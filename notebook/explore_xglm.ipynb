{
 "cells": [
  {
   "cell_type": "code",
   "execution_count": 1,
   "id": "ea57039a",
   "metadata": {},
   "outputs": [],
   "source": [
    "import os\n",
    "os.environ[\"CUDA_VISIBLE_DEVICES\"]=\"0,1,2,3,4,5,6,7\""
   ]
  },
  {
   "cell_type": "code",
   "execution_count": 2,
   "id": "16f9d567",
   "metadata": {},
   "outputs": [
    {
     "name": "stderr",
     "output_type": "stream",
     "text": [
      "2023-02-24 05:13:45.918764: I tensorflow/core/platform/cpu_feature_guard.cc:193] This TensorFlow binary is optimized with oneAPI Deep Neural Network Library (oneDNN) to use the following CPU instructions in performance-critical operations:  AVX2 FMA\n",
      "To enable them in other operations, rebuild TensorFlow with the appropriate compiler flags.\n",
      "2023-02-24 05:13:49.068063: W tensorflow/compiler/xla/stream_executor/platform/default/dso_loader.cc:64] Could not load dynamic library 'libnvinfer.so.7'; dlerror: libnvinfer.so.7: cannot open shared object file: No such file or directory; LD_LIBRARY_PATH: /usr/local/cuda-11.7/lib64\n",
      "2023-02-24 05:13:49.068187: W tensorflow/compiler/xla/stream_executor/platform/default/dso_loader.cc:64] Could not load dynamic library 'libnvinfer_plugin.so.7'; dlerror: libnvinfer_plugin.so.7: cannot open shared object file: No such file or directory; LD_LIBRARY_PATH: /usr/local/cuda-11.7/lib64\n",
      "2023-02-24 05:13:49.068200: W tensorflow/compiler/tf2tensorrt/utils/py_utils.cc:38] TF-TRT Warning: Cannot dlopen some TensorRT libraries. If you would like to use Nvidia GPU with TensorRT, please make sure the missing libraries mentioned above are installed properly.\n"
     ]
    }
   ],
   "source": [
    "import torch\n",
    "from transformers import AutoTokenizer\n",
    "from trl import PPOTrainer, PPOConfig, AutoModelForCausalLMWithValueHead, create_reference_model\n",
    "from trl.core import respond_to_batch\n",
    "\n",
    "from pythainlp.corpus import thai_words\n",
    "import pandas as pd\n",
    "import numpy as np"
   ]
  },
  {
   "cell_type": "code",
   "execution_count": 3,
   "id": "e044c09b",
   "metadata": {},
   "outputs": [
    {
     "data": {
      "text/plain": [
       "device(type='cuda')"
      ]
     },
     "execution_count": 3,
     "metadata": {},
     "output_type": "execute_result"
    }
   ],
   "source": [
    "device = torch.device(\"cuda\") #ppo_trainer.accelerator.device\n",
    "device"
   ]
  },
  {
   "cell_type": "markdown",
   "id": "d2041a01",
   "metadata": {},
   "source": [
    "## Tokenizer"
   ]
  },
  {
   "cell_type": "code",
   "execution_count": 4,
   "id": "0fde050a",
   "metadata": {},
   "outputs": [],
   "source": [
    "import re\n",
    "\n",
    "def has_thai_char(string):\n",
    "    thai_char_regex = '[\\u0E00-\\u0E7F]+'\n",
    "    return re.search(thai_char_regex, string) is not None\n",
    "\n",
    "def has_english_char(string):\n",
    "    english_char_regex = '[\\x00-\\x7F]+'\n",
    "    return re.search(english_char_regex, string) is not None"
   ]
  },
  {
   "cell_type": "code",
   "execution_count": 5,
   "id": "07328828",
   "metadata": {},
   "outputs": [],
   "source": [
    "tokenizer_xglm = AutoTokenizer.from_pretrained('facebook/xglm-564M')\n",
    "tokenizer_mgpt = AutoTokenizer.from_pretrained('sberbank-ai/mGPT')\n",
    "tokenizer_gptj = AutoTokenizer.from_pretrained('EleutherAI/gpt-j-6B')\n",
    "#'EleutherAI/gpt-neox-20b', EleutherAI/gpt-j-6B,'EleutherAI/gpt-neo-2.7B'"
   ]
  },
  {
   "cell_type": "markdown",
   "id": "cbaf037a",
   "metadata": {},
   "source": [
    "### Token Granularity"
   ]
  },
  {
   "cell_type": "code",
   "execution_count": 6,
   "id": "66d89878",
   "metadata": {},
   "outputs": [
    {
     "data": {
      "text/plain": [
       "(4226, 256008, 0.016507296646979783)"
      ]
     },
     "execution_count": 6,
     "metadata": {},
     "output_type": "execute_result"
    }
   ],
   "source": [
    "#% thai subwords; xglm\n",
    "thai_toks = [i for i in tokenizer_xglm.vocab if has_thai_char(i)]\n",
    "len(thai_toks), len(tokenizer_xglm.vocab), len(thai_toks) / len(tokenizer_xglm.vocab)"
   ]
  },
  {
   "cell_type": "code",
   "execution_count": 7,
   "id": "99d2d43c",
   "metadata": {},
   "outputs": [
    {
     "data": {
      "text/plain": [
       "(143413, 256008, 0.5601895253273336)"
      ]
     },
     "execution_count": 7,
     "metadata": {},
     "output_type": "execute_result"
    }
   ],
   "source": [
    "#% eng subwords; xglm\n",
    "eng_toks = [i for i in tokenizer_xglm.vocab if has_english_char(i)]\n",
    "len(eng_toks), len(tokenizer_xglm.vocab), len(eng_toks) / len(tokenizer_xglm.vocab)"
   ]
  },
  {
   "cell_type": "code",
   "execution_count": 8,
   "id": "415b5016",
   "metadata": {},
   "outputs": [
    {
     "data": {
      "text/plain": [
       "(0, 100000, 0.0)"
      ]
     },
     "execution_count": 8,
     "metadata": {},
     "output_type": "execute_result"
    }
   ],
   "source": [
    "#% thai subwords; mgpt\n",
    "thai_toks = [i for i in tokenizer_mgpt.vocab if has_thai_char(i)]\n",
    "len(thai_toks), len(tokenizer_mgpt.vocab), len(thai_toks) / len(tokenizer_mgpt.vocab)"
   ]
  },
  {
   "cell_type": "code",
   "execution_count": 9,
   "id": "714b038a",
   "metadata": {},
   "outputs": [
    {
     "data": {
      "text/plain": [
       "(65524, 100000, 0.65524)"
      ]
     },
     "execution_count": 9,
     "metadata": {},
     "output_type": "execute_result"
    }
   ],
   "source": [
    "#% eng subwords; mgpt\n",
    "eng_toks = [i for i in tokenizer_mgpt.vocab if has_english_char(i)]\n",
    "len(eng_toks), len(tokenizer_mgpt.vocab), len(eng_toks) / len(tokenizer_mgpt.vocab)"
   ]
  },
  {
   "cell_type": "code",
   "execution_count": 10,
   "id": "ee28fe1b",
   "metadata": {},
   "outputs": [
    {
     "data": {
      "text/plain": [
       "(0, 50400, 0.0)"
      ]
     },
     "execution_count": 10,
     "metadata": {},
     "output_type": "execute_result"
    }
   ],
   "source": [
    "#% thai subwords; gptj\n",
    "thai_toks = [i for i in tokenizer_gptj.vocab if has_thai_char(i)]\n",
    "len(thai_toks), len(tokenizer_gptj.vocab), len(thai_toks) / len(tokenizer_gptj.vocab)"
   ]
  },
  {
   "cell_type": "code",
   "execution_count": 11,
   "id": "ad47b2a7",
   "metadata": {},
   "outputs": [
    {
     "data": {
      "text/plain": [
       "(49565, 50400, 0.9834325396825396)"
      ]
     },
     "execution_count": 11,
     "metadata": {},
     "output_type": "execute_result"
    }
   ],
   "source": [
    "#% eng subwords; gptj\n",
    "eng_toks = [i for i in tokenizer_gptj.vocab if has_english_char(i)]\n",
    "len(eng_toks), len(tokenizer_gptj.vocab), len(eng_toks) / len(tokenizer_gptj.vocab)"
   ]
  },
  {
   "cell_type": "code",
   "execution_count": 12,
   "id": "cf542e7e",
   "metadata": {},
   "outputs": [],
   "source": [
    "thai_words_df = pd.DataFrame({'thai_word': list(thai_words())})\n",
    "thai_words_df['xglm_tokens'] = thai_words_df\\\n",
    "    .thai_word.map(lambda x: [tokenizer_xglm.decode(i) for i in tokenizer_xglm.encode(x)])\n",
    "thai_words_df['xglm_nb_tokens'] = thai_words_df['xglm_tokens'].map(lambda x: len(x))\n",
    "thai_words_df['mgpt_tokens'] = thai_words_df\\\n",
    "    .thai_word.map(lambda x: [tokenizer_mgpt.decode(i) for i in tokenizer_mgpt.encode(x)])\n",
    "thai_words_df['mgpt_nb_tokens'] = thai_words_df['mgpt_tokens'].map(lambda x: len(x))\n",
    "thai_words_df['gptj_tokens'] = thai_words_df\\\n",
    "    .thai_word.map(lambda x: [tokenizer_gptj.decode(i) for i in tokenizer_gptj.encode(x)])\n",
    "thai_words_df['gptj_nb_tokens'] = thai_words_df['gptj_tokens'].map(lambda x: len(x))"
   ]
  },
  {
   "cell_type": "code",
   "execution_count": 13,
   "id": "07e1c682",
   "metadata": {},
   "outputs": [
    {
     "data": {
      "text/html": [
       "<div>\n",
       "<style scoped>\n",
       "    .dataframe tbody tr th:only-of-type {\n",
       "        vertical-align: middle;\n",
       "    }\n",
       "\n",
       "    .dataframe tbody tr th {\n",
       "        vertical-align: top;\n",
       "    }\n",
       "\n",
       "    .dataframe thead th {\n",
       "        text-align: right;\n",
       "    }\n",
       "</style>\n",
       "<table border=\"1\" class=\"dataframe\">\n",
       "  <thead>\n",
       "    <tr style=\"text-align: right;\">\n",
       "      <th></th>\n",
       "      <th>thai_word</th>\n",
       "      <th>xglm_tokens</th>\n",
       "      <th>xglm_nb_tokens</th>\n",
       "      <th>mgpt_tokens</th>\n",
       "      <th>mgpt_nb_tokens</th>\n",
       "      <th>gptj_tokens</th>\n",
       "      <th>gptj_nb_tokens</th>\n",
       "    </tr>\n",
       "  </thead>\n",
       "  <tbody>\n",
       "    <tr>\n",
       "      <th>0</th>\n",
       "      <td>ปอ.พ.</td>\n",
       "      <td>[&lt;/s&gt;, , ปอ, ., พ, .]</td>\n",
       "      <td>6</td>\n",
       "      <td>[ป, อ, ., พ, .]</td>\n",
       "      <td>5</td>\n",
       "      <td>[�, �, �, �, ., �, �, .]</td>\n",
       "      <td>8</td>\n",
       "    </tr>\n",
       "    <tr>\n",
       "      <th>1</th>\n",
       "      <td>การพร่อง</td>\n",
       "      <td>[&lt;/s&gt;, การ, พร, ่อง]</td>\n",
       "      <td>4</td>\n",
       "      <td>[การ, พร, ่, อง]</td>\n",
       "      <td>4</td>\n",
       "      <td>[�, �, �, �, �, �, �, �, �, �, �, �, �, �, �, �]</td>\n",
       "      <td>16</td>\n",
       "    </tr>\n",
       "    <tr>\n",
       "      <th>2</th>\n",
       "      <td>นักษัตรโยค</td>\n",
       "      <td>[&lt;/s&gt;, น, ักษ, ัตร, โย, ค]</td>\n",
       "      <td>6</td>\n",
       "      <td>[น, ั, กษ, ั, ตร, โย, ค]</td>\n",
       "      <td>7</td>\n",
       "      <td>[�, �, �, �, �, �, �, �, �, �, �, �, �, �, �, ...</td>\n",
       "      <td>20</td>\n",
       "    </tr>\n",
       "    <tr>\n",
       "      <th>3</th>\n",
       "      <td>เคลี้ยคลิง</td>\n",
       "      <td>[&lt;/s&gt;, , เคล, ี้ย, ค, ลิง]</td>\n",
       "      <td>6</td>\n",
       "      <td>[เคล, ี้, ย, คล, ิ, ง]</td>\n",
       "      <td>6</td>\n",
       "      <td>[�, �, �, �, �, �, �, �, �, �, �, �, �, �, �, ...</td>\n",
       "      <td>20</td>\n",
       "    </tr>\n",
       "    <tr>\n",
       "      <th>4</th>\n",
       "      <td>ผู้วิจารณ์</td>\n",
       "      <td>[&lt;/s&gt;, ผู้, วิจ, ารณ์]</td>\n",
       "      <td>4</td>\n",
       "      <td>[ผ, ู้, ว, ิ, จ, ารณ, ์]</td>\n",
       "      <td>7</td>\n",
       "      <td>[�, �, �, �, �, �, �, �, �, �, �, �, �, �, �, ...</td>\n",
       "      <td>20</td>\n",
       "    </tr>\n",
       "    <tr>\n",
       "      <th>5</th>\n",
       "      <td>ยัชมาน</td>\n",
       "      <td>[&lt;/s&gt;, ย, ัช, มาน]</td>\n",
       "      <td>4</td>\n",
       "      <td>[ย, ั, ช, ม, าน]</td>\n",
       "      <td>5</td>\n",
       "      <td>[�, �, �, �, �, �, �, �, �, �, �, �]</td>\n",
       "      <td>12</td>\n",
       "    </tr>\n",
       "    <tr>\n",
       "      <th>6</th>\n",
       "      <td>มาลัยชายเดียว</td>\n",
       "      <td>[&lt;/s&gt;, ม, าลัย, ชาย, เดียว]</td>\n",
       "      <td>5</td>\n",
       "      <td>[ม, าล, ั, ย, ชาย, เด, ี, ยว]</td>\n",
       "      <td>8</td>\n",
       "      <td>[�, �, �, �, �, �, �, �, �, �, �, �, �, �, �, ...</td>\n",
       "      <td>26</td>\n",
       "    </tr>\n",
       "    <tr>\n",
       "      <th>7</th>\n",
       "      <td>จ้างงาน</td>\n",
       "      <td>[&lt;/s&gt;, , จ้าง, งาน]</td>\n",
       "      <td>4</td>\n",
       "      <td>[จ, ้, าง, งาน]</td>\n",
       "      <td>4</td>\n",
       "      <td>[�, �, �, �, �, �, �, �, �, �, �, �, �, �]</td>\n",
       "      <td>14</td>\n",
       "    </tr>\n",
       "    <tr>\n",
       "      <th>8</th>\n",
       "      <td>บันดาลใจ</td>\n",
       "      <td>[&lt;/s&gt;, บ, ัน, ดา, ล, ใจ]</td>\n",
       "      <td>6</td>\n",
       "      <td>[บ, ั, นด, าล, ใจ]</td>\n",
       "      <td>5</td>\n",
       "      <td>[�, �, �, �, �, �, �, �, �, �, �, �, �, �, �, �]</td>\n",
       "      <td>16</td>\n",
       "    </tr>\n",
       "    <tr>\n",
       "      <th>9</th>\n",
       "      <td>เอ่ย</td>\n",
       "      <td>[&lt;/s&gt;, เอ, ่ย]</td>\n",
       "      <td>3</td>\n",
       "      <td>[เอ, ่, ย]</td>\n",
       "      <td>3</td>\n",
       "      <td>[�, �, �, �, �, �, �, �]</td>\n",
       "      <td>8</td>\n",
       "    </tr>\n",
       "  </tbody>\n",
       "</table>\n",
       "</div>"
      ],
      "text/plain": [
       "       thai_word                  xglm_tokens  xglm_nb_tokens  \\\n",
       "0          ปอ.พ.        [</s>, , ปอ, ., พ, .]               6   \n",
       "1       การพร่อง         [</s>, การ, พร, ่อง]               4   \n",
       "2     นักษัตรโยค   [</s>, น, ักษ, ัตร, โย, ค]               6   \n",
       "3     เคลี้ยคลิง   [</s>, , เคล, ี้ย, ค, ลิง]               6   \n",
       "4     ผู้วิจารณ์       [</s>, ผู้, วิจ, ารณ์]               4   \n",
       "5         ยัชมาน           [</s>, ย, ัช, มาน]               4   \n",
       "6  มาลัยชายเดียว  [</s>, ม, าลัย, ชาย, เดียว]               5   \n",
       "7        จ้างงาน          [</s>, , จ้าง, งาน]               4   \n",
       "8       บันดาลใจ     [</s>, บ, ัน, ดา, ล, ใจ]               6   \n",
       "9           เอ่ย               [</s>, เอ, ่ย]               3   \n",
       "\n",
       "                     mgpt_tokens  mgpt_nb_tokens  \\\n",
       "0                [ป, อ, ., พ, .]               5   \n",
       "1               [การ, พร, ่, อง]               4   \n",
       "2       [น, ั, กษ, ั, ตร, โย, ค]               7   \n",
       "3         [เคล, ี้, ย, คล, ิ, ง]               6   \n",
       "4       [ผ, ู้, ว, ิ, จ, ารณ, ์]               7   \n",
       "5               [ย, ั, ช, ม, าน]               5   \n",
       "6  [ม, าล, ั, ย, ชาย, เด, ี, ยว]               8   \n",
       "7                [จ, ้, าง, งาน]               4   \n",
       "8             [บ, ั, นด, าล, ใจ]               5   \n",
       "9                     [เอ, ่, ย]               3   \n",
       "\n",
       "                                         gptj_tokens  gptj_nb_tokens  \n",
       "0                           [�, �, �, �, ., �, �, .]               8  \n",
       "1   [�, �, �, �, �, �, �, �, �, �, �, �, �, �, �, �]              16  \n",
       "2  [�, �, �, �, �, �, �, �, �, �, �, �, �, �, �, ...              20  \n",
       "3  [�, �, �, �, �, �, �, �, �, �, �, �, �, �, �, ...              20  \n",
       "4  [�, �, �, �, �, �, �, �, �, �, �, �, �, �, �, ...              20  \n",
       "5               [�, �, �, �, �, �, �, �, �, �, �, �]              12  \n",
       "6  [�, �, �, �, �, �, �, �, �, �, �, �, �, �, �, ...              26  \n",
       "7         [�, �, �, �, �, �, �, �, �, �, �, �, �, �]              14  \n",
       "8   [�, �, �, �, �, �, �, �, �, �, �, �, �, �, �, �]              16  \n",
       "9                           [�, �, �, �, �, �, �, �]               8  "
      ]
     },
     "execution_count": 13,
     "metadata": {},
     "output_type": "execute_result"
    }
   ],
   "source": [
    "thai_words_df.head(10)"
   ]
  },
  {
   "cell_type": "code",
   "execution_count": 14,
   "id": "fa491d35",
   "metadata": {},
   "outputs": [
    {
     "data": {
      "text/plain": [
       "<AxesSubplot:>"
      ]
     },
     "execution_count": 14,
     "metadata": {},
     "output_type": "execute_result"
    },
    {
     "data": {
      "image/png": "[encoded data removed]",
      "text/plain": [
       "<Figure size 640x480 with 1 Axes>"
      ]
     },
     "metadata": {},
     "output_type": "display_data"
    }
   ],
   "source": [
    "thai_words_df['diff_nb_tokens'] = thai_words_df.xglm_nb_tokens - 1 - thai_words_df.mgpt_nb_tokens\n",
    "thai_words_df.diff_nb_tokens.hist(bins=10)"
   ]
  },
  {
   "cell_type": "code",
   "execution_count": 15,
   "id": "879e1b08",
   "metadata": {},
   "outputs": [
    {
     "data": {
      "text/plain": [
       "array([-19.,  -4.,  -3.,  -2.,  -2.,  -1.,  -1.,  -1.,   0.,   0.])"
      ]
     },
     "execution_count": 15,
     "metadata": {},
     "output_type": "execute_result"
    }
   ],
   "source": [
    "#about 80% of the cases xglm tokenizes to fewer tokens\n",
    "np.percentile(thai_words_df.diff_nb_tokens, np.arange(0, 100, 10))"
   ]
  },
  {
   "cell_type": "markdown",
   "id": "ceaa99ff",
   "metadata": {},
   "source": [
    "### Fitting Sequence Length"
   ]
  },
  {
   "cell_type": "code",
   "execution_count": 16,
   "id": "244b878d",
   "metadata": {},
   "outputs": [
    {
     "name": "stderr",
     "output_type": "stream",
     "text": [
      "Found cached dataset iapp_wiki_qa_squad (/home/charipol/.cache/huggingface/datasets/iapp_wiki_qa_squad/iapp_wiki_qa_squad/1.0.0/c1455d806e5a66ca9ee5c03b4aeaeaef4410afca6263c0bfb440ff1db28e20c3)\n"
     ]
    },
    {
     "data": {
      "application/vnd.jupyter.widget-view+json": {
       "model_id": "7fd6b183ff984db1b1c5010ad4d57f11",
       "version_major": 2,
       "version_minor": 0
      },
      "text/plain": [
       "  0%|          | 0/3 [00:00<?, ?it/s]"
      ]
     },
     "metadata": {},
     "output_type": "display_data"
    },
    {
     "data": {
      "text/plain": [
       "DatasetDict({\n",
       "    train: Dataset({\n",
       "        features: ['question_id', 'article_id', 'title', 'context', 'question', 'answers'],\n",
       "        num_rows: 5761\n",
       "    })\n",
       "    validation: Dataset({\n",
       "        features: ['question_id', 'article_id', 'title', 'context', 'question', 'answers'],\n",
       "        num_rows: 742\n",
       "    })\n",
       "    test: Dataset({\n",
       "        features: ['question_id', 'article_id', 'title', 'context', 'question', 'answers'],\n",
       "        num_rows: 739\n",
       "    })\n",
       "})"
      ]
     },
     "execution_count": 16,
     "metadata": {},
     "output_type": "execute_result"
    }
   ],
   "source": [
    "from datasets import load_dataset\n",
    "\n",
    "iapp = load_dataset('iapp_wiki_qa_squad')\n",
    "iapp"
   ]
  },
  {
   "cell_type": "code",
   "execution_count": 17,
   "id": "9d589ab5",
   "metadata": {},
   "outputs": [
    {
     "name": "stderr",
     "output_type": "stream",
     "text": [
      "Token indices sequence length is longer than the specified maximum sequence length for this model (2196 > 2048). Running this sequence through the model will result in indexing errors\n"
     ]
    }
   ],
   "source": [
    "ds = []\n",
    "for i in iapp['train']:\n",
    "    ds.append({'concat': f\"C: {i['context']} Q:{i['question']} A:{i['answers']['text'][0]}\"})\n",
    "iapp_df = pd.DataFrame(ds)\n",
    "iapp_df['nb_tokens'] = iapp_df.concat.map(lambda x: len(tokenizer_xglm.encode(x)))"
   ]
  },
  {
   "cell_type": "code",
   "execution_count": 18,
   "id": "8c8532ea",
   "metadata": {},
   "outputs": [
    {
     "data": {
      "text/plain": [
       "array([ 41., 106., 142., 179., 215., 255., 298., 346., 427., 563.])"
      ]
     },
     "execution_count": 18,
     "metadata": {},
     "output_type": "execute_result"
    }
   ],
   "source": [
    "#90% is less than 563 tokens\n",
    "np.percentile(iapp_df.nb_tokens, np.arange(0, 100, 10))"
   ]
  },
  {
   "cell_type": "code",
   "execution_count": 19,
   "id": "06ff2bed",
   "metadata": {},
   "outputs": [
    {
     "data": {
      "text/plain": [
       "(0.12324249262280854, (5761, 2))"
      ]
     },
     "execution_count": 19,
     "metadata": {},
     "output_type": "execute_result"
    }
   ],
   "source": [
    "(iapp_df.nb_tokens>512).mean(), iapp_df.shape"
   ]
  },
  {
   "cell_type": "code",
   "execution_count": 20,
   "id": "4a03f7ff",
   "metadata": {},
   "outputs": [
    {
     "data": {
      "text/plain": [
       "<AxesSubplot:>"
      ]
     },
     "execution_count": 20,
     "metadata": {},
     "output_type": "execute_result"
    },
    {
     "data": {
      "image/png": "[encoded data removed]",
      "text/plain": [
       "<Figure size 640x480 with 1 Axes>"
      ]
     },
     "metadata": {},
     "output_type": "display_data"
    }
   ],
   "source": [
    "iapp_df['nb_tokens'].hist()"
   ]
  },
  {
   "cell_type": "markdown",
   "id": "ec3ded98",
   "metadata": {},
   "source": [
    "## Few-shot Inferences"
   ]
  },
  {
   "cell_type": "code",
   "execution_count": 27,
   "id": "1c9d7634",
   "metadata": {},
   "outputs": [],
   "source": [
    "pretrained = 'facebook/xglm-564M'\n",
    "tokenizer = AutoTokenizer.from_pretrained(pretrained)\n",
    "model = AutoModelForCausalLMWithValueHead.from_pretrained(pretrained).to(device)\n",
    "model_ref = create_reference_model(model).to(\"cuda\")"
   ]
  },
  {
   "cell_type": "code",
   "execution_count": 28,
   "id": "ac94f2bf",
   "metadata": {},
   "outputs": [],
   "source": [
    "# initialize trainer\n",
    "ppo_config = PPOConfig(\n",
    "    batch_size=1,\n",
    "    forward_batch_size=1\n",
    ")\n",
    "ppo_trainer = PPOTrainer(ppo_config, model, model_ref, tokenizer)"
   ]
  },
  {
   "cell_type": "code",
   "execution_count": 29,
   "id": "45e37801",
   "metadata": {},
   "outputs": [
    {
     "data": {
      "text/plain": [
       "'</s> Q: ทีมไรเมพสุดในเกาะอังกฤษ A: เราอาจจะเลือกเกมที่ต้องการแข่งน้อยกว่าคู่ต่อสู้ของเราในช่วงครึ่งแรก</s>'"
      ]
     },
     "execution_count": 29,
     "metadata": {},
     "output_type": "execute_result"
    }
   ],
   "source": [
    "# encode a query\n",
    "query_txt = \"Q: ทีมไรเมพสุดในเกาะอังกฤษ A:\"\n",
    "query_tensor = tokenizer.encode(query_txt, return_tensors=\"pt\").to(device)\n",
    "\n",
    "# get model response\n",
    "response_tensor  = respond_to_batch(model_ref, query_tensor,\n",
    "                                   txt_len=512, top_k=0, top_p=1.,\n",
    "                                   end=2)\n",
    "tokenizer.decode(response_tensor[0])"
   ]
  },
  {
   "cell_type": "code",
   "execution_count": 30,
   "id": "e71783bd",
   "metadata": {},
   "outputs": [],
   "source": [
    "# encode a batch of queries\n",
    "query_txt = [\"Q: ทีมฟุตบอลทีมไหนเก่งที่สุดในเกาะอังกฤษ? A:\" for i in range(16)]\n",
    "query_tensor = tokenizer(text=query_txt, return_tensors=\"pt\").to(device)"
   ]
  },
  {
   "cell_type": "code",
   "execution_count": 31,
   "id": "87c64f3e",
   "metadata": {},
   "outputs": [
    {
     "name": "stdout",
     "output_type": "stream",
     "text": [
      "CPU times: user 16.4 s, sys: 6.42 s, total: 22.8 s\n",
      "Wall time: 17.4 s\n"
     ]
    }
   ],
   "source": [
    "%%time\n",
    "response_tensor  = respond_to_batch(model_ref, query_tensor['input_ids'],\n",
    "                                   txt_len=128, top_k=0, top_p=1.)"
   ]
  },
  {
   "cell_type": "code",
   "execution_count": 32,
   "id": "e2bccca3",
   "metadata": {},
   "outputs": [
    {
     "data": {
      "text/plain": [
       "['เดอะเชฟฟิลด์ เวนเจอร์ส กรุณาแย่งตําแหน่ง</s> ถ้าราวี” ผลงานโดดเด่น ผลงานล่าสุดในเอเอฟซีแชมเปี้ยนส์ลีก 6 เกมหลังสุดทําประตู 36, จบ 45 นัด</s> โชเซ่ มูรินโญ่ กุนซือชาวโปรตุเกส แชมป์แชมป์ลีก 2 สมัย ในอาคันตุกะตลอด 8 ปีที่สร้างชื่อด้วยการพาทีมคว้าแชมป์ลีกมา 1 ฤดูกาลก่อน ปรากฎว่าผลงานฤดูนี้ดร็อปให้เห็นจนได้ จากฟอร์ม 9 นัด 19 ประตู</s> เริ่มเกมขึ้นมาเพียง 2 นาที มีผู้เล่นเพียง 10 คน',\n",
       " 'ฮิลล์ ยูไนเต็ด (Ireland) - ชนะ Lancaster Rovers (England) 3-2, Richmond Rovers (England) ชนะ Notts County (South Wales) 2-2, Theysley Sneijder (Germany) ชนะ Bristol City (England) 0-1, เสีย <unk>10 ล้านให้ BSkyB 848 เท่า zur Woche (อังกฤษ 3%), Edeians (Netherlands) - ชนะ <unk>20 ล้านให้ EDC (Nordic • European) 388 เท่า zur Woche (อังกฤษ 7%), <unk>30 ล้านให้ เอล ซัลโล (Holland • Holland) ',\n",
       " 'ไป</s> 2.ราชสดุดีสุทธารดลย์ ชนะเยอรมัน 4:1</s> 3.เยอรมันคว้าถ้วยลงประเมิณ ได้เดนเวอร์,</s> 4.เพื่อนร่วมทีมที่ดีที่สุดทีมหนึ่ง ชนะลิเมอรัล พรีเมียร์ลีก ชนะพอร์ทแลนด์ 3-2</s> 5. โมวิช จีบเคร๊มเปิล ชนะเวลส์ ออร์แลน 2-0</s> ผลงานอื่น ๆ ของ SUGAMETBALL สามารถดูได้ที่</s> สํานักงานใหญ่ บริษัท ไทยเดนเทิร์นโกลบอล จํากัด ถนนกรุงเทพฯ ปิ่นเกล้า โทรศัพท์ 0-2452-2230 อีเมล์ contact@sugamet',\n",
       " 'การกูรูฟุตบอลเกาะอังกฤษดังเช่นที่ชาวอังกฤษนักวิจารณ์หลายคนเอ่ยปากฟันธงในปีนี้คือ ทีมน็อคเอาท์ทีมยอดนิยม 4 ของโลกที่สุดเท่าที่พวกเขาเคยท่องเอาไว้ และมันก็เป็นเหมือนการชดเชยหากทีมเหล่านั้นไม่เคยอยู่ในอันดับต้นๆในกลุ่ม G มาก่อน ถ้าหากผลปรากฎว่าพวกเขาพอที่จะขึ้นมาอยู่อันดับสองนั้น...</s> เอฟเวอร์ตันเปิดรังทุบคู่แข่งรวดในเกมจัลสแยงด์ 233-120</s> ไบรท์ตันเปิดรังเจ๊าวัตฟอร์ดรวดด้วยสกอร์ 3-2</s> คอรุนญ่า',\n",
       " 'ไม่มีโครตซี้ดแน่นอน เพราะฟุตบอลเหมือนพวก Easy Lemon, Green Potato, Magic...</s> Q: ติดฟันแล้วทําไม เรายังใช้มีดฟันได้?</s> A: ไม่ได้ติดฟันแพ้เหล็กนะ แต่นิ้วนั้นเข้ามาในช่วงฟันแล้วฟันเล่าเพราะรู้สึกไม่สบายตัว และหน้ามันกลายเป็นสีแซมๆ อับๆ แบบขาดไม่ได้</s> Q: ผลเป็นไงบ้าง? A: ไม่แพ้ค่ะ และยังเป็นความเร็วที่ดีมากๆ มีความนิ่งในการวิ่งจังหวะ ตลอดแต่ละรอบ</s> Q: เมื่อเทียบกับทีมชาติเป็นอย่างไรครับ? A: สกอร์มันดูดีเลยทีเดียว ถึงแม้ว่าเราจะยังห่างจากรุ่นน้องถือว่า',\n",
       " 'ยูเว่ ความแข็งแกร่งคือทีมตัวจริง</s> June 7, 2018 in Football to: วีแกน ไข่มุกดํา, แกรนฟอร์ด, หงส์แดง, แมนฯซิตี้</s> เวอร์จิล ฟาน ไดค์ กองกลางกัปตันทีมของแมนเชสเตอร์ ยูไนเต็ด เซ็นสัญญาขยายสัญญากับทีมออกไปจนถึงปี 2023</s> “ฟาน ไดค์ เป็นสุดยอดนักเตะคนหนึ่ง เขาอยู่และอยู่กับทีมต่อไปยาวนาน เขาเล่นได้อย่างยอดเยี่ยม เขาพัฒนาขึ้นมาก ผมขอให้เขาพักที่นี่นานที่สุดเท่าที่จะทําได้ เขาสุดยอดมาก” โบรุสเซียดอร์ทมุนด์ สื่อดังเมืองผู้ดี',\n",
       " \"เป็นปี 1983 หลังใช้ทองคําจากเกมส์ให้ทีม UNITED นั้นสร้างผลงานได้ดี</s> Wonder Boys ทีมจากโอคแลนด์เคยสร้างผลงานในเมื่อปี 1979 หลังใช้เงินจากการพยายามในการกวาดตัวแทนของกีฬาอีกหลายรายการอย่าง Clash of the Titans and WizKings ซึ่งในปี 1987 ทีมนี้ก็สร้างผลงานได้ดีด้วยหนึ่งในห้าประตูและคว้าแชมป์ไปครอง</s> ปี 1999 ทีม เด็กชาย James Harris ชนะการแข่งขันที่ rugby's biggest competition the MMEQ Championship ทําให้พวกเขาเป็นตัวแทนจากประเทศอังกฤษไปแข่งขันในการแข่งขันของออสเตรเลียในรอบชิงๆๆ เกมนัดชิงโลก</s> ปี 2000 เกมเมื่อ Kareler, Mheld\",\n",
       " 'ฟุตบอลทีมชาติอังกฤษมีนักเตะที่ดีที่สุดเพียง 13 คน ดังนี้...ซิตี-พาร์ติซาเลซ-โคลิซิโอ-เปแอสเช ทีมอันดับ 2 และ 3 เราต่างก็เต็มไปด้วยนักเตะที่เก่งมาก แต่ตอนนี้ทีมรักของเราคือแอสตัน วิลล่า โดยไลรอย ซาเนตามา (Albanian Shooting Star Rene Sedeveira ) ในวัย 34 ปีนั้น ต้องยกให้เขาเป็นตัวเลือกที่ยอดเยี่ยมและแน่นอน เขาคือแชมป์เอฟซ่า แชมเปี้ยนส์ลีก ผู้รักษาประตูคนใหม่ในฤดูกาลนี้ เรา ‘Gloria Underglow’ ได้แม้นักเตะรายแรกของปี (ไม่มีใครมาก',\n",
       " 'ด้วยทีมฟุตบอลที่มีชุดแข่งหลากหลาย และสามารถพบปะผู้คนจากทั่วทุกมุมโลกได้อย่างรวดเร็ว กุนซือของทีมคือ ติโม แวร์เนอร์</s> สูตร แทง บอล เต็ง เสือมังกร แอฟริกาใต้</s> เว็บพนันออนไลน์ ปธ.ปารีสชี้ บาร์ซ่าน่าชิงดีชิงเด่น</s> UFABET วิเคราะห์บอล สปอร์ติ้ง ลิสบอน มอสโก</s> UFABET HOT โชเซ่ มูรินโญ่: ซีซั่นหน้าผมไม่ขอมาดูท็อปโฟร์เหมือนคนที่ในฟุตบอลโลก</s></s> สูตรมะพร้าว',\n",
       " 'แน่นอนว่า ลิเวอร์พูล ในปีนี้ เป็นทีมที่เก่งที่สุดของทุกเกรดตั้งแต่เริ่มจนจบฤดูกาล และมีการลุ้นแชมป์ในทุกระดับอย่างชัดเจน แต่ต้องเลี่ยงว่าเป็นทีมที่อาจจะมีวงจรการกุศลอันไม่เป็นธรรมมา ซึ่งระยะเวลาดังกล่าวมันไม่เท่ากับปีที่ผ่านมาทั้งที่พวกเขากําลังคลุกคลีกับคาราบัค ซึ่งถือว่ายอดเยี่ยม ขณะที่ทรงมีศักยภาพสูงเช่นกัน แต่พรีเมียร์ลีกก็ถือว่าทําให้พวกเขามีช่องทางที่จะเข้าถึงเด็กๆน้อยๆ ได้มากขึ้น</s> โอลิมปิก มาร์กเซย: พวกเขาก็ไม่พบกับ FC Bayern of Frankfurt ทางด้านสโมสรเอสปันญ่อล (โคล',\n",
       " 'The latest statistics tell different. wetwws.com ของทีมระดับวีกนี้เป็นทีมเดียวที่มีคะแนนนําทั้งหมดอยู่ในขณะนี้และหลังจากเกมที่จะเล่นในรอบแรกพวกเขาทําให้พวกเขาออกโดยไม่มีแฟนบอลอยู่ในสนาม (แข่งกัน 84 ล้ม 55 ชนะ 53 ได้คะแนน 67 และ เสียคะแนน 38 คะแนนต่อการชนะ) รวบรวม 27 เกมสุดท้ายในปีที่ผ่านมาของสโมสรฟุตบอลอังกฤษในขณะที่พวกเขามีผู้เล่นของทีมที่ดีที่สุดสําหรับการแข่งขันในเดือนพฤศจิกายนที่ผ่านมาสามารถมีแนวโน้มในการเล่นได้ดีขึ้น (ผู้เล่นเข้าชม 67,426,551 การแข่งขัน / เสียชีวิต 82,660) เห็นได้ชัดว่าเป็นที่แน่นอนว่าทําไมเห',\n",
       " 'ทีมของลูก้า โมดริช, อาเดวิด โลเปซ, กูโด้ บัตเตอร์ จาก ปิซฆวน โดจี และเป็นทีมสวนทางทีมทอฟฟี่ ลิเวอร์พูล</s> นักเตะระดับทวีปอย่าง อองโตนี่ มาร์กซิยาล และ โคเวซิล เฆเซริเกส ทําให้ทีมดีขึ้นจากชั้นที่เคยมีคนร่วมทีมมากที่สุด รวมทั้งปีกดาวรุ่งเลย เขาเป็นหนึ่งในดาวรุ่งที่ทํางานกับปล่อยบอลให้ทีมอย่าง ซิโก้, น้ามู, มูรินโญ่ และหลายทีมในพรีเมียร์ลีก ไม่ว่าจะเป็น แมนฯ ยูไนเต็ด หรือ กรีซ',\n",
       " 'อันดับ 1 ทีมเยือนนํา”เดอะ ซันจูเนียร์”ทีมจากอังกฤษ 1 ต.ค. 56 เวลา 17.00 น.</s> เพลง - สไตล์เพลง : เธอสู้แล้ว (Ramp Up)</s> เพลง - คอร์ดกีตาร์ และการเล่นสําเนียงสําเนียง</s> เพลง - เธอเก่งได้ฉันดาย (Get It)</s> เพลง - เรื่องไม่ถึงฝัน (Good Luck)</s> เพลง - ฉันก็พอ (Sex And The City)</s> เจสสิก้า อลิซาเบธ – แต่...ใจใครสักคน เสียงเพลงฮิตติดหูในยามเช้า</s></s>...เพลงกิน ย',\n",
       " 'ฟุตบอลกลางแจ้งคือทีมอังกฤษที่มีเกมบิดมากที่สุด มีรางวัล Most Valuable Players จากประชากรและแข้งยอดเยี่ยมยอดเยี่ยม ในปีนี้การแข่งขันฟุตบอลพรีเมียร์ลีกอังกฤษยังสร้างชื่อไว้ 10 สโมสร กองหลังอย่างกองหน้าทั้ง 9 รายและซุปเปอร์สตาร์ลูกครึ่งฮังการี สิงคโปร์ และ ฝรั่งเศส ส่วนนักเตะคนอื่นๆเสริมกันว่าทีมที่มีผู้เล่นมาเต็มก็ปาเข้าไปแสนคน</s> เนื่องจากเกมนี้ฟุตบอลสาววัยเก๋าหลายคนกลัวเล่นทีมที่แพ้ผิดหมดจึงไม่มีทีมสาวไทยเท่าที่ควร ดังนั้นตอนนี้รัฐบาลไทยออกนโยบายสําหรับนักเรียนปีแรกทันทีขอให้ใช้ห้องเรียนหญิงใช้แบบกับ',\n",
       " 'ทีมฟุตบอลนกใหญ่โต (2010) ทีมฟุตบอลทีมเหล่านี้เล่นดีมากและเล่นออกมาสูงเกินมาตรฐานของทางยุโรป (ที่ต่างหัวกันมาก) และประสบความสําเร็จในการได้เงิน (และเงิน!) รวยมาก (แผนการนี้เกิดขึ้นในยุคยุค Sunset Boulevard-พวกเขาจะทํามาหากินด้วยกีฬาสูง การซื้อขายฟุตบอล) โดยเฉพาะในช่วงคริสต์ซุปเปอร์ซัมเมอร์นี้ งานรวบรวมก็เป็นเรื่องที่ท้าทายมาก เพราะกล่าวว่ามีความโชคดีไม่มีใครตาย หรือถูกกักตัวอยู่ระหว่างการเดินทาง</s> วิลลี่ ฟิตโชค: เขาอยู่ในวัยที่พ่อแม่อาจนึกไม่ถึงเลยว่าจะเป็นสโตเวอร์และสาทิสเอ๊า',\n",
       " '</s> เกาะอังกฤษมีเหล้านัดมากมายและมีโซนนิ่งหลากหลายที่ เครื่องผลิตบอลมีตั้งแต่ชิ้นส่วนขนาด 15 เป็น 1 Kg ถึง 1 liter โดยมีอยู่ทีมๆนึงทํางานที่นั่น มีท่านประธานทีมท่านหนึ่งบอกว่าได้เตรียมทีมอยู่ในแพคชั่นหลวง 40,000 ตัวและสิ่งซึ่งหาได้ จะมาแล้วกลับออสเตรเลียเหมือนเมื่อก่อน เดือนกุมภาพันธ์ปีที่แล้ว แต่ไปทําอะไรต่อในปีนี้จะทําเหล้านัดไปได้อย่างไร เพราะเครื่องผลิตหรอกมันมีหลายอย่างมาก่อน ก็มาจากการที่ทีมเราทีมนี้เป็นลูกหลายคนๆไปนึงและ คห7 มีตระกูลลูกนั้นแต่ก็ขออภัยด้วย ที่ไม่เป็นที่ต้อง']"
      ]
     },
     "execution_count": 32,
     "metadata": {},
     "output_type": "execute_result"
    }
   ],
   "source": [
    "tokenizer.batch_decode(response_tensor)"
   ]
  },
  {
   "cell_type": "markdown",
   "id": "a53935b5",
   "metadata": {},
   "source": [
    "## Create Dataset Object"
   ]
  },
  {
   "cell_type": "code",
   "execution_count": 39,
   "id": "3c2cb39e",
   "metadata": {},
   "outputs": [],
   "source": [
    "from datasets import Dataset\n",
    "\n",
    "# Define the file path\n",
    "all_df = pd.read_csv('../data_large/all_df.csv')\n",
    "all_df['body'] = all_df['body'].map(lambda x: x.split('แก้ไขข้อความเมื่อ')[0])\n",
    "all_df['comment'] = all_df['comment'].map(lambda x: x.split('แก้ไขข้อความเมื่อ')[0])\n",
    "\n",
    "# # Create a Hugging Face dataset from the list of lines\n",
    "# dataset = Dataset.from_dict({\"text\": lines})"
   ]
  },
  {
   "cell_type": "code",
   "execution_count": 42,
   "id": "4d163f96",
   "metadata": {},
   "outputs": [
    {
     "data": {
      "text/html": [
       "<div>\n",
       "<style scoped>\n",
       "    .dataframe tbody tr th:only-of-type {\n",
       "        vertical-align: middle;\n",
       "    }\n",
       "\n",
       "    .dataframe tbody tr th {\n",
       "        vertical-align: top;\n",
       "    }\n",
       "\n",
       "    .dataframe thead th {\n",
       "        text-align: right;\n",
       "    }\n",
       "</style>\n",
       "<table border=\"1\" class=\"dataframe\">\n",
       "  <thead>\n",
       "    <tr style=\"text-align: right;\">\n",
       "      <th></th>\n",
       "      <th>datasource_url_x</th>\n",
       "      <th>content_id</th>\n",
       "      <th>type_x</th>\n",
       "      <th>title</th>\n",
       "      <th>body</th>\n",
       "      <th>total_field</th>\n",
       "      <th>tags</th>\n",
       "      <th>like_score_x</th>\n",
       "      <th>feel_heart_x</th>\n",
       "      <th>feel_laugh_x</th>\n",
       "      <th>...</th>\n",
       "      <th>type_y</th>\n",
       "      <th>comment</th>\n",
       "      <th>like_score_y</th>\n",
       "      <th>feel_heart_y</th>\n",
       "      <th>feel_laugh_y</th>\n",
       "      <th>feel_love_y</th>\n",
       "      <th>feel_sad_y</th>\n",
       "      <th>feel_horror_y</th>\n",
       "      <th>feel_wow_y</th>\n",
       "      <th>nb_interact</th>\n",
       "    </tr>\n",
       "  </thead>\n",
       "  <tbody>\n",
       "    <tr>\n",
       "      <th>0</th>\n",
       "      <td>https://pantip.com/topic/36188003</td>\n",
       "      <td>36188003</td>\n",
       "      <td>content</td>\n",
       "      <td>ส่งDMในทวิตไม่ได้ ทำยังไงดี?</td>\n",
       "      <td>DMในทวิตไม่ได้ค่ะ พอส่งมันก็ขึ้นว่า การดำเนินก...</td>\n",
       "      <td>4</td>\n",
       "      <td>Social Network,Twitter</td>\n",
       "      <td>0</td>\n",
       "      <td>0</td>\n",
       "      <td>0</td>\n",
       "      <td>...</td>\n",
       "      <td>comment</td>\n",
       "      <td>ส่งหาใครคะ ดีเอ็มต้องโฟโลทั้งสองฝ่ายปะอะ</td>\n",
       "      <td>0</td>\n",
       "      <td>0</td>\n",
       "      <td>0</td>\n",
       "      <td>0</td>\n",
       "      <td>0</td>\n",
       "      <td>0</td>\n",
       "      <td>0</td>\n",
       "      <td>0</td>\n",
       "    </tr>\n",
       "    <tr>\n",
       "      <th>1</th>\n",
       "      <td>https://pantip.com/topic/36188003</td>\n",
       "      <td>36188003</td>\n",
       "      <td>content</td>\n",
       "      <td>ส่งDMในทวิตไม่ได้ ทำยังไงดี?</td>\n",
       "      <td>DMในทวิตไม่ได้ค่ะ พอส่งมันก็ขึ้นว่า การดำเนินก...</td>\n",
       "      <td>4</td>\n",
       "      <td>Social Network,Twitter</td>\n",
       "      <td>0</td>\n",
       "      <td>0</td>\n",
       "      <td>0</td>\n",
       "      <td>...</td>\n",
       "      <td>comment</td>\n",
       "      <td>ไม่ต้อง follow กันและกัน ก็ส่งได้นะส่งมาแล้วแต...</td>\n",
       "      <td>0</td>\n",
       "      <td>0</td>\n",
       "      <td>0</td>\n",
       "      <td>0</td>\n",
       "      <td>0</td>\n",
       "      <td>0</td>\n",
       "      <td>0</td>\n",
       "      <td>0</td>\n",
       "    </tr>\n",
       "    <tr>\n",
       "      <th>2</th>\n",
       "      <td>https://pantip.com/topic/36188003</td>\n",
       "      <td>36188003</td>\n",
       "      <td>content</td>\n",
       "      <td>ส่งDMในทวิตไม่ได้ ทำยังไงดี?</td>\n",
       "      <td>DMในทวิตไม่ได้ค่ะ พอส่งมันก็ขึ้นว่า การดำเนินก...</td>\n",
       "      <td>4</td>\n",
       "      <td>Social Network,Twitter</td>\n",
       "      <td>0</td>\n",
       "      <td>0</td>\n",
       "      <td>0</td>\n",
       "      <td>...</td>\n",
       "      <td>comment</td>\n",
       "      <td>จขกท.แก้ได้ยังค่ะ เราก็เปน ฝากด้วยนะคะ(แต่เราส...</td>\n",
       "      <td>0</td>\n",
       "      <td>0</td>\n",
       "      <td>0</td>\n",
       "      <td>0</td>\n",
       "      <td>0</td>\n",
       "      <td>0</td>\n",
       "      <td>0</td>\n",
       "      <td>0</td>\n",
       "    </tr>\n",
       "    <tr>\n",
       "      <th>3</th>\n",
       "      <td>https://pantip.com/topic/36188003</td>\n",
       "      <td>36188003</td>\n",
       "      <td>content</td>\n",
       "      <td>ส่งDMในทวิตไม่ได้ ทำยังไงดี?</td>\n",
       "      <td>DMในทวิตไม่ได้ค่ะ พอส่งมันก็ขึ้นว่า การดำเนินก...</td>\n",
       "      <td>4</td>\n",
       "      <td>Social Network,Twitter</td>\n",
       "      <td>0</td>\n",
       "      <td>0</td>\n",
       "      <td>0</td>\n",
       "      <td>...</td>\n",
       "      <td>comment</td>\n",
       "      <td>แก้ได้ยังคะ?เราก็เป็น</td>\n",
       "      <td>0</td>\n",
       "      <td>0</td>\n",
       "      <td>0</td>\n",
       "      <td>0</td>\n",
       "      <td>0</td>\n",
       "      <td>0</td>\n",
       "      <td>0</td>\n",
       "      <td>0</td>\n",
       "    </tr>\n",
       "    <tr>\n",
       "      <th>4</th>\n",
       "      <td>https://pantip.com/topic/36188206</td>\n",
       "      <td>36188206</td>\n",
       "      <td>content</td>\n",
       "      <td>ใช้เน็ตบ้านทรูขึ้น ERR_CONNECTION_RESET  บ่อยม...</td>\n",
       "      <td>ใช้เน็ตบ้านทรูขึ้น ERR_CONNECTION_RESET  บ่อยม...</td>\n",
       "      <td>3</td>\n",
       "      <td>อินเทอร์เน็ต,ADSL,Network,true online,Wi-Fi</td>\n",
       "      <td>0</td>\n",
       "      <td>0</td>\n",
       "      <td>0</td>\n",
       "      <td>...</td>\n",
       "      <td>comment</td>\n",
       "      <td>ไม่ไหว เบื่อ ที่เรียกซ่อม</td>\n",
       "      <td>0</td>\n",
       "      <td>0</td>\n",
       "      <td>0</td>\n",
       "      <td>0</td>\n",
       "      <td>0</td>\n",
       "      <td>0</td>\n",
       "      <td>0</td>\n",
       "      <td>0</td>\n",
       "    </tr>\n",
       "  </tbody>\n",
       "</table>\n",
       "<p>5 rows × 26 columns</p>\n",
       "</div>"
      ],
      "text/plain": [
       "                    datasource_url_x  content_id   type_x  \\\n",
       "0  https://pantip.com/topic/36188003    36188003  content   \n",
       "1  https://pantip.com/topic/36188003    36188003  content   \n",
       "2  https://pantip.com/topic/36188003    36188003  content   \n",
       "3  https://pantip.com/topic/36188003    36188003  content   \n",
       "4  https://pantip.com/topic/36188206    36188206  content   \n",
       "\n",
       "                                               title  \\\n",
       "0                       ส่งDMในทวิตไม่ได้ ทำยังไงดี?   \n",
       "1                       ส่งDMในทวิตไม่ได้ ทำยังไงดี?   \n",
       "2                       ส่งDMในทวิตไม่ได้ ทำยังไงดี?   \n",
       "3                       ส่งDMในทวิตไม่ได้ ทำยังไงดี?   \n",
       "4  ใช้เน็ตบ้านทรูขึ้น ERR_CONNECTION_RESET  บ่อยม...   \n",
       "\n",
       "                                                body  total_field  \\\n",
       "0  DMในทวิตไม่ได้ค่ะ พอส่งมันก็ขึ้นว่า การดำเนินก...            4   \n",
       "1  DMในทวิตไม่ได้ค่ะ พอส่งมันก็ขึ้นว่า การดำเนินก...            4   \n",
       "2  DMในทวิตไม่ได้ค่ะ พอส่งมันก็ขึ้นว่า การดำเนินก...            4   \n",
       "3  DMในทวิตไม่ได้ค่ะ พอส่งมันก็ขึ้นว่า การดำเนินก...            4   \n",
       "4  ใช้เน็ตบ้านทรูขึ้น ERR_CONNECTION_RESET  บ่อยม...            3   \n",
       "\n",
       "                                          tags  like_score_x  feel_heart_x  \\\n",
       "0                       Social Network,Twitter             0             0   \n",
       "1                       Social Network,Twitter             0             0   \n",
       "2                       Social Network,Twitter             0             0   \n",
       "3                       Social Network,Twitter             0             0   \n",
       "4  อินเทอร์เน็ต,ADSL,Network,true online,Wi-Fi             0             0   \n",
       "\n",
       "   feel_laugh_x  ...   type_y  \\\n",
       "0             0  ...  comment   \n",
       "1             0  ...  comment   \n",
       "2             0  ...  comment   \n",
       "3             0  ...  comment   \n",
       "4             0  ...  comment   \n",
       "\n",
       "                                             comment  like_score_y  \\\n",
       "0           ส่งหาใครคะ ดีเอ็มต้องโฟโลทั้งสองฝ่ายปะอะ             0   \n",
       "1  ไม่ต้อง follow กันและกัน ก็ส่งได้นะส่งมาแล้วแต...             0   \n",
       "2  จขกท.แก้ได้ยังค่ะ เราก็เปน ฝากด้วยนะคะ(แต่เราส...             0   \n",
       "3                              แก้ได้ยังคะ?เราก็เป็น             0   \n",
       "4                          ไม่ไหว เบื่อ ที่เรียกซ่อม             0   \n",
       "\n",
       "   feel_heart_y  feel_laugh_y feel_love_y feel_sad_y feel_horror_y  \\\n",
       "0             0             0           0          0             0   \n",
       "1             0             0           0          0             0   \n",
       "2             0             0           0          0             0   \n",
       "3             0             0           0          0             0   \n",
       "4             0             0           0          0             0   \n",
       "\n",
       "   feel_wow_y  nb_interact  \n",
       "0           0            0  \n",
       "1           0            0  \n",
       "2           0            0  \n",
       "3           0            0  \n",
       "4           0            0  \n",
       "\n",
       "[5 rows x 26 columns]"
      ]
     },
     "execution_count": 42,
     "metadata": {},
     "output_type": "execute_result"
    }
   ],
   "source": [
    "all_df.head()"
   ]
  },
  {
   "cell_type": "code",
   "execution_count": 60,
   "id": "3dc0d407",
   "metadata": {},
   "outputs": [
    {
     "data": {
      "text/html": [
       "<div>\n",
       "<style scoped>\n",
       "    .dataframe tbody tr th:only-of-type {\n",
       "        vertical-align: middle;\n",
       "    }\n",
       "\n",
       "    .dataframe tbody tr th {\n",
       "        vertical-align: top;\n",
       "    }\n",
       "\n",
       "    .dataframe thead th {\n",
       "        text-align: right;\n",
       "    }\n",
       "</style>\n",
       "<table border=\"1\" class=\"dataframe\">\n",
       "  <thead>\n",
       "    <tr style=\"text-align: right;\">\n",
       "      <th></th>\n",
       "      <th>datasource_url_x</th>\n",
       "      <th>content_id</th>\n",
       "      <th>type_x</th>\n",
       "      <th>title</th>\n",
       "      <th>body</th>\n",
       "      <th>total_field</th>\n",
       "      <th>tags</th>\n",
       "      <th>like_score_x</th>\n",
       "      <th>feel_heart_x</th>\n",
       "      <th>feel_laugh_x</th>\n",
       "      <th>...</th>\n",
       "      <th>type_y</th>\n",
       "      <th>comment</th>\n",
       "      <th>like_score_y</th>\n",
       "      <th>feel_heart_y</th>\n",
       "      <th>feel_laugh_y</th>\n",
       "      <th>feel_love_y</th>\n",
       "      <th>feel_sad_y</th>\n",
       "      <th>feel_horror_y</th>\n",
       "      <th>feel_wow_y</th>\n",
       "      <th>nb_interact</th>\n",
       "    </tr>\n",
       "  </thead>\n",
       "  <tbody>\n",
       "    <tr>\n",
       "      <th>2087421</th>\n",
       "      <td>https://pantip.com/topic/30523238</td>\n",
       "      <td>30523238</td>\n",
       "      <td>content</td>\n",
       "      <td>ก่อนไปเลบานอน ขอตั้งกระทู้ถามเพื่อนๆก่อนนอนสัก...</td>\n",
       "      <td>เนื่องจากกระทู้การเมือง กระทู้นึงตั้งกระทู้โดย...</td>\n",
       "      <td>19</td>\n",
       "      <td>การเมือง</td>\n",
       "      <td>7</td>\n",
       "      <td>22</td>\n",
       "      <td>0</td>\n",
       "      <td>...</td>\n",
       "      <td>comment</td>\n",
       "      <td>จองงงงงงงง</td>\n",
       "      <td>1</td>\n",
       "      <td>6</td>\n",
       "      <td>0</td>\n",
       "      <td>1</td>\n",
       "      <td>0</td>\n",
       "      <td>0</td>\n",
       "      <td>0</td>\n",
       "      <td>8</td>\n",
       "    </tr>\n",
       "    <tr>\n",
       "      <th>2087422</th>\n",
       "      <td>https://pantip.com/topic/30523238</td>\n",
       "      <td>30523238</td>\n",
       "      <td>content</td>\n",
       "      <td>ก่อนไปเลบานอน ขอตั้งกระทู้ถามเพื่อนๆก่อนนอนสัก...</td>\n",
       "      <td>เนื่องจากกระทู้การเมือง กระทู้นึงตั้งกระทู้โดย...</td>\n",
       "      <td>19</td>\n",
       "      <td>การเมือง</td>\n",
       "      <td>7</td>\n",
       "      <td>22</td>\n",
       "      <td>0</td>\n",
       "      <td>...</td>\n",
       "      <td>comment</td>\n",
       "      <td>จอง กันคุณข้างบูรพา(ร้อนหนาว)ครับ ยิ้ม</td>\n",
       "      <td>0</td>\n",
       "      <td>2</td>\n",
       "      <td>3</td>\n",
       "      <td>1</td>\n",
       "      <td>0</td>\n",
       "      <td>0</td>\n",
       "      <td>0</td>\n",
       "      <td>6</td>\n",
       "    </tr>\n",
       "    <tr>\n",
       "      <th>2087423</th>\n",
       "      <td>https://pantip.com/topic/30523238</td>\n",
       "      <td>30523238</td>\n",
       "      <td>content</td>\n",
       "      <td>ก่อนไปเลบานอน ขอตั้งกระทู้ถามเพื่อนๆก่อนนอนสัก...</td>\n",
       "      <td>เนื่องจากกระทู้การเมือง กระทู้นึงตั้งกระทู้โดย...</td>\n",
       "      <td>19</td>\n",
       "      <td>การเมือง</td>\n",
       "      <td>7</td>\n",
       "      <td>22</td>\n",
       "      <td>0</td>\n",
       "      <td>...</td>\n",
       "      <td>comment</td>\n",
       "      <td>จินตนการไม่ผิดหรอกพี่ข้างฯแต่ไอ้ที่ผิดเนี้ยคนพ...</td>\n",
       "      <td>0</td>\n",
       "      <td>5</td>\n",
       "      <td>11</td>\n",
       "      <td>0</td>\n",
       "      <td>0</td>\n",
       "      <td>0</td>\n",
       "      <td>0</td>\n",
       "      <td>16</td>\n",
       "    </tr>\n",
       "    <tr>\n",
       "      <th>2087424</th>\n",
       "      <td>https://pantip.com/topic/30523238</td>\n",
       "      <td>30523238</td>\n",
       "      <td>content</td>\n",
       "      <td>ก่อนไปเลบานอน ขอตั้งกระทู้ถามเพื่อนๆก่อนนอนสัก...</td>\n",
       "      <td>เนื่องจากกระทู้การเมือง กระทู้นึงตั้งกระทู้โดย...</td>\n",
       "      <td>19</td>\n",
       "      <td>การเมือง</td>\n",
       "      <td>7</td>\n",
       "      <td>22</td>\n",
       "      <td>0</td>\n",
       "      <td>...</td>\n",
       "      <td>comment</td>\n",
       "      <td>น้องนพ ใจเย็นๆค่ะ[Spoil] คลิกเพื่อดูข้อความที่...</td>\n",
       "      <td>0</td>\n",
       "      <td>1</td>\n",
       "      <td>8</td>\n",
       "      <td>2</td>\n",
       "      <td>0</td>\n",
       "      <td>0</td>\n",
       "      <td>0</td>\n",
       "      <td>11</td>\n",
       "    </tr>\n",
       "    <tr>\n",
       "      <th>2087425</th>\n",
       "      <td>https://pantip.com/topic/30523238</td>\n",
       "      <td>30523238</td>\n",
       "      <td>content</td>\n",
       "      <td>ก่อนไปเลบานอน ขอตั้งกระทู้ถามเพื่อนๆก่อนนอนสัก...</td>\n",
       "      <td>เนื่องจากกระทู้การเมือง กระทู้นึงตั้งกระทู้โดย...</td>\n",
       "      <td>19</td>\n",
       "      <td>การเมือง</td>\n",
       "      <td>7</td>\n",
       "      <td>22</td>\n",
       "      <td>0</td>\n",
       "      <td>...</td>\n",
       "      <td>comment</td>\n",
       "      <td>น้องนพฯ อย่าไปสนใจเลย คนบางคนรูปชั่ว ตัวดำ ใจย...</td>\n",
       "      <td>0</td>\n",
       "      <td>6</td>\n",
       "      <td>0</td>\n",
       "      <td>1</td>\n",
       "      <td>0</td>\n",
       "      <td>0</td>\n",
       "      <td>0</td>\n",
       "      <td>7</td>\n",
       "    </tr>\n",
       "  </tbody>\n",
       "</table>\n",
       "<p>5 rows × 26 columns</p>\n",
       "</div>"
      ],
      "text/plain": [
       "                          datasource_url_x  content_id   type_x  \\\n",
       "2087421  https://pantip.com/topic/30523238    30523238  content   \n",
       "2087422  https://pantip.com/topic/30523238    30523238  content   \n",
       "2087423  https://pantip.com/topic/30523238    30523238  content   \n",
       "2087424  https://pantip.com/topic/30523238    30523238  content   \n",
       "2087425  https://pantip.com/topic/30523238    30523238  content   \n",
       "\n",
       "                                                     title  \\\n",
       "2087421  ก่อนไปเลบานอน ขอตั้งกระทู้ถามเพื่อนๆก่อนนอนสัก...   \n",
       "2087422  ก่อนไปเลบานอน ขอตั้งกระทู้ถามเพื่อนๆก่อนนอนสัก...   \n",
       "2087423  ก่อนไปเลบานอน ขอตั้งกระทู้ถามเพื่อนๆก่อนนอนสัก...   \n",
       "2087424  ก่อนไปเลบานอน ขอตั้งกระทู้ถามเพื่อนๆก่อนนอนสัก...   \n",
       "2087425  ก่อนไปเลบานอน ขอตั้งกระทู้ถามเพื่อนๆก่อนนอนสัก...   \n",
       "\n",
       "                                                      body  total_field  \\\n",
       "2087421  เนื่องจากกระทู้การเมือง กระทู้นึงตั้งกระทู้โดย...           19   \n",
       "2087422  เนื่องจากกระทู้การเมือง กระทู้นึงตั้งกระทู้โดย...           19   \n",
       "2087423  เนื่องจากกระทู้การเมือง กระทู้นึงตั้งกระทู้โดย...           19   \n",
       "2087424  เนื่องจากกระทู้การเมือง กระทู้นึงตั้งกระทู้โดย...           19   \n",
       "2087425  เนื่องจากกระทู้การเมือง กระทู้นึงตั้งกระทู้โดย...           19   \n",
       "\n",
       "             tags  like_score_x  feel_heart_x  feel_laugh_x  ...   type_y  \\\n",
       "2087421  การเมือง             7            22             0  ...  comment   \n",
       "2087422  การเมือง             7            22             0  ...  comment   \n",
       "2087423  การเมือง             7            22             0  ...  comment   \n",
       "2087424  การเมือง             7            22             0  ...  comment   \n",
       "2087425  การเมือง             7            22             0  ...  comment   \n",
       "\n",
       "                                                   comment  like_score_y  \\\n",
       "2087421                                         จองงงงงงงง             1   \n",
       "2087422             จอง กันคุณข้างบูรพา(ร้อนหนาว)ครับ ยิ้ม             0   \n",
       "2087423  จินตนการไม่ผิดหรอกพี่ข้างฯแต่ไอ้ที่ผิดเนี้ยคนพ...             0   \n",
       "2087424  น้องนพ ใจเย็นๆค่ะ[Spoil] คลิกเพื่อดูข้อความที่...             0   \n",
       "2087425  น้องนพฯ อย่าไปสนใจเลย คนบางคนรูปชั่ว ตัวดำ ใจย...             0   \n",
       "\n",
       "         feel_heart_y  feel_laugh_y feel_love_y feel_sad_y feel_horror_y  \\\n",
       "2087421             6             0           1          0             0   \n",
       "2087422             2             3           1          0             0   \n",
       "2087423             5            11           0          0             0   \n",
       "2087424             1             8           2          0             0   \n",
       "2087425             6             0           1          0             0   \n",
       "\n",
       "         feel_wow_y  nb_interact  \n",
       "2087421           0            8  \n",
       "2087422           0            6  \n",
       "2087423           0           16  \n",
       "2087424           0           11  \n",
       "2087425           0            7  \n",
       "\n",
       "[5 rows x 26 columns]"
      ]
     },
     "execution_count": 60,
     "metadata": {},
     "output_type": "execute_result"
    }
   ],
   "source": [
    "all_df[x==4]"
   ]
  },
  {
   "cell_type": "code",
   "execution_count": 35,
   "id": "4b6a68ef",
   "metadata": {},
   "outputs": [
    {
     "data": {
      "text/html": [
       "<div>\n",
       "<style scoped>\n",
       "    .dataframe tbody tr th:only-of-type {\n",
       "        vertical-align: middle;\n",
       "    }\n",
       "\n",
       "    .dataframe tbody tr th {\n",
       "        vertical-align: top;\n",
       "    }\n",
       "\n",
       "    .dataframe thead th {\n",
       "        text-align: right;\n",
       "    }\n",
       "</style>\n",
       "<table border=\"1\" class=\"dataframe\">\n",
       "  <thead>\n",
       "    <tr style=\"text-align: right;\">\n",
       "      <th></th>\n",
       "      <th>title</th>\n",
       "      <th>body</th>\n",
       "      <th>comment</th>\n",
       "      <th>nb_interact</th>\n",
       "    </tr>\n",
       "  </thead>\n",
       "  <tbody>\n",
       "    <tr>\n",
       "      <th>107</th>\n",
       "      <td>เจอบางอย่างขณะซักเสื้อผ้าแฟน</td>\n",
       "      <td>วันหยุด ก็จะซักผ้า เป็นเรื่องปกติ ซักตาก ซักตา...</td>\n",
       "      <td>เอ้าคุณไม่รู้อะไรน้ำตาลไว้ฉีกกินก่อนซั่มกับหญิ...</td>\n",
       "      <td>362</td>\n",
       "    </tr>\n",
       "    <tr>\n",
       "      <th>109</th>\n",
       "      <td>เจอบางอย่างขณะซักเสื้อผ้าแฟน</td>\n",
       "      <td>วันหยุด ก็จะซักผ้า เป็นเรื่องปกติ ซักตาก ซักตา...</td>\n",
       "      <td>จขกท ปกติซักเสื้อผ้าแฟนรวมกับผ้าขี้ริ้วผ้าเช็ด...</td>\n",
       "      <td>341</td>\n",
       "    </tr>\n",
       "    <tr>\n",
       "      <th>108</th>\n",
       "      <td>เจอบางอย่างขณะซักเสื้อผ้าแฟน</td>\n",
       "      <td>วันหยุด ก็จะซักผ้า เป็นเรื่องปกติ ซักตาก ซักตา...</td>\n",
       "      <td>โชคดีที่วันนั้นเมา...เลยหยิบมาผิด รอดไปที (เฮ้อ)</td>\n",
       "      <td>191</td>\n",
       "    </tr>\n",
       "    <tr>\n",
       "      <th>277</th>\n",
       "      <td>เมื่อผมเมียน้อย 2 ปีแล้ว.โดยที่เมียหลวงไม่เคยร...</td>\n",
       "      <td>1แก้ไขข้อความเมื่อ</td>\n",
       "      <td>เลวทั้งคู่</td>\n",
       "      <td>178</td>\n",
       "    </tr>\n",
       "    <tr>\n",
       "      <th>964</th>\n",
       "      <td>ขอคำปรึกษาค่ะ ลูกสาวแชทกับเพื่อนด้วยบทสนทนา 18+</td>\n",
       "      <td>สวัสดีค่ะเพื่อนๆชาวพันทิปทุกท่าน มีเรื่องมาปรึ...</td>\n",
       "      <td>จริงๆ น้องเค้าก็ไม่ได้ไร้ยางอายซะทีเดียวนะครับ...</td>\n",
       "      <td>150</td>\n",
       "    </tr>\n",
       "    <tr>\n",
       "      <th>...</th>\n",
       "      <td>...</td>\n",
       "      <td>...</td>\n",
       "      <td>...</td>\n",
       "      <td>...</td>\n",
       "    </tr>\n",
       "    <tr>\n",
       "      <th>401</th>\n",
       "      <td>ใครเบื่อพวกกิยาคุมฉุกเฉินแล้วมาถามว่าจะท้องไหม...</td>\n",
       "      <td>เราเข้าใจคนท่ลุ้นมีลูกนะก็อยากมีเพื่อนช่วยลุ้น...</td>\n",
       "      <td>เราแค่แปลกใจว่าเค้ามาถามคนแปลกหน้าทำไม เชื่อได...</td>\n",
       "      <td>1</td>\n",
       "    </tr>\n",
       "    <tr>\n",
       "      <th>404</th>\n",
       "      <td>ขอคำแนะนำร้านที่รับทำรูปให้เป็นแบบปักผ้าครอสติ...</td>\n",
       "      <td>จะปักครอสติสที่กระเป๋าผ้ากันเปื้อนให้ลูกค่ะ แต...</td>\n",
       "      <td>ขอบคุณค่ะ ^_^</td>\n",
       "      <td>1</td>\n",
       "    </tr>\n",
       "    <tr>\n",
       "      <th>406</th>\n",
       "      <td>เมื่อเพื่อนสาวของคุณแอบโทรหาสามีคุณ</td>\n",
       "      <td>คุณภรรยาทั้งหลายที่เพื่อนสาวของคุณโทร ไลน์ คุย...</td>\n",
       "      <td>คิดมาก ถ้าบ่อยๆ ครั้ง ค่อยแสดงตัวจับกุม มิให้เ...</td>\n",
       "      <td>1</td>\n",
       "    </tr>\n",
       "    <tr>\n",
       "      <th>407</th>\n",
       "      <td>เมื่อเพื่อนสาวของคุณแอบโทรหาสามีคุณ</td>\n",
       "      <td>คุณภรรยาทั้งหลายที่เพื่อนสาวของคุณโทร ไลน์ คุย...</td>\n",
       "      <td>ท่าทางเพื่อนหวังตีท้ายครัวคุณนะคะระวังให้ดีๆ</td>\n",
       "      <td>1</td>\n",
       "    </tr>\n",
       "    <tr>\n",
       "      <th>999</th>\n",
       "      <td>INTEL VS AMD ???</td>\n",
       "      <td>สงสัยครับว่า AMD กับ INTEL มันมีข้อดีข้อเสียต่...</td>\n",
       "      <td>ในราคาที่เท่ากัน เมนบอร์ด AMD ลูกเล่นดีกว่าครับ</td>\n",
       "      <td>1</td>\n",
       "    </tr>\n",
       "  </tbody>\n",
       "</table>\n",
       "<p>1000 rows × 4 columns</p>\n",
       "</div>"
      ],
      "text/plain": [
       "                                                 title  \\\n",
       "107                       เจอบางอย่างขณะซักเสื้อผ้าแฟน   \n",
       "109                       เจอบางอย่างขณะซักเสื้อผ้าแฟน   \n",
       "108                       เจอบางอย่างขณะซักเสื้อผ้าแฟน   \n",
       "277  เมื่อผมเมียน้อย 2 ปีแล้ว.โดยที่เมียหลวงไม่เคยร...   \n",
       "964    ขอคำปรึกษาค่ะ ลูกสาวแชทกับเพื่อนด้วยบทสนทนา 18+   \n",
       "..                                                 ...   \n",
       "401  ใครเบื่อพวกกิยาคุมฉุกเฉินแล้วมาถามว่าจะท้องไหม...   \n",
       "404  ขอคำแนะนำร้านที่รับทำรูปให้เป็นแบบปักผ้าครอสติ...   \n",
       "406                เมื่อเพื่อนสาวของคุณแอบโทรหาสามีคุณ   \n",
       "407                เมื่อเพื่อนสาวของคุณแอบโทรหาสามีคุณ   \n",
       "999                                   INTEL VS AMD ???   \n",
       "\n",
       "                                                  body  \\\n",
       "107  วันหยุด ก็จะซักผ้า เป็นเรื่องปกติ ซักตาก ซักตา...   \n",
       "109  วันหยุด ก็จะซักผ้า เป็นเรื่องปกติ ซักตาก ซักตา...   \n",
       "108  วันหยุด ก็จะซักผ้า เป็นเรื่องปกติ ซักตาก ซักตา...   \n",
       "277                                 1แก้ไขข้อความเมื่อ   \n",
       "964  สวัสดีค่ะเพื่อนๆชาวพันทิปทุกท่าน มีเรื่องมาปรึ...   \n",
       "..                                                 ...   \n",
       "401  เราเข้าใจคนท่ลุ้นมีลูกนะก็อยากมีเพื่อนช่วยลุ้น...   \n",
       "404  จะปักครอสติสที่กระเป๋าผ้ากันเปื้อนให้ลูกค่ะ แต...   \n",
       "406  คุณภรรยาทั้งหลายที่เพื่อนสาวของคุณโทร ไลน์ คุย...   \n",
       "407  คุณภรรยาทั้งหลายที่เพื่อนสาวของคุณโทร ไลน์ คุย...   \n",
       "999  สงสัยครับว่า AMD กับ INTEL มันมีข้อดีข้อเสียต่...   \n",
       "\n",
       "                                               comment  nb_interact  \n",
       "107  เอ้าคุณไม่รู้อะไรน้ำตาลไว้ฉีกกินก่อนซั่มกับหญิ...          362  \n",
       "109  จขกท ปกติซักเสื้อผ้าแฟนรวมกับผ้าขี้ริ้วผ้าเช็ด...          341  \n",
       "108   โชคดีที่วันนั้นเมา...เลยหยิบมาผิด รอดไปที (เฮ้อ)          191  \n",
       "277                                         เลวทั้งคู่          178  \n",
       "964  จริงๆ น้องเค้าก็ไม่ได้ไร้ยางอายซะทีเดียวนะครับ...          150  \n",
       "..                                                 ...          ...  \n",
       "401  เราแค่แปลกใจว่าเค้ามาถามคนแปลกหน้าทำไม เชื่อได...            1  \n",
       "404                                      ขอบคุณค่ะ ^_^            1  \n",
       "406  คิดมาก ถ้าบ่อยๆ ครั้ง ค่อยแสดงตัวจับกุม มิให้เ...            1  \n",
       "407       ท่าทางเพื่อนหวังตีท้ายครัวคุณนะคะระวังให้ดีๆ            1  \n",
       "999    ในราคาที่เท่ากัน เมนบอร์ด AMD ลูกเล่นดีกว่าครับ            1  \n",
       "\n",
       "[1000 rows x 4 columns]"
      ]
     },
     "execution_count": 35,
     "metadata": {},
     "output_type": "execute_result"
    }
   ],
   "source": [
    "sample_df = all_df[all_df.nb_interact>0][['title','body','comment','nb_interact']]\\\n",
    "                .head(1000).reset_index(drop=True)\n",
    "sample_df.sort_values('nb_interact',ascending=False)"
   ]
  },
  {
   "cell_type": "code",
   "execution_count": 41,
   "id": "5e99c7d5",
   "metadata": {},
   "outputs": [
    {
     "name": "stderr",
     "output_type": "stream",
     "text": [
      "Token indices sequence length is longer than the specified maximum sequence length for this model (2812 > 2048). Running this sequence through the model will result in indexing errors\n"
     ]
    }
   ],
   "source": [
    "sample_df['nb_token_title'] = sample_df.title\\\n",
    "    .map(lambda x: len([tokenizer.decode(i) for i in tokenizer.encode(x)]))\n",
    "sample_df['nb_token_body'] = sample_df.body\\\n",
    "    .map(lambda x: len([tokenizer.decode(i) for i in tokenizer.encode(x)]))\n",
    "sample_df['nb_token_comment'] = sample_df.comment\\\n",
    "    .map(lambda x: len([tokenizer.decode(i) for i in tokenizer.encode(x)]))"
   ]
  },
  {
   "cell_type": "code",
   "execution_count": 42,
   "id": "23e26156",
   "metadata": {},
   "outputs": [
    {
     "data": {
      "text/plain": [
       "<AxesSubplot:>"
      ]
     },
     "execution_count": 42,
     "metadata": {},
     "output_type": "execute_result"
    },
    {
     "data": {
      "image/png": "[encoded data removed]",
      "text/plain": [
       "<Figure size 640x480 with 1 Axes>"
      ]
     },
     "metadata": {},
     "output_type": "display_data"
    }
   ],
   "source": [
    "sample_df.nb_token_title.hist()"
   ]
  },
  {
   "cell_type": "code",
   "execution_count": 43,
   "id": "b6931f41",
   "metadata": {},
   "outputs": [
    {
     "data": {
      "text/plain": [
       "<AxesSubplot:>"
      ]
     },
     "execution_count": 43,
     "metadata": {},
     "output_type": "execute_result"
    },
    {
     "data": {
      "image/png": "[encoded data removed]",
      "text/plain": [
       "<Figure size 640x480 with 1 Axes>"
      ]
     },
     "metadata": {},
     "output_type": "display_data"
    }
   ],
   "source": [
    "sample_df.nb_token_body.hist()"
   ]
  },
  {
   "cell_type": "code",
   "execution_count": 44,
   "id": "2d819b01",
   "metadata": {},
   "outputs": [
    {
     "data": {
      "text/plain": [
       "<AxesSubplot:>"
      ]
     },
     "execution_count": 44,
     "metadata": {},
     "output_type": "execute_result"
    },
    {
     "data": {
      "image/png": "[encoded data removed]",
      "text/plain": [
       "<Figure size 640x480 with 1 Axes>"
      ]
     },
     "metadata": {},
     "output_type": "display_data"
    }
   ],
   "source": [
    "sample_df.nb_token_comment.hist()"
   ]
  },
  {
   "cell_type": "code",
   "execution_count": 45,
   "id": "c81a3e1c",
   "metadata": {},
   "outputs": [
    {
     "data": {
      "text/plain": [
       "<AxesSubplot:>"
      ]
     },
     "execution_count": 45,
     "metadata": {},
     "output_type": "execute_result"
    },
    {
     "data": {
      "image/png": "[encoded data removed]",
      "text/plain": [
       "<Figure size 640x480 with 1 Axes>"
      ]
     },
     "metadata": {},
     "output_type": "display_data"
    }
   ],
   "source": [
    "sample_df.nb_interact.hist()"
   ]
  },
  {
   "cell_type": "code",
   "execution_count": 47,
   "id": "69222055",
   "metadata": {},
   "outputs": [
    {
     "data": {
      "text/html": [
       "<div>\n",
       "<style scoped>\n",
       "    .dataframe tbody tr th:only-of-type {\n",
       "        vertical-align: middle;\n",
       "    }\n",
       "\n",
       "    .dataframe tbody tr th {\n",
       "        vertical-align: top;\n",
       "    }\n",
       "\n",
       "    .dataframe thead th {\n",
       "        text-align: right;\n",
       "    }\n",
       "</style>\n",
       "<table border=\"1\" class=\"dataframe\">\n",
       "  <thead>\n",
       "    <tr style=\"text-align: right;\">\n",
       "      <th></th>\n",
       "      <th>title</th>\n",
       "      <th>body</th>\n",
       "      <th>comment</th>\n",
       "      <th>nb_interact</th>\n",
       "      <th>nb_token_title</th>\n",
       "      <th>nb_token_body</th>\n",
       "      <th>nb_token_comment</th>\n",
       "    </tr>\n",
       "  </thead>\n",
       "  <tbody>\n",
       "    <tr>\n",
       "      <th>702</th>\n",
       "      <td>รบกวนถามเรื่องชื่อ ความหมาย และวันเปลี่ยนชื่อใ...</td>\n",
       "      <td>คืออยากเปลี่ยนชื่อเสริมกำลังใจ  และเผื่อว่าจะด...</td>\n",
       "      <td>ณ เกิดวันอาทิตย์ วรรคศรี ไม่เหมาะกับผู้ชาย   น...</td>\n",
       "      <td>1</td>\n",
       "      <td>16</td>\n",
       "      <td>215</td>\n",
       "      <td>1108</td>\n",
       "    </tr>\n",
       "    <tr>\n",
       "      <th>867</th>\n",
       "      <td>High Speed Internet ที่บ้านโดนตัด</td>\n",
       "      <td>เดิมใช้ High Speed Internet ของ True มาประมาณ ...</td>\n",
       "      <td>ไม่มี อินเทอร์เน็ต รายไหน ดีที่สุด มีเบอร์ ราย...</td>\n",
       "      <td>1</td>\n",
       "      <td>8</td>\n",
       "      <td>335</td>\n",
       "      <td>907</td>\n",
       "    </tr>\n",
       "    <tr>\n",
       "      <th>622</th>\n",
       "      <td>ของใช้สำหรับเด็กอ่อน ต้องซื้ออะไรบ้างครับ แล้ว...</td>\n",
       "      <td>ตอนนี้ภรรยาท้องประมาณ 10 สัปดาห์ครับอยากรู้ว่า...</td>\n",
       "      <td>ถ้าเอาแบบประหยัด  ประสบการณ์ตรงนะครับถุงเท้า แ...</td>\n",
       "      <td>2</td>\n",
       "      <td>15</td>\n",
       "      <td>50</td>\n",
       "      <td>884</td>\n",
       "    </tr>\n",
       "    <tr>\n",
       "      <th>46</th>\n",
       "      <td>New Macbook / Macbook Air / Surface Pro4 ตัวไห...</td>\n",
       "      <td>คือ อยากทราบว่า notebook ใน งบ 50 k ตัวไหนเหมา...</td>\n",
       "      <td>ตอบ คห 7 ถ้าไม่เกี่ยงแบต ก็ต้องตอบคำถามของ คห ...</td>\n",
       "      <td>2</td>\n",
       "      <td>17</td>\n",
       "      <td>108</td>\n",
       "      <td>871</td>\n",
       "    </tr>\n",
       "    <tr>\n",
       "      <th>976</th>\n",
       "      <td>รบกวน อาจารย์ศุภชัย ครับ ช่วยแนะนำ Printer  Al...</td>\n",
       "      <td>พอดีผมกำลังเปิดบริษัทเล็กๆต้องใช้งาน ปริ้นแคตต...</td>\n",
       "      <td>ขอตอบแบบคนทำร้าน ที่เคยใช้มาทุกยี่ห้อ และซ่อมเ...</td>\n",
       "      <td>2</td>\n",
       "      <td>20</td>\n",
       "      <td>62</td>\n",
       "      <td>847</td>\n",
       "    </tr>\n",
       "    <tr>\n",
       "      <th>...</th>\n",
       "      <td>...</td>\n",
       "      <td>...</td>\n",
       "      <td>...</td>\n",
       "      <td>...</td>\n",
       "      <td>...</td>\n",
       "      <td>...</td>\n",
       "      <td>...</td>\n",
       "    </tr>\n",
       "    <tr>\n",
       "      <th>78</th>\n",
       "      <td>ตามหาเกมนึงครับ ค่อนข้างเก่าแต่ไม่มาก</td>\n",
       "      <td>ตามหัวข้อเลยครับ เกมเป็นเกมเดินสู้-ตัวละครมีเย...</td>\n",
       "      <td>Little Fighter</td>\n",
       "      <td>1</td>\n",
       "      <td>13</td>\n",
       "      <td>103</td>\n",
       "      <td>3</td>\n",
       "    </tr>\n",
       "    <tr>\n",
       "      <th>398</th>\n",
       "      <td>สอบถามราคาค่าคลอด รพ.นพรัตน์ ด้วยค่ะ และการเตร...</td>\n",
       "      <td>กำหนดคลอด เมษา 58 นี้ ถ้าจะคลอดที่ รพ.นพรัตน์ ...</td>\n",
       "      <td>ขอบคุณค่ะ</td>\n",
       "      <td>1</td>\n",
       "      <td>22</td>\n",
       "      <td>49</td>\n",
       "      <td>3</td>\n",
       "    </tr>\n",
       "    <tr>\n",
       "      <th>787</th>\n",
       "      <td>3BB เปลี่ยนจาก VDSL 50/20 ไป FTTx 50/10 มีคำตอ...</td>\n",
       "      <td>รายละเอียดตามตารางเลยครับราคาคิดรวม VAT แล้วจะ...</td>\n",
       "      <td>ครับ</td>\n",
       "      <td>1</td>\n",
       "      <td>22</td>\n",
       "      <td>23</td>\n",
       "      <td>2</td>\n",
       "    </tr>\n",
       "    <tr>\n",
       "      <th>311</th>\n",
       "      <td>SSD กับ HDD อันไหนทน ไฟฟ้าตก ไฟฟ้สกระชาก ได้มา...</td>\n",
       "      <td>SSD กับ HDD อันไหนทน ไฟฟ้าตก ไฟฟ้สกระชาก ได้มา...</td>\n",
       "      <td>UPS</td>\n",
       "      <td>1</td>\n",
       "      <td>21</td>\n",
       "      <td>21</td>\n",
       "      <td>2</td>\n",
       "    </tr>\n",
       "    <tr>\n",
       "      <th>332</th>\n",
       "      <td>การตั้งค่า Graphic ของเกม ให้ไม่กระทบ RAM โดยใ...</td>\n",
       "      <td>สอบถาม พี่ๆกูรูครับ ปล. หากแทรก ไม่ถูกห้องขออภ...</td>\n",
       "      <td>ไม่ได้</td>\n",
       "      <td>1</td>\n",
       "      <td>19</td>\n",
       "      <td>195</td>\n",
       "      <td>2</td>\n",
       "    </tr>\n",
       "  </tbody>\n",
       "</table>\n",
       "<p>1000 rows × 7 columns</p>\n",
       "</div>"
      ],
      "text/plain": [
       "                                                 title  \\\n",
       "702  รบกวนถามเรื่องชื่อ ความหมาย และวันเปลี่ยนชื่อใ...   \n",
       "867                  High Speed Internet ที่บ้านโดนตัด   \n",
       "622  ของใช้สำหรับเด็กอ่อน ต้องซื้ออะไรบ้างครับ แล้ว...   \n",
       "46   New Macbook / Macbook Air / Surface Pro4 ตัวไห...   \n",
       "976  รบกวน อาจารย์ศุภชัย ครับ ช่วยแนะนำ Printer  Al...   \n",
       "..                                                 ...   \n",
       "78               ตามหาเกมนึงครับ ค่อนข้างเก่าแต่ไม่มาก   \n",
       "398  สอบถามราคาค่าคลอด รพ.นพรัตน์ ด้วยค่ะ และการเตร...   \n",
       "787  3BB เปลี่ยนจาก VDSL 50/20 ไป FTTx 50/10 มีคำตอ...   \n",
       "311  SSD กับ HDD อันไหนทน ไฟฟ้าตก ไฟฟ้สกระชาก ได้มา...   \n",
       "332  การตั้งค่า Graphic ของเกม ให้ไม่กระทบ RAM โดยใ...   \n",
       "\n",
       "                                                  body  \\\n",
       "702  คืออยากเปลี่ยนชื่อเสริมกำลังใจ  และเผื่อว่าจะด...   \n",
       "867  เดิมใช้ High Speed Internet ของ True มาประมาณ ...   \n",
       "622  ตอนนี้ภรรยาท้องประมาณ 10 สัปดาห์ครับอยากรู้ว่า...   \n",
       "46   คือ อยากทราบว่า notebook ใน งบ 50 k ตัวไหนเหมา...   \n",
       "976  พอดีผมกำลังเปิดบริษัทเล็กๆต้องใช้งาน ปริ้นแคตต...   \n",
       "..                                                 ...   \n",
       "78   ตามหัวข้อเลยครับ เกมเป็นเกมเดินสู้-ตัวละครมีเย...   \n",
       "398  กำหนดคลอด เมษา 58 นี้ ถ้าจะคลอดที่ รพ.นพรัตน์ ...   \n",
       "787  รายละเอียดตามตารางเลยครับราคาคิดรวม VAT แล้วจะ...   \n",
       "311  SSD กับ HDD อันไหนทน ไฟฟ้าตก ไฟฟ้สกระชาก ได้มา...   \n",
       "332  สอบถาม พี่ๆกูรูครับ ปล. หากแทรก ไม่ถูกห้องขออภ...   \n",
       "\n",
       "                                               comment  nb_interact  \\\n",
       "702  ณ เกิดวันอาทิตย์ วรรคศรี ไม่เหมาะกับผู้ชาย   น...            1   \n",
       "867  ไม่มี อินเทอร์เน็ต รายไหน ดีที่สุด มีเบอร์ ราย...            1   \n",
       "622  ถ้าเอาแบบประหยัด  ประสบการณ์ตรงนะครับถุงเท้า แ...            2   \n",
       "46   ตอบ คห 7 ถ้าไม่เกี่ยงแบต ก็ต้องตอบคำถามของ คห ...            2   \n",
       "976  ขอตอบแบบคนทำร้าน ที่เคยใช้มาทุกยี่ห้อ และซ่อมเ...            2   \n",
       "..                                                 ...          ...   \n",
       "78                                      Little Fighter            1   \n",
       "398                                          ขอบคุณค่ะ            1   \n",
       "787                                               ครับ            1   \n",
       "311                                                UPS            1   \n",
       "332                                             ไม่ได้            1   \n",
       "\n",
       "     nb_token_title  nb_token_body  nb_token_comment  \n",
       "702              16            215              1108  \n",
       "867               8            335               907  \n",
       "622              15             50               884  \n",
       "46               17            108               871  \n",
       "976              20             62               847  \n",
       "..              ...            ...               ...  \n",
       "78               13            103                 3  \n",
       "398              22             49                 3  \n",
       "787              22             23                 2  \n",
       "311              21             21                 2  \n",
       "332              19            195                 2  \n",
       "\n",
       "[1000 rows x 7 columns]"
      ]
     },
     "execution_count": 47,
     "metadata": {},
     "output_type": "execute_result"
    }
   ],
   "source": [
    "sample_df.sort_values('nb_token_comment',ascending=False)"
   ]
  },
  {
   "cell_type": "code",
   "execution_count": 51,
   "id": "93b958c5",
   "metadata": {},
   "outputs": [
    {
     "data": {
      "text/plain": [
       "'ถ้าเอาแบบประหยัด  ประสบการณ์ตรงนะครับถุงเท้า แทบไม่เคยได้ใส่ครับ  ถุงมือนี่กันข่วนหน้าสำคัญมาก แต่ถุงเท้านี่แทบไม่มีประโยชน์อะไรเลย เพราะน้องยังเดินไม่ได้อีกนานครับกางเกง ของผมก็ไม่ได้ใส่ครับ ใส่แต่ผ้าอ้อม ไม่ก็ผ้าอ้อมสำเร็จรูป  วันนึงเด็กทารกแรกเกิดจะถ่ายมากกว่า 7-8 ครั้ง ใน 24 ชั่วโมงนอนอยู่แต่ในบ้าน แปปๆก็เปลี่ยนผ้าอ้อมแล้ว บอกเลยว่าไม่ได้มีประโยชน์เท่าไหรหรอกมันจะมีผ้ากันเปื้อนเด็กอีก -.- ไม่ได้ใช้ครับ น้องกินแต่นม ซื้อเป็นผ้าเช็ดปากมาแทนครับเสื้อเด็กอ่อน  ให้เน้นเป็นแบบผูกเชือกครับ จะถอดง่าย ไม่ต้องซื้อแพง เพราะใส่ได้แค่ 2-3 เดือนต้องเปลี่ยนไซค์แล้วเด็กทารก จาก 1 เดือนไป 2 เดือน น้ำหนักเพิ่มขึ้น 1+ กิโลกรัมครับ  แปปๆ เสื้อคับแล้ว วันนึงใช้เสื้อประมาณ 2 ตัว กลางวัน 1 กลางคืน 1ลองคำนวณเอาว่ามีเวลาซักมากแค่ไหน เท่านั้นหละเสื้อไม่ต้องซื้อแบบ หนา แขนยาว แขนสามส่วนนะครับ  แขนสั้น แขนกุดโลด  เมืองไทยโคตรร้อน ไม่ได้ใส่แน่นอนแขนขาว ผ้าหนา ทั้งหลายนอนห้องแอร์ก็ห่มผ้าครับ -.-  ผมซื้อมาให้ลูกใส่นอนห้องแอร์นะ ตื่นมาตอนเช้าเหงื่อท่วมเสื้ออะผ้าสาลู ซื้อครับ 2-3 โหล ( ถ้ากะจะเอาเป็นผ้าอ้อม ให้คำนวณปริมาณการอึ ว่าวันละประมาณ 7-8 ครั้ง ) อย่างที่ข้างบนบอก สารพัดประโยชน์ผ้าสาลู จะแปลงร่างได้มากมายเป็นได้ทั้ง ผ้าอ้อม ผ้าห่อตัว ผ้าห่ม ผ้ารองนอน ผ้าเช็ดปาก ผ้าเช็ดตัว ฯลฯฟองน้ำธรรมชาติ ราคาแพง แต่ซื้อได้ซื้อเถอะครับ เนื้อสัมผัสต่างกันมากจริงๆ แล้วเวลาบีบมันหดเล็กทำความสะอาดซอกคอได้ ทารกแก้มจะเยอะคอจะอับ ฟองน้ำธรรมดาเข้าไม่ได้นะเออจุกนม ซื้อได้ครับ แต่ครบ 3 เดือนต้องเปลี่ยนขนาดครับ คำนวณดีๆ เพราะเด็กจะกินได้คำใหญ่ขึ้นต้องซื้อขนาด 3+ไม่งั้นน้องไม่อิ่มครับดูดเหนื่อย จะกินถี่มากๆ เพราะรอบนึงกินได้น้อย  ทุกๆครั้งที่ซื้อขวดนม ส่วนมากมันจะแถมจุกมาให้นะครับไม่จำเป็นไม่ต้องซื้อจุกแยกขวดนม 0-3 เดือนแรก ขนาด 4 oz. กำลังดีครับ มื้อนึงกินไม่เกินนี้หรอก  พอ 3+ เอาสัก 6 oz ขึ้นไปครับ น้องจะทานได้เยอะขึ้นอ๋อ แล้วพอ 3+ เดือนมันจะมีขวดยี่ห้อ Avant จุกมันจะใหญ่กว่า แต่มันเหมือนหัวนมแม่มากกว่า เปลี่ยนเป็นอันนี้ได้ก็จะดีครับสำคัญคือ ที่ต้มน้ำร้อนแบบไฟฟ้าครับ ที่เค้าเอาไว้กิน มาม่า ไม่ก็ทำน้ำร้อนกาแฟแอะครับ ขายในห้างราคา 1500+ นิดหน่อยหาซื้อแบบ ปากกว้างๆมาครับ เอาไว้แปลงร่างเป็นที่ลวก ขวดนม กับ จุกนม ไม่ต้องตั้งน้ำต้มเตาแก๊ส เสียบปลั๊กสะดวกมากมายน้ำเดือดไว ร้อนมากๆ   การลวกขวดนมจะเป็นเรื่องชิวไปเลย   ( หาซื้อที่คีบของร้อนมาด้วยนะครับ คีบขวดจุ่มลงไปเลย ง่ายสุดๆ )ดีกว่าที่นึ่งขวดนมเยอะ  แล้วยังต้มน้ำประจำวัน ทำน้ำต้มสุกเก็บไว้ใส่ขวดได้อีกเครื่องปั้มนมไฟฟ้า แนะนำให้อดทนรอครับ คุณแม่บางคนไม่มีน้ำนมก็มี น้ำนมน้อยก็มี รอหลังคลอดสัก 2 สัปดาห์ครับโด๊ปตอนก่อนคลอดและ  1 เดือนหลังคลอดให้ดี แกงเลียง ฟักทอง กุ้ยช่าย ลูกซัด หามาทานครับ เพื่อลูกๆๆๆ กินดีๆผู้หญิงตัวเล็กน้ำนมเยอะ ทำได้ครับช่วงนี้ไม่ต้องห่วงเรื่องพวกนี้เลยครับ ได้ซื้อตอนโน้น 7-8 เดือน ทันสบายๆ ไม่ต้องกังวลช่วงนี้ เอาเวลาไปเที่ยว พักผ่อน ( ทำกิจกรรมร่วมกัน *0* ) ก่อนครับ เดี๋ยวท้องใหญ่จะไปไหนไม่ได้เท่าไหรแล้วอีกสักแปปจะแพ้ท้องแล้วด้วย รีบๆใช้เวลาให้เต็มที่ครับ เวลาชีวิต เวลาส่วนตัว ของคุณกำลังจะหมดลงแล้วในอีก 1 ปี อิอิอิแก้ไขข้อความเมื่อ20 เมษายน 2558 เวลา 21:21 น.'"
      ]
     },
     "execution_count": 51,
     "metadata": {},
     "output_type": "execute_result"
    }
   ],
   "source": [
    "sample_df.iloc[622].comment"
   ]
  },
  {
   "cell_type": "code",
   "execution_count": null,
   "id": "d594455e",
   "metadata": {},
   "outputs": [],
   "source": [
    "แก้ไขข้อความเมื่อ"
   ]
  }
 ],
 "metadata": {
  "kernelspec": {
   "display_name": "Python 3 (ipykernel)",
   "language": "python",
   "name": "python3"
  },
  "language_info": {
   "codemirror_mode": {
    "name": "ipython",
    "version": 3
   },
   "file_extension": ".py",
   "mimetype": "text/x-python",
   "name": "python",
   "nbconvert_exporter": "python",
   "pygments_lexer": "ipython3",
   "version": "3.9.12"
  }
 },
 "nbformat": 4,
 "nbformat_minor": 5
}
