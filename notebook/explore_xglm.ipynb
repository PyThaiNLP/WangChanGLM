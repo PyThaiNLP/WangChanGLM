{
 "cells": [
  {
   "cell_type": "code",
   "execution_count": 8,
   "id": "ea57039a",
   "metadata": {},
   "outputs": [],
   "source": [
    "import os\n",
    "os.environ[\"CUDA_VISIBLE_DEVICES\"]=\"0,1,2,3,4,5,6,7\""
   ]
  },
  {
   "cell_type": "code",
   "execution_count": 90,
   "id": "16f9d567",
   "metadata": {},
   "outputs": [],
   "source": [
    "import torch\n",
    "from transformers import AutoTokenizer\n",
    "from trl import PPOTrainer, PPOConfig, AutoModelForCausalLMWithValueHead, create_reference_model\n",
    "from trl.core import respond_to_batch\n",
    "\n",
    "from pythainlp.corpus import thai_words\n",
    "import pandas as pd\n",
    "import numpy as np"
   ]
  },
  {
   "cell_type": "code",
   "execution_count": 10,
   "id": "e044c09b",
   "metadata": {},
   "outputs": [
    {
     "data": {
      "text/plain": [
       "device(type='cuda')"
      ]
     },
     "execution_count": 10,
     "metadata": {},
     "output_type": "execute_result"
    }
   ],
   "source": [
    "device = torch.device(\"cuda\") #ppo_trainer.accelerator.device\n",
    "device"
   ]
  },
  {
   "cell_type": "markdown",
   "id": "d2041a01",
   "metadata": {},
   "source": [
    "## Tokenizer"
   ]
  },
  {
   "cell_type": "code",
   "execution_count": 12,
   "id": "0fde050a",
   "metadata": {},
   "outputs": [],
   "source": [
    "import re\n",
    "\n",
    "def has_thai_char(string):\n",
    "    thai_char_regex = '[\\u0E00-\\u0E7F]+'\n",
    "    return re.search(thai_char_regex, string) is not None\n",
    "\n",
    "def has_english_char(string):\n",
    "    english_char_regex = '[\\x00-\\x7F]+'\n",
    "    return re.search(english_char_regex, string) is not None"
   ]
  },
  {
   "cell_type": "code",
   "execution_count": 74,
   "id": "07328828",
   "metadata": {},
   "outputs": [],
   "source": [
    "tokenizer_xglm = AutoTokenizer.from_pretrained('facebook/xglm-564M')\n",
    "tokenizer_gpt = AutoTokenizer.from_pretrained('sberbank-ai/mGPT') \n",
    "#'EleutherAI/gpt-neox-20b', EleutherAI/gpt-j-6B,'EleutherAI/gpt-neo-2.7B'"
   ]
  },
  {
   "cell_type": "code",
   "execution_count": 75,
   "id": "66d89878",
   "metadata": {},
   "outputs": [
    {
     "data": {
      "text/plain": [
       "(4226, 256008, 0.016507296646979783)"
      ]
     },
     "execution_count": 75,
     "metadata": {},
     "output_type": "execute_result"
    }
   ],
   "source": [
    "#% thai subwords; xglm\n",
    "thai_toks = [i for i in tokenizer_xglm.vocab if has_thai_char(i)]\n",
    "len(thai_toks), len(tokenizer_xglm.vocab), len(thai_toks) / len(tokenizer_xglm.vocab)"
   ]
  },
  {
   "cell_type": "code",
   "execution_count": 76,
   "id": "99d2d43c",
   "metadata": {},
   "outputs": [
    {
     "data": {
      "text/plain": [
       "(143413, 256008, 0.5601895253273336)"
      ]
     },
     "execution_count": 76,
     "metadata": {},
     "output_type": "execute_result"
    }
   ],
   "source": [
    "#% eng subwords; xglm\n",
    "eng_toks = [i for i in tokenizer_xglm.vocab if has_english_char(i)]\n",
    "len(eng_toks), len(tokenizer_xglm.vocab), len(eng_toks) / len(tokenizer_xglm.vocab)"
   ]
  },
  {
   "cell_type": "code",
   "execution_count": 78,
   "id": "415b5016",
   "metadata": {},
   "outputs": [
    {
     "data": {
      "text/plain": [
       "(0, 100000, 0.0)"
      ]
     },
     "execution_count": 78,
     "metadata": {},
     "output_type": "execute_result"
    }
   ],
   "source": [
    "#% thai subwords; gpt\n",
    "thai_toks = [i for i in tokenizer_gpt.vocab if has_thai_char(i)]\n",
    "len(thai_toks), len(tokenizer_gpt.vocab), len(thai_toks) / len(tokenizer_gptj.vocab)"
   ]
  },
  {
   "cell_type": "code",
   "execution_count": 79,
   "id": "81932de2",
   "metadata": {},
   "outputs": [
    {
     "data": {
      "text/plain": [
       "(65524, 100000, 0.65524)"
      ]
     },
     "execution_count": 79,
     "metadata": {},
     "output_type": "execute_result"
    }
   ],
   "source": [
    "#% eng subwords; gpt\n",
    "eng_toks = [i for i in tokenizer_gpt.vocab if has_english_char(i)]\n",
    "len(eng_toks), len(tokenizer_gpt.vocab), len(eng_toks) / len(tokenizer_gpt.vocab)"
   ]
  },
  {
   "cell_type": "code",
   "execution_count": 83,
   "id": "c07c4857",
   "metadata": {},
   "outputs": [],
   "source": [
    "thai_words_df = pd.DataFrame({'thai_word': list(thai_words())})\n",
    "thai_words_df['xglm_tokens'] = thai_words_df\\\n",
    "    .thai_word.map(lambda x: [tokenizer_xglm.decode(i) for i in tokenizer_xglm.encode(x)])\n",
    "thai_words_df['xglm_nb_tokens'] = thai_words_df['xglm_tokens'].map(lambda x: len(x))\n",
    "thai_words_df['gpt_tokens'] = thai_words_df\\\n",
    "    .thai_word.map(lambda x: [tokenizer_gpt.decode(i) for i in tokenizer_gpt.encode(x)])\n",
    "thai_words_df['gpt_nb_tokens'] = thai_words_df['gpt_tokens'].map(lambda x: len(x))"
   ]
  },
  {
   "cell_type": "code",
   "execution_count": 84,
   "id": "07e1c682",
   "metadata": {},
   "outputs": [
    {
     "data": {
      "text/html": [
       "<div>\n",
       "<style scoped>\n",
       "    .dataframe tbody tr th:only-of-type {\n",
       "        vertical-align: middle;\n",
       "    }\n",
       "\n",
       "    .dataframe tbody tr th {\n",
       "        vertical-align: top;\n",
       "    }\n",
       "\n",
       "    .dataframe thead th {\n",
       "        text-align: right;\n",
       "    }\n",
       "</style>\n",
       "<table border=\"1\" class=\"dataframe\">\n",
       "  <thead>\n",
       "    <tr style=\"text-align: right;\">\n",
       "      <th></th>\n",
       "      <th>thai_word</th>\n",
       "      <th>xglm_tokens</th>\n",
       "      <th>xglm_nb_tokens</th>\n",
       "      <th>gpt_tokens</th>\n",
       "      <th>gpt_nb_tokens</th>\n",
       "    </tr>\n",
       "  </thead>\n",
       "  <tbody>\n",
       "    <tr>\n",
       "      <th>0</th>\n",
       "      <td>นาฬิเก</td>\n",
       "      <td>[&lt;/s&gt;, , นา, ฬ, ิเ, ก]</td>\n",
       "      <td>6</td>\n",
       "      <td>[น, า�, �, ิ, เก]</td>\n",
       "      <td>5</td>\n",
       "    </tr>\n",
       "    <tr>\n",
       "      <th>1</th>\n",
       "      <td>หน้าไม่อาย</td>\n",
       "      <td>[&lt;/s&gt;, หน้า, ไม่, อาย]</td>\n",
       "      <td>4</td>\n",
       "      <td>[หน, ้, า, ไม, ่, อ, าย]</td>\n",
       "      <td>7</td>\n",
       "    </tr>\n",
       "    <tr>\n",
       "      <th>2</th>\n",
       "      <td>การหายใจเข้า</td>\n",
       "      <td>[&lt;/s&gt;, การ, หาย, ใจ, เข้า]</td>\n",
       "      <td>5</td>\n",
       "      <td>[การ, ห, าย, ใจ, เข, ้, า]</td>\n",
       "      <td>7</td>\n",
       "    </tr>\n",
       "    <tr>\n",
       "      <th>3</th>\n",
       "      <td>มอนเทอเรย์</td>\n",
       "      <td>[&lt;/s&gt;, , มอน, เท, อเร, ย์]</td>\n",
       "      <td>6</td>\n",
       "      <td>[ม, อน, เท, อเร, ย, ์]</td>\n",
       "      <td>6</td>\n",
       "    </tr>\n",
       "    <tr>\n",
       "      <th>4</th>\n",
       "      <td>ลดน้อยลง</td>\n",
       "      <td>[&lt;/s&gt;, ลด, น้อย, ลง]</td>\n",
       "      <td>4</td>\n",
       "      <td>[ลด, น, ้, อย, ลง]</td>\n",
       "      <td>5</td>\n",
       "    </tr>\n",
       "    <tr>\n",
       "      <th>5</th>\n",
       "      <td>ปัญหาสังคม</td>\n",
       "      <td>[&lt;/s&gt;, , ปัญหา, สังคม]</td>\n",
       "      <td>4</td>\n",
       "      <td>[ป, ั, ญ, ห, าส, ั, งค, ม]</td>\n",
       "      <td>8</td>\n",
       "    </tr>\n",
       "    <tr>\n",
       "      <th>6</th>\n",
       "      <td>กรมสมเด็จ</td>\n",
       "      <td>[&lt;/s&gt;, , กรม, สมเด็จ]</td>\n",
       "      <td>4</td>\n",
       "      <td>[กรม, สมเด, ็, จ]</td>\n",
       "      <td>4</td>\n",
       "    </tr>\n",
       "    <tr>\n",
       "      <th>7</th>\n",
       "      <td>ตาทวด</td>\n",
       "      <td>[&lt;/s&gt;, ต, าท, วด]</td>\n",
       "      <td>4</td>\n",
       "      <td>[ต, าท, วด]</td>\n",
       "      <td>3</td>\n",
       "    </tr>\n",
       "    <tr>\n",
       "      <th>8</th>\n",
       "      <td>ปุสสะ</td>\n",
       "      <td>[&lt;/s&gt;, ป, ุส, สะ]</td>\n",
       "      <td>4</td>\n",
       "      <td>[ป, ุ, ส, สะ]</td>\n",
       "      <td>4</td>\n",
       "    </tr>\n",
       "    <tr>\n",
       "      <th>9</th>\n",
       "      <td>ตลก</td>\n",
       "      <td>[&lt;/s&gt;, ต, ลก]</td>\n",
       "      <td>3</td>\n",
       "      <td>[ต, ล, ก]</td>\n",
       "      <td>3</td>\n",
       "    </tr>\n",
       "  </tbody>\n",
       "</table>\n",
       "</div>"
      ],
      "text/plain": [
       "      thai_word                 xglm_tokens  xglm_nb_tokens  \\\n",
       "0        นาฬิเก      [</s>, , นา, ฬ, ิเ, ก]               6   \n",
       "1    หน้าไม่อาย      [</s>, หน้า, ไม่, อาย]               4   \n",
       "2  การหายใจเข้า  [</s>, การ, หาย, ใจ, เข้า]               5   \n",
       "3    มอนเทอเรย์  [</s>, , มอน, เท, อเร, ย์]               6   \n",
       "4      ลดน้อยลง        [</s>, ลด, น้อย, ลง]               4   \n",
       "5    ปัญหาสังคม      [</s>, , ปัญหา, สังคม]               4   \n",
       "6     กรมสมเด็จ       [</s>, , กรม, สมเด็จ]               4   \n",
       "7         ตาทวด           [</s>, ต, าท, วด]               4   \n",
       "8         ปุสสะ           [</s>, ป, ุส, สะ]               4   \n",
       "9           ตลก               [</s>, ต, ลก]               3   \n",
       "\n",
       "                   gpt_tokens  gpt_nb_tokens  \n",
       "0           [น, า�, �, ิ, เก]              5  \n",
       "1    [หน, ้, า, ไม, ่, อ, าย]              7  \n",
       "2  [การ, ห, าย, ใจ, เข, ้, า]              7  \n",
       "3      [ม, อน, เท, อเร, ย, ์]              6  \n",
       "4          [ลด, น, ้, อย, ลง]              5  \n",
       "5  [ป, ั, ญ, ห, าส, ั, งค, ม]              8  \n",
       "6           [กรม, สมเด, ็, จ]              4  \n",
       "7                 [ต, าท, วด]              3  \n",
       "8               [ป, ุ, ส, สะ]              4  \n",
       "9                   [ต, ล, ก]              3  "
      ]
     },
     "execution_count": 84,
     "metadata": {},
     "output_type": "execute_result"
    }
   ],
   "source": [
    "thai_words_df.head(10)"
   ]
  },
  {
   "cell_type": "code",
   "execution_count": 88,
   "id": "3eb9281a",
   "metadata": {},
   "outputs": [
    {
     "data": {
      "text/plain": [
       "<AxesSubplot:>"
      ]
     },
     "execution_count": 88,
     "metadata": {},
     "output_type": "execute_result"
    },
    {
     "data": {
      "image/png": "[encoded data removed]",
      "text/plain": [
       "<Figure size 640x480 with 1 Axes>"
      ]
     },
     "metadata": {},
     "output_type": "display_data"
    }
   ],
   "source": [
    "thai_words_df['diff_nb_tokens'] = thai_words_df.xglm_nb_tokens - 1 - thai_words_df.gpt_nb_tokens\n",
    "thai_words_df.diff_nb_tokens.hist(bins=10)"
   ]
  },
  {
   "cell_type": "code",
   "execution_count": 91,
   "id": "f158c95d",
   "metadata": {},
   "outputs": [
    {
     "data": {
      "text/plain": [
       "array([-19.,  -4.,  -3.,  -2.,  -2.,  -1.,  -1.,  -1.,   0.,   0.])"
      ]
     },
     "execution_count": 91,
     "metadata": {},
     "output_type": "execute_result"
    }
   ],
   "source": [
    "#about 80% of the cases xglm tokenizes to fewer tokens\n",
    "np.percentile(thai_words_df.diff_nb_tokens, np.arange(0, 100, 10))"
   ]
  },
  {
   "cell_type": "code",
   "execution_count": 93,
   "id": "8ff89ad8",
   "metadata": {},
   "outputs": [
    {
     "data": {
      "application/vnd.jupyter.widget-view+json": {
       "model_id": "90aae6a764404f5ea73f59934becd3fe",
       "version_major": 2,
       "version_minor": 0
      },
      "text/plain": [
       "Downloading builder script:   0%|          | 0.00/4.34k [00:00<?, ?B/s]"
      ]
     },
     "metadata": {},
     "output_type": "display_data"
    },
    {
     "data": {
      "application/vnd.jupyter.widget-view+json": {
       "model_id": "a046618fc05d4283a2e753ea445eff25",
       "version_major": 2,
       "version_minor": 0
      },
      "text/plain": [
       "Downloading metadata:   0%|          | 0.00/2.35k [00:00<?, ?B/s]"
      ]
     },
     "metadata": {},
     "output_type": "display_data"
    },
    {
     "data": {
      "application/vnd.jupyter.widget-view+json": {
       "model_id": "7a37330de88f4caf9d0a3270cf6c3ede",
       "version_major": 2,
       "version_minor": 0
      },
      "text/plain": [
       "Downloading readme:   0%|          | 0.00/8.78k [00:00<?, ?B/s]"
      ]
     },
     "metadata": {},
     "output_type": "display_data"
    },
    {
     "name": "stdout",
     "output_type": "stream",
     "text": [
      "Downloading and preparing dataset iapp_wiki_qa_squad/iapp_wiki_qa_squad to /home/charipol/.cache/huggingface/datasets/iapp_wiki_qa_squad/iapp_wiki_qa_squad/1.0.0/c1455d806e5a66ca9ee5c03b4aeaeaef4410afca6263c0bfb440ff1db28e20c3...\n"
     ]
    },
    {
     "data": {
      "application/vnd.jupyter.widget-view+json": {
       "model_id": "b6f65e6afd614430a73fa9c55dfc09f9",
       "version_major": 2,
       "version_minor": 0
      },
      "text/plain": [
       "Downloading data:   0%|          | 0.00/2.88M [00:00<?, ?B/s]"
      ]
     },
     "metadata": {},
     "output_type": "display_data"
    },
    {
     "data": {
      "application/vnd.jupyter.widget-view+json": {
       "model_id": "",
       "version_major": 2,
       "version_minor": 0
      },
      "text/plain": [
       "Generating train split:   0%|          | 0/5761 [00:00<?, ? examples/s]"
      ]
     },
     "metadata": {},
     "output_type": "display_data"
    },
    {
     "data": {
      "application/vnd.jupyter.widget-view+json": {
       "model_id": "",
       "version_major": 2,
       "version_minor": 0
      },
      "text/plain": [
       "Generating validation split:   0%|          | 0/742 [00:00<?, ? examples/s]"
      ]
     },
     "metadata": {},
     "output_type": "display_data"
    },
    {
     "data": {
      "application/vnd.jupyter.widget-view+json": {
       "model_id": "",
       "version_major": 2,
       "version_minor": 0
      },
      "text/plain": [
       "Generating test split:   0%|          | 0/739 [00:00<?, ? examples/s]"
      ]
     },
     "metadata": {},
     "output_type": "display_data"
    },
    {
     "name": "stdout",
     "output_type": "stream",
     "text": [
      "Dataset iapp_wiki_qa_squad downloaded and prepared to /home/charipol/.cache/huggingface/datasets/iapp_wiki_qa_squad/iapp_wiki_qa_squad/1.0.0/c1455d806e5a66ca9ee5c03b4aeaeaef4410afca6263c0bfb440ff1db28e20c3. Subsequent calls will reuse this data.\n"
     ]
    },
    {
     "data": {
      "application/vnd.jupyter.widget-view+json": {
       "model_id": "1a01e93f9083409f9462ea0d69f9d15f",
       "version_major": 2,
       "version_minor": 0
      },
      "text/plain": [
       "  0%|          | 0/3 [00:00<?, ?it/s]"
      ]
     },
     "metadata": {},
     "output_type": "display_data"
    },
    {
     "data": {
      "text/plain": [
       "DatasetDict({\n",
       "    train: Dataset({\n",
       "        features: ['question_id', 'article_id', 'title', 'context', 'question', 'answers'],\n",
       "        num_rows: 5761\n",
       "    })\n",
       "    validation: Dataset({\n",
       "        features: ['question_id', 'article_id', 'title', 'context', 'question', 'answers'],\n",
       "        num_rows: 742\n",
       "    })\n",
       "    test: Dataset({\n",
       "        features: ['question_id', 'article_id', 'title', 'context', 'question', 'answers'],\n",
       "        num_rows: 739\n",
       "    })\n",
       "})"
      ]
     },
     "execution_count": 93,
     "metadata": {},
     "output_type": "execute_result"
    }
   ],
   "source": [
    "from datasets import load_dataset\n",
    "\n",
    "iapp = load_dataset('iapp_wiki_qa_squad')\n",
    "iapp"
   ]
  },
  {
   "cell_type": "code",
   "execution_count": 103,
   "id": "335ebab3",
   "metadata": {},
   "outputs": [
    {
     "data": {
      "text/plain": [
       "'3 ธันวาคม พ.ศ. 2533'"
      ]
     },
     "execution_count": 103,
     "metadata": {},
     "output_type": "execute_result"
    }
   ],
   "source": [
    "iapp['train'][0]['answers']['text'][0]"
   ]
  },
  {
   "cell_type": "code",
   "execution_count": 113,
   "id": "2d1507c1",
   "metadata": {},
   "outputs": [],
   "source": [
    "ds = []\n",
    "for i in iapp['train']:\n",
    "    ds.append({'concat': f\"C: {i['context']} Q:{i['question']} A:{i['answers']['text'][0]}\"})\n",
    "iapp_df = pd.DataFrame(ds)\n",
    "iapp_df['nb_tokens'] = iapp_df.concat.map(lambda x: len(tokenizer_xglm.encode(x)))"
   ]
  },
  {
   "cell_type": "code",
   "execution_count": 117,
   "id": "1ca7ae6b",
   "metadata": {},
   "outputs": [
    {
     "data": {
      "text/plain": [
       "array([ 41., 106., 142., 179., 215., 255., 298., 346., 427., 563.])"
      ]
     },
     "execution_count": 117,
     "metadata": {},
     "output_type": "execute_result"
    }
   ],
   "source": [
    "#90% is less than 573 tokens\n",
    "np.percentile(iapp_df.nb_tokens, np.arange(0, 100, 10))"
   ]
  },
  {
   "cell_type": "code",
   "execution_count": 118,
   "id": "555b7a1f",
   "metadata": {},
   "outputs": [
    {
     "data": {
      "text/plain": [
       "(0.12324249262280854, (5761, 2))"
      ]
     },
     "execution_count": 118,
     "metadata": {},
     "output_type": "execute_result"
    }
   ],
   "source": [
    "(iapp_df.nb_tokens>512).mean(), iapp_df.shape"
   ]
  },
  {
   "cell_type": "code",
   "execution_count": 119,
   "id": "bb013f19",
   "metadata": {},
   "outputs": [
    {
     "data": {
      "text/plain": [
       "<AxesSubplot:>"
      ]
     },
     "execution_count": 119,
     "metadata": {},
     "output_type": "execute_result"
    },
    {
     "data": {
      "image/png": "[encoded data removed]",
      "text/plain": [
       "<Figure size 640x480 with 1 Axes>"
      ]
     },
     "metadata": {},
     "output_type": "display_data"
    }
   ],
   "source": [
    "iapp_df['nb_tokens'].hist()"
   ]
  },
  {
   "cell_type": "markdown",
   "id": "95448298",
   "metadata": {},
   "source": [
    "## Few-shot Inferences"
   ]
  },
  {
   "cell_type": "code",
   "execution_count": 121,
   "id": "d05dc3c8",
   "metadata": {},
   "outputs": [],
   "source": [
    "pretrained = 'facebook/xglm-564M'\n",
    "tokenizer = AutoTokenizer.from_pretrained(pretrained)\n",
    "model = AutoModelForCausalLMWithValueHead.from_pretrained(pretrained).to(device)\n",
    "model_ref = create_reference_model(model).to(\"cuda\")"
   ]
  },
  {
   "cell_type": "code",
   "execution_count": null,
   "id": "50942cc2",
   "metadata": {},
   "outputs": [],
   "source": [
    "# initialize trainer\n",
    "ppo_config = PPOConfig(\n",
    "    batch_size=1,\n",
    "    forward_batch_size=1\n",
    ")\n",
    "ppo_trainer = PPOTrainer(ppo_config, model, model_ref, tokenizer)"
   ]
  },
  {
   "cell_type": "code",
   "execution_count": 167,
   "id": "edeb0401",
   "metadata": {},
   "outputs": [
    {
     "data": {
      "text/plain": [
       "'</s> Q: ทีมไรเมพสุดในเกาะอังกฤษ A: ฉันเลือกที่จะทํางานไฮโซบอนด์-ฮอร์นบิลแบธแมน-เมืองลอนดอน-ปาร์วินท์เบนด์ เฉลี่ยได้ 67.5 สําหรับการตัดแต่สตัดข้ามสามีของฉัน</s>'"
      ]
     },
     "execution_count": 167,
     "metadata": {},
     "output_type": "execute_result"
    }
   ],
   "source": [
    "# encode a query\n",
    "query_txt = [\"Q: ทีมไรเมพสุดในเกาะอังกฤษ A:\" for i in range(10)]\n",
    "query_tensor = tokenizer.encode(query_txt, return_tensors=\"pt\").to(device)\n",
    "\n",
    "# get model response\n",
    "response_tensor  = respond_to_batch(model_ref, query_tensor,\n",
    "                                   txt_len=512, top_k=0, top_p=1.,\n",
    "                                   end=2)\n",
    "tokenizer.decode(response_tensor[0])"
   ]
  },
  {
   "cell_type": "code",
   "execution_count": 192,
   "id": "61e22583",
   "metadata": {},
   "outputs": [],
   "source": [
    "# encode a query\n",
    "query_txt = [\"Q: ทีมไรเมพสุดในเกาะอังกฤษ A:\" for i in range(10)]\n",
    "query_tensor = tokenizer(text=query_txt, return_tensors=\"pt\").to(device)"
   ]
  },
  {
   "cell_type": "code",
   "execution_count": null,
   "id": "758b52f2",
   "metadata": {},
   "outputs": [],
   "source": [
    "%%time\n",
    "response_tensor  = respond_to_batch(model_ref, query_tensor['input_ids'],\n",
    "                                   txt_len=128, top_k=0, top_p=1.)"
   ]
  },
  {
   "cell_type": "code",
   "execution_count": null,
   "id": "5b7afe34",
   "metadata": {},
   "outputs": [],
   "source": [
    "tokenizer.batch_decode(response_tensor)"
   ]
  },
  {
   "cell_type": "code",
   "execution_count": null,
   "id": "532fe966",
   "metadata": {},
   "outputs": [],
   "source": []
  }
 ],
 "metadata": {
  "kernelspec": {
   "display_name": "Python 3 (ipykernel)",
   "language": "python",
   "name": "python3"
  },
  "language_info": {
   "codemirror_mode": {
    "name": "ipython",
    "version": 3
   },
   "file_extension": ".py",
   "mimetype": "text/x-python",
   "name": "python",
   "nbconvert_exporter": "python",
   "pygments_lexer": "ipython3",
   "version": "3.9.12"
  }
 },
 "nbformat": 4,
 "nbformat_minor": 5
}
