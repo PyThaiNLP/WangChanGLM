{
 "cells": [
  {
   "cell_type": "code",
   "execution_count": 1,
   "id": "ea57039a",
   "metadata": {},
   "outputs": [],
   "source": [
    "import os\n",
    "os.environ[\"CUDA_VISIBLE_DEVICES\"]=\"0,1,2,3,4,5,6,7\""
   ]
  },
  {
   "cell_type": "code",
   "execution_count": 4,
   "id": "16f9d567",
   "metadata": {},
   "outputs": [],
   "source": [
    "import torch\n",
    "from transformers import AutoTokenizer\n",
    "from trl import PPOTrainer, PPOConfig, AutoModelForCausalLMWithValueHead, create_reference_model\n",
    "from trl.core import respond_to_batch\n",
    "\n",
    "from pythainlp.corpus import thai_words\n",
    "import pandas as pd\n",
    "import numpy as np"
   ]
  },
  {
   "cell_type": "code",
   "execution_count": 5,
   "id": "e044c09b",
   "metadata": {},
   "outputs": [
    {
     "data": {
      "text/plain": [
       "device(type='cuda')"
      ]
     },
     "execution_count": 5,
     "metadata": {},
     "output_type": "execute_result"
    }
   ],
   "source": [
    "device = torch.device(\"cuda\") #ppo_trainer.accelerator.device\n",
    "device"
   ]
  },
  {
   "cell_type": "markdown",
   "id": "d2041a01",
   "metadata": {},
   "source": [
    "## Tokenizer"
   ]
  },
  {
   "cell_type": "code",
   "execution_count": 6,
   "id": "0fde050a",
   "metadata": {},
   "outputs": [],
   "source": [
    "import re\n",
    "\n",
    "def has_thai_char(string):\n",
    "    thai_char_regex = '[\\u0E00-\\u0E7F]+'\n",
    "    return re.search(thai_char_regex, string) is not None\n",
    "\n",
    "def has_english_char(string):\n",
    "    english_char_regex = '[\\x00-\\x7F]+'\n",
    "    return re.search(english_char_regex, string) is not None"
   ]
  },
  {
   "cell_type": "code",
   "execution_count": 12,
   "id": "07328828",
   "metadata": {},
   "outputs": [],
   "source": [
    "tokenizer_xglm = AutoTokenizer.from_pretrained('facebook/xglm-564M')\n",
    "tokenizer_mgpt = AutoTokenizer.from_pretrained('sberbank-ai/mGPT')\n",
    "tokenizer_gptj = AutoTokenizer.from_pretrained('EleutherAI/gpt-j-6B')\n",
    "#'EleutherAI/gpt-neox-20b', EleutherAI/gpt-j-6B,'EleutherAI/gpt-neo-2.7B'"
   ]
  },
  {
   "cell_type": "code",
   "execution_count": 13,
   "id": "66d89878",
   "metadata": {},
   "outputs": [
    {
     "data": {
      "text/plain": [
       "(4226, 256008, 0.016507296646979783)"
      ]
     },
     "execution_count": 13,
     "metadata": {},
     "output_type": "execute_result"
    }
   ],
   "source": [
    "#% thai subwords; xglm\n",
    "thai_toks = [i for i in tokenizer_xglm.vocab if has_thai_char(i)]\n",
    "len(thai_toks), len(tokenizer_xglm.vocab), len(thai_toks) / len(tokenizer_xglm.vocab)"
   ]
  },
  {
   "cell_type": "code",
   "execution_count": 14,
   "id": "99d2d43c",
   "metadata": {},
   "outputs": [
    {
     "data": {
      "text/plain": [
       "(143413, 256008, 0.5601895253273336)"
      ]
     },
     "execution_count": 14,
     "metadata": {},
     "output_type": "execute_result"
    }
   ],
   "source": [
    "#% eng subwords; xglm\n",
    "eng_toks = [i for i in tokenizer_xglm.vocab if has_english_char(i)]\n",
    "len(eng_toks), len(tokenizer_xglm.vocab), len(eng_toks) / len(tokenizer_xglm.vocab)"
   ]
  },
  {
   "cell_type": "code",
   "execution_count": 15,
   "id": "415b5016",
   "metadata": {},
   "outputs": [
    {
     "data": {
      "text/plain": [
       "(0, 100000, 0.0)"
      ]
     },
     "execution_count": 15,
     "metadata": {},
     "output_type": "execute_result"
    }
   ],
   "source": [
    "#% thai subwords; mgpt\n",
    "thai_toks = [i for i in tokenizer_mgpt.vocab if has_thai_char(i)]\n",
    "len(thai_toks), len(tokenizer_mgpt.vocab), len(thai_toks) / len(tokenizer_mgpt.vocab)"
   ]
  },
  {
   "cell_type": "code",
   "execution_count": 16,
   "id": "714b038a",
   "metadata": {},
   "outputs": [
    {
     "data": {
      "text/plain": [
       "(65524, 100000, 0.65524)"
      ]
     },
     "execution_count": 16,
     "metadata": {},
     "output_type": "execute_result"
    }
   ],
   "source": [
    "#% eng subwords; mgpt\n",
    "eng_toks = [i for i in tokenizer_mgpt.vocab if has_english_char(i)]\n",
    "len(eng_toks), len(tokenizer_mgpt.vocab), len(eng_toks) / len(tokenizer_mgpt.vocab)"
   ]
  },
  {
   "cell_type": "code",
   "execution_count": 17,
   "id": "5fd4ebad",
   "metadata": {},
   "outputs": [
    {
     "data": {
      "text/plain": [
       "(0, 50400, 0.0)"
      ]
     },
     "execution_count": 17,
     "metadata": {},
     "output_type": "execute_result"
    }
   ],
   "source": [
    "#% thai subwords; gptj\n",
    "thai_toks = [i for i in tokenizer_gptj.vocab if has_thai_char(i)]\n",
    "len(thai_toks), len(tokenizer_gptj.vocab), len(thai_toks) / len(tokenizer_gptj.vocab)"
   ]
  },
  {
   "cell_type": "code",
   "execution_count": 18,
   "id": "48250c00",
   "metadata": {},
   "outputs": [
    {
     "data": {
      "text/plain": [
       "(49565, 50400, 0.9834325396825396)"
      ]
     },
     "execution_count": 18,
     "metadata": {},
     "output_type": "execute_result"
    }
   ],
   "source": [
    "#% eng subwords; gptj\n",
    "eng_toks = [i for i in tokenizer_gptj.vocab if has_english_char(i)]\n",
    "len(eng_toks), len(tokenizer_gptj.vocab), len(eng_toks) / len(tokenizer_gptj.vocab)"
   ]
  },
  {
   "cell_type": "code",
   "execution_count": 19,
   "id": "cf542e7e",
   "metadata": {},
   "outputs": [],
   "source": [
    "thai_words_df = pd.DataFrame({'thai_word': list(thai_words())})\n",
    "thai_words_df['xglm_tokens'] = thai_words_df\\\n",
    "    .thai_word.map(lambda x: [tokenizer_xglm.decode(i) for i in tokenizer_xglm.encode(x)])\n",
    "thai_words_df['xglm_nb_tokens'] = thai_words_df['xglm_tokens'].map(lambda x: len(x))\n",
    "thai_words_df['mgpt_tokens'] = thai_words_df\\\n",
    "    .thai_word.map(lambda x: [tokenizer_mgpt.decode(i) for i in tokenizer_mgpt.encode(x)])\n",
    "thai_words_df['mgpt_nb_tokens'] = thai_words_df['mgpt_tokens'].map(lambda x: len(x))\n",
    "thai_words_df['gptj_tokens'] = thai_words_df\\\n",
    "    .thai_word.map(lambda x: [tokenizer_gptj.decode(i) for i in tokenizer_gptj.encode(x)])\n",
    "thai_words_df['gptj_nb_tokens'] = thai_words_df['gptj_tokens'].map(lambda x: len(x))"
   ]
  },
  {
   "cell_type": "code",
   "execution_count": 20,
   "id": "07e1c682",
   "metadata": {},
   "outputs": [
    {
     "data": {
      "text/html": [
       "<div>\n",
       "<style scoped>\n",
       "    .dataframe tbody tr th:only-of-type {\n",
       "        vertical-align: middle;\n",
       "    }\n",
       "\n",
       "    .dataframe tbody tr th {\n",
       "        vertical-align: top;\n",
       "    }\n",
       "\n",
       "    .dataframe thead th {\n",
       "        text-align: right;\n",
       "    }\n",
       "</style>\n",
       "<table border=\"1\" class=\"dataframe\">\n",
       "  <thead>\n",
       "    <tr style=\"text-align: right;\">\n",
       "      <th></th>\n",
       "      <th>thai_word</th>\n",
       "      <th>xglm_tokens</th>\n",
       "      <th>xglm_nb_tokens</th>\n",
       "      <th>mgpt_tokens</th>\n",
       "      <th>mgpt_nb_tokens</th>\n",
       "      <th>gptj_tokens</th>\n",
       "      <th>gptj_nb_tokens</th>\n",
       "    </tr>\n",
       "  </thead>\n",
       "  <tbody>\n",
       "    <tr>\n",
       "      <th>0</th>\n",
       "      <td>ชิน คอร์ปอเรชั่น</td>\n",
       "      <td>[&lt;/s&gt;, ช, ิน, , คอร์, ป, อเร, ชั่น]</td>\n",
       "      <td>8</td>\n",
       "      <td>[ช, ิ, น,  ค, อร, ์, ป, อเร, ช, ั่, น]</td>\n",
       "      <td>11</td>\n",
       "      <td>[�, �, �, �, �, �,  , �, �, �, �, �, �, �, �, ...</td>\n",
       "      <td>31</td>\n",
       "    </tr>\n",
       "    <tr>\n",
       "      <th>1</th>\n",
       "      <td>การออม</td>\n",
       "      <td>[&lt;/s&gt;, การ, ออ, ม]</td>\n",
       "      <td>4</td>\n",
       "      <td>[การ, อ, อม]</td>\n",
       "      <td>3</td>\n",
       "      <td>[�, �, �, �, �, �, �, �, �, �, �, �]</td>\n",
       "      <td>12</td>\n",
       "    </tr>\n",
       "    <tr>\n",
       "      <th>2</th>\n",
       "      <td>ความสัตย์</td>\n",
       "      <td>[&lt;/s&gt;, ความ, สัต, ย์]</td>\n",
       "      <td>4</td>\n",
       "      <td>[ความ, ส, ั, ตย, ์]</td>\n",
       "      <td>5</td>\n",
       "      <td>[�, �, �, �, �, �, �, �, �, �, �, �, �, �, �, ...</td>\n",
       "      <td>18</td>\n",
       "    </tr>\n",
       "    <tr>\n",
       "      <th>3</th>\n",
       "      <td>คอต่อ</td>\n",
       "      <td>[&lt;/s&gt;, , คอ, ต่อ]</td>\n",
       "      <td>4</td>\n",
       "      <td>[ค, อต, ่, อ]</td>\n",
       "      <td>4</td>\n",
       "      <td>[�, �, �, �, �, �, �, �, �, �]</td>\n",
       "      <td>10</td>\n",
       "    </tr>\n",
       "    <tr>\n",
       "      <th>4</th>\n",
       "      <td>ตีหน้าเซ่อ</td>\n",
       "      <td>[&lt;/s&gt;, , ตี, หน้า, เ, ซ่อ]</td>\n",
       "      <td>6</td>\n",
       "      <td>[ต, ี, หน, ้, า, เซ, ่, อ]</td>\n",
       "      <td>8</td>\n",
       "      <td>[�, �, �, �, �, �, �, �, �, �, �, �, �, �, �, ...</td>\n",
       "      <td>20</td>\n",
       "    </tr>\n",
       "    <tr>\n",
       "      <th>5</th>\n",
       "      <td>กระหึม</td>\n",
       "      <td>[&lt;/s&gt;, กระ, ห, ึ, ม]</td>\n",
       "      <td>5</td>\n",
       "      <td>[กระ, ห, ึ, ม]</td>\n",
       "      <td>4</td>\n",
       "      <td>[�, �, �, �, �, �, �, �, �, �, �, �]</td>\n",
       "      <td>12</td>\n",
       "    </tr>\n",
       "    <tr>\n",
       "      <th>6</th>\n",
       "      <td>มัธยมศึกษา</td>\n",
       "      <td>[&lt;/s&gt;, , มั, ธ, ย, มศึกษา]</td>\n",
       "      <td>6</td>\n",
       "      <td>[ม, ั, ธ, ยม, ศ, ึ, กษา]</td>\n",
       "      <td>7</td>\n",
       "      <td>[�, �, �, �, �, �, �, �, �, �, �, �, �, �, �, ...</td>\n",
       "      <td>20</td>\n",
       "    </tr>\n",
       "    <tr>\n",
       "      <th>7</th>\n",
       "      <td>ลอว์เรนเซียม</td>\n",
       "      <td>[&lt;/s&gt;, , ลอ, ว์, เร, น, เซีย, ม]</td>\n",
       "      <td>8</td>\n",
       "      <td>[ล, อว, ์, เร, น, เซ, ี, ยม]</td>\n",
       "      <td>8</td>\n",
       "      <td>[�, �, �, �, �, �, �, �, �, �, �, �, �, �, �, ...</td>\n",
       "      <td>24</td>\n",
       "    </tr>\n",
       "    <tr>\n",
       "      <th>8</th>\n",
       "      <td>เอ็คโคไวรัส</td>\n",
       "      <td>[&lt;/s&gt;, เอ, ็ค, โค, ไว, รัส]</td>\n",
       "      <td>6</td>\n",
       "      <td>[เอ, ็, ค, โค, ไว, ร, ั, ส]</td>\n",
       "      <td>8</td>\n",
       "      <td>[�, �, �, �, �, �, �, �, �, �, �, �, �, �, �, ...</td>\n",
       "      <td>22</td>\n",
       "    </tr>\n",
       "    <tr>\n",
       "      <th>9</th>\n",
       "      <td>คร่ำ</td>\n",
       "      <td>[&lt;/s&gt;, , คร, ่ํา]</td>\n",
       "      <td>4</td>\n",
       "      <td>[คร, ่, ำ]</td>\n",
       "      <td>3</td>\n",
       "      <td>[�, �, �, �, �, �, �, �]</td>\n",
       "      <td>8</td>\n",
       "    </tr>\n",
       "  </tbody>\n",
       "</table>\n",
       "</div>"
      ],
      "text/plain": [
       "          thai_word                          xglm_tokens  xglm_nb_tokens  \\\n",
       "0  ชิน คอร์ปอเรชั่น  [</s>, ช, ิน, , คอร์, ป, อเร, ชั่น]               8   \n",
       "1            การออม                   [</s>, การ, ออ, ม]               4   \n",
       "2         ความสัตย์                [</s>, ความ, สัต, ย์]               4   \n",
       "3             คอต่อ                    [</s>, , คอ, ต่อ]               4   \n",
       "4        ตีหน้าเซ่อ           [</s>, , ตี, หน้า, เ, ซ่อ]               6   \n",
       "5            กระหึม                 [</s>, กระ, ห, ึ, ม]               5   \n",
       "6        มัธยมศึกษา           [</s>, , มั, ธ, ย, มศึกษา]               6   \n",
       "7      ลอว์เรนเซียม     [</s>, , ลอ, ว์, เร, น, เซีย, ม]               8   \n",
       "8       เอ็คโคไวรัส          [</s>, เอ, ็ค, โค, ไว, รัส]               6   \n",
       "9              คร่ำ                    [</s>, , คร, ่ํา]               4   \n",
       "\n",
       "                              mgpt_tokens  mgpt_nb_tokens  \\\n",
       "0  [ช, ิ, น,  ค, อร, ์, ป, อเร, ช, ั่, น]              11   \n",
       "1                            [การ, อ, อม]               3   \n",
       "2                     [ความ, ส, ั, ตย, ์]               5   \n",
       "3                           [ค, อต, ่, อ]               4   \n",
       "4              [ต, ี, หน, ้, า, เซ, ่, อ]               8   \n",
       "5                          [กระ, ห, ึ, ม]               4   \n",
       "6                [ม, ั, ธ, ยม, ศ, ึ, กษา]               7   \n",
       "7            [ล, อว, ์, เร, น, เซ, ี, ยม]               8   \n",
       "8             [เอ, ็, ค, โค, ไว, ร, ั, ส]               8   \n",
       "9                              [คร, ่, ำ]               3   \n",
       "\n",
       "                                         gptj_tokens  gptj_nb_tokens  \n",
       "0  [�, �, �, �, �, �,  , �, �, �, �, �, �, �, �, ...              31  \n",
       "1               [�, �, �, �, �, �, �, �, �, �, �, �]              12  \n",
       "2  [�, �, �, �, �, �, �, �, �, �, �, �, �, �, �, ...              18  \n",
       "3                     [�, �, �, �, �, �, �, �, �, �]              10  \n",
       "4  [�, �, �, �, �, �, �, �, �, �, �, �, �, �, �, ...              20  \n",
       "5               [�, �, �, �, �, �, �, �, �, �, �, �]              12  \n",
       "6  [�, �, �, �, �, �, �, �, �, �, �, �, �, �, �, ...              20  \n",
       "7  [�, �, �, �, �, �, �, �, �, �, �, �, �, �, �, ...              24  \n",
       "8  [�, �, �, �, �, �, �, �, �, �, �, �, �, �, �, ...              22  \n",
       "9                           [�, �, �, �, �, �, �, �]               8  "
      ]
     },
     "execution_count": 20,
     "metadata": {},
     "output_type": "execute_result"
    }
   ],
   "source": [
    "thai_words_df.head(10)"
   ]
  },
  {
   "cell_type": "code",
   "execution_count": 22,
   "id": "fa491d35",
   "metadata": {},
   "outputs": [
    {
     "data": {
      "text/plain": [
       "<AxesSubplot:>"
      ]
     },
     "execution_count": 22,
     "metadata": {},
     "output_type": "execute_result"
    },
    {
     "data": {
      "image/png": "[encoded data removed]",
      "text/plain": [
       "<Figure size 640x480 with 1 Axes>"
      ]
     },
     "metadata": {},
     "output_type": "display_data"
    }
   ],
   "source": [
    "thai_words_df['diff_nb_tokens'] = thai_words_df.xglm_nb_tokens - 1 - thai_words_df.mgpt_nb_tokens\n",
    "thai_words_df.diff_nb_tokens.hist(bins=10)"
   ]
  },
  {
   "cell_type": "code",
   "execution_count": 23,
   "id": "879e1b08",
   "metadata": {},
   "outputs": [
    {
     "data": {
      "text/plain": [
       "array([-19.,  -4.,  -3.,  -2.,  -2.,  -1.,  -1.,  -1.,   0.,   0.])"
      ]
     },
     "execution_count": 23,
     "metadata": {},
     "output_type": "execute_result"
    }
   ],
   "source": [
    "#about 80% of the cases xglm tokenizes to fewer tokens\n",
    "np.percentile(thai_words_df.diff_nb_tokens, np.arange(0, 100, 10))"
   ]
  },
  {
   "cell_type": "code",
   "execution_count": null,
   "id": "244b878d",
   "metadata": {},
   "outputs": [],
   "source": [
    "from datasets import load_dataset\n",
    "\n",
    "iapp = load_dataset('iapp_wiki_qa_squad')\n",
    "iapp"
   ]
  },
  {
   "cell_type": "code",
   "execution_count": null,
   "id": "0b118938",
   "metadata": {},
   "outputs": [],
   "source": [
    "iapp['train'][0]['answers']['text'][0]"
   ]
  },
  {
   "cell_type": "code",
   "execution_count": null,
   "id": "9d589ab5",
   "metadata": {},
   "outputs": [],
   "source": [
    "ds = []\n",
    "for i in iapp['train']:\n",
    "    ds.append({'concat': f\"C: {i['context']} Q:{i['question']} A:{i['answers']['text'][0]}\"})\n",
    "iapp_df = pd.DataFrame(ds)\n",
    "iapp_df['nb_tokens'] = iapp_df.concat.map(lambda x: len(tokenizer_xglm.encode(x)))"
   ]
  },
  {
   "cell_type": "code",
   "execution_count": null,
   "id": "8c8532ea",
   "metadata": {},
   "outputs": [],
   "source": [
    "#90% is less than 573 tokens\n",
    "np.percentile(iapp_df.nb_tokens, np.arange(0, 100, 10))"
   ]
  },
  {
   "cell_type": "code",
   "execution_count": null,
   "id": "06ff2bed",
   "metadata": {},
   "outputs": [],
   "source": [
    "(iapp_df.nb_tokens>512).mean(), iapp_df.shape"
   ]
  },
  {
   "cell_type": "code",
   "execution_count": null,
   "id": "4a03f7ff",
   "metadata": {},
   "outputs": [],
   "source": [
    "iapp_df['nb_tokens'].hist()"
   ]
  },
  {
   "cell_type": "markdown",
   "id": "ec3ded98",
   "metadata": {},
   "source": [
    "## Few-shot Inferences"
   ]
  },
  {
   "cell_type": "code",
   "execution_count": null,
   "id": "1c9d7634",
   "metadata": {},
   "outputs": [],
   "source": [
    "pretrained = 'facebook/xglm-564M'\n",
    "tokenizer = AutoTokenizer.from_pretrained(pretrained)\n",
    "model = AutoModelForCausalLMWithValueHead.from_pretrained(pretrained).to(device)\n",
    "model_ref = create_reference_model(model).to(\"cuda\")"
   ]
  },
  {
   "cell_type": "code",
   "execution_count": null,
   "id": "ac94f2bf",
   "metadata": {},
   "outputs": [],
   "source": [
    "# initialize trainer\n",
    "ppo_config = PPOConfig(\n",
    "    batch_size=1,\n",
    "    forward_batch_size=1\n",
    ")\n",
    "ppo_trainer = PPOTrainer(ppo_config, model, model_ref, tokenizer)"
   ]
  },
  {
   "cell_type": "code",
   "execution_count": null,
   "id": "45e37801",
   "metadata": {},
   "outputs": [],
   "source": [
    "# encode a query\n",
    "query_txt = [\"Q: ทีมไรเมพสุดในเกาะอังกฤษ A:\" for i in range(10)]\n",
    "query_tensor = tokenizer.encode(query_txt, return_tensors=\"pt\").to(device)\n",
    "\n",
    "# get model response\n",
    "response_tensor  = respond_to_batch(model_ref, query_tensor,\n",
    "                                   txt_len=512, top_k=0, top_p=1.,\n",
    "                                   end=2)\n",
    "tokenizer.decode(response_tensor[0])"
   ]
  },
  {
   "cell_type": "code",
   "execution_count": null,
   "id": "e71783bd",
   "metadata": {},
   "outputs": [],
   "source": [
    "# encode a query\n",
    "query_txt = [\"Q: ทีมฟุตบอลทีมไหนเก่งที่สุดในเกาะอังกฤษ? A:\" for i in range(10)]\n",
    "query_tensor = tokenizer(text=query_txt, return_tensors=\"pt\").to(device)"
   ]
  },
  {
   "cell_type": "code",
   "execution_count": 11,
   "id": "87c64f3e",
   "metadata": {},
   "outputs": [
    {
     "ename": "NameError",
     "evalue": "name 'model_ref' is not defined",
     "output_type": "error",
     "traceback": [
      "\u001b[0;31m---------------------------------------------------------------------------\u001b[0m",
      "\u001b[0;31mNameError\u001b[0m                                 Traceback (most recent call last)",
      "File \u001b[0;32m<timed exec>:1\u001b[0m\n",
      "\u001b[0;31mNameError\u001b[0m: name 'model_ref' is not defined"
     ]
    }
   ],
   "source": [
    "%%time\n",
    "response_tensor  = respond_to_batch(model_ref, query_tensor['input_ids'],\n",
    "                                   txt_len=128, top_k=0, top_p=1.)"
   ]
  },
  {
   "cell_type": "code",
   "execution_count": 200,
   "id": "e2bccca3",
   "metadata": {},
   "outputs": [
    {
     "data": {
      "text/plain": [
       "['แมนเชสเตอร์ยูไนเต็ด ทีมอันดับ 10 แมนฯยูไนเต็ด MOU เปลี่ยนแปลงพรีเมียร์ลีก 2015-16 รอบชิงชนะเลิศ และ รอบชิงชนะเลิศก็ เป็นการต่อสัญญากับทาง ลิเวอร์พูล แล้ว ทีแรกเราก็คิดว่าไม่น่าจะพลาด ได้ลงเล่นแล้ว ก็ต้องขึ้นอยู่กับ แฟนๆ ล้านปอนด์ว่า “เราจะให้มี ลิเวอร์พูล ลงช่วยมากกว่านี้ไหม?”</s> ถามว่า เนื้อเครื่องของเมืองแมนเชสเตอร์ ดูเหมือนจะย่อส่วนลง เพราะแข่งในเอ็นเอสอาร์เอ (เอ็นไควอลได้กว่าฝั่งสิงคโปร์ 400 เท่า) ซึ่งนายจ้างกําลังเพิกเฉยต่อ เลยพยายามทําให้เดอะค',\n",
       " 'ปีก่อนแข่งในรอบแรก</s> Q: หลังจากกําเนิดสโมสรฟุตบอลยุค 90 ทีมฟุตบอลไทยประสบความสําเร็จจนฉ</s> Q: งานแต่งกับลีโอนาร์โด้ ทายาทโอเรียนท์ในประเทศอิตาลี A: หลังจากสารพั</s> Q: การปรับตัวของรัฐบาลในอังกฤษหลังการไฟไหม้ประตูไฟไหม้ทางสโมสร A</s> Q: อีกมุมหนึ่งของประวัติศาสตร์ฟุตบอลอังกฤษ A: ในปี 1978 สโมสรฟุตบอล</s> Q: นักเตะเจ้าของสโมสรฟุตบอลในประเทศอังกฤษ A: ผมจะลองกล่าวอะไรกับท่าน</s> Q: นักโทษเยาวชนอายุ 16-18 ปีในประเทศอังกฤษคือใคร? A: นักเตะฟุตบอล ที</s>',\n",
       " 'ทีมฟุตบอลจากสโมสรฮอนธิกรลีก : อยู่แชมเปี้ยนลีก์. Netherlands Premier League : นิลแลนด์พรีเมียร์ลีกสโมสร:ลิเวอร์พูลฮ็อตสเปอร์ฮิโรชิมา the beatlesตูร์คูมาริตราร์ไรเซาเซ็ร็ดส์สนามเหย้า: Trent Bridge[ถิ่น] : Train Stationลีดส์คัพ (Loss of leg) 22 ย. 2012 19:00</s> จําไว้ตลอด _ ลืมรหัสผ่าน</s> ไฮไลท์ฟุตบอลลิเวอร์พูล 1-1 เปแอสเช</s> ไปติดที่เว็บท่านได้ดังนี้</s></s> 1.Welcomes Guest เย่า I_Uno',\n",
       " 'เสมอ 2. มีเวลาเหลือก็ดึงฟอร์มดาวรุ่งคว้าแชมป์มา พวกเขาก็เก่งนั่นเอง</s> Q: ทีมฟุตบอลทีมไหนเก่งที่สุดในต่างดาว? A: เสมอ 2. ไม่มีเวลาเหลือก็ดึงฟอร์มดาวรุ่งคว้าแชมป์มา</s> เกาะอังกฤษ มีแข้งทีมบอลดังอย่างทีมชาติอังกฤษครบทุกคนและที่แฟน ๆ ต่างพูดถึงอันดับ 1 ยังอยู่กลุ่มรอง อังกฤษไม่มีนักเตะสเปนหลายๆคนมาติดตัวแม้แต่คนเดียว แบบนี้ทําให้เราต้องขยับไปหาก่าน 2 เกาะต่อไปและสิ่งสําคัญที่สุดก็อยู่ที่เราต้องการคว้าแชมป์บอลในรายการ ลา ลีกา</s> เล่นบอลผิดกฏหมายหวย',\n",
       " 'ทีม MSA FC อันดับ 6 จากคาลโซบะ, ทีมการแข่งขันจัดที่สนามเวมบลีย์ มีการแข่งประมาณ 150 ราคาขงพระเจ้าชนะ 33 แมตซ์ x 1 คะแนน บอล คู่นี้ถือว่าเป็นทีมที่ใหญ่มาก...... หากสนใจเขียนบัลบ๊วยหรือดันเกรด เรามีทีมระดับมิดฟิลด์ หรือโค้ชคุณภาพที่เป็นมืออาชีพ ทีม MAFC คือทีมอื่นๆ ที่เก่งและสวยที่สุด ทีมอาจจะอายุน้อยกว่า ทีมที่ขอบข่ายเป็นตัวรุกบุกจริงๆ ด่านเป็นฝ่ายติดค่อนข้างแน่นอน แค่เสียประตูแล้วเป็นฝ่ายพ่ายนั้นเรียกว่าไม่ขยิบถอย แต่ก็ยังสามารถลดปัญหา',\n",
       " '</s> เอ็นบีเอ: แอตเลติโก้ มาดริด</s> ลูเคียน: แค่ ฟุตซอลหรือสเปน</s> ลูเคียน: จอร์แดน กับสก็อตแลนด์</s> แอต.มาดริด: ซีดาน, เป๊็ตติ</s> ใครชนะมากสุดในพรีเมียร์ลีกครั้งที่เป็นตํานานมาตลอดทั้งชีวิตแต่ละทีม อันดับแรกคืออังกฤษในปี 35 กับ มาดริด 6 สมัย และท้ายสุดก็ 2003 เท่านั้น</s> นักเขียน \"ผมมีหลาน\" ติดตามลิเวอร์พูลใน Twitter</s> แท็ก: พรีเมียร์ลีก ลิเวอร์พูล _ นักเตะ _ ตํานาน</s> ทิ้ง',\n",
       " 'มากอย่างแฟนลิเวอร์พูลทีมเล็กๆ จะอันดับที่ 3 ซึ่งทีมนี้มีผู้เล่นแทบทั้งสิ้น 1200 คน ส่วนทีมเยอะอย่างทีมแมนฯยูไนเต็ด ถึงอันดับที่ 4 และอันดับ 9 ส่วนใหญ่จะแต่งตัวคาดเดาโดยแฟนหงส์ ขณะที่ทีมจริงยังมีแข้งอีกมากมาย อาทิ เรตบอลถือว่าน่าฟัน อังกฤษว่าคือแชมป์ในปี ค.ศ. 2012-2025 ต้องแจ้งให้ทีมอื่นทราบ เท่าที่ผ่านมาก็มีแค่ค็อปเละๆเท่านั้น ผู้ชนะสูงสุดของปี ค.ศ. 2012 ใน2นัด ชนะลิเวอร์พูล 2-0 และผลงานที่ ดาร์เซ่น 1-0 ก็เป็น 2 นัดสุดท้าย</s> อูติเย',\n",
       " 'ดวีเดน</s> ✓ ตัวเต็ง: ทีมชาติ อิตาลี</s> แจ้งผลการ เดิมพันได้ทีไอดีไลน์ไอดี nappikid ข้างล่างนี้ครับ</s> เว็บพนันบอล แทงบอลเต็ง หวยออนไลน์ หวยลาวออนไลน์ เ ว็บออนไลน์</s> เล่นบอล บอลสเต็ป แทงบอลให้ได้เงิน ขั้นต่ํา 3,000 บาท</s> บทความก่อนหน้านี้โค้ชโฟเมโน่ชี้แจงกรณีดวลสวิตเซอร์แลนด์ว่าทีมควรปล่อยนักเตะ4คนไปเล่นนอกบ้าน</s> บทความถัดไปเปิดศึกเชือด เซบีญา</s> บทความที่เกี่ยวข้องเพิ่มเติมจากผู้เขียน</s> หลายๆคนที่เป็น',\n",
       " 'มันคือกลุ่มของทีมจริง (Real Madrid, Manchester City) ใช้ชื่อเหย้าว่า Bienev เป็นทีมเดียวกัน แต่มีชื่อทีมว่า Bienev</s> นายจ้างให้งานเงินตอบแทนไว้กับลูกจ้าง 10 เดือน</s> ไม่ได้บังคับให้ลูกรู้ว่าประท้วงไฟไหม้เสียงเป็นแค่เครื่องมือเท่านั้น</s> ไม่ได้รับเส้นสั่งซื้อจาก FSC ถึง 4 ล้านเหรียญสหรัฐ</s> ชาวคาบสมุทรบอสเนียและเฮอร์เซโกวลาทางเหนือกว่าที่แกบอกว่าคุณทํา</s></s> สิ่งที่จะกินเป็นยาเม็ดเพื่อเพิ่มความแข็งแรง - ค้อนของ ธ อร์ซื้อในโวลโกกราด</s> สิ่งที่จะ',\n",
       " 'วีแกนวิลล์ 3-0 เซอร์เวน่าฯ \"มันไม่ใช่แค่อังกฤษฟุตบอล มันเป็นทีมฟุตบอลมันมีทุกคนถูกแบ่งตามสาขาอาชีพ ลูกทีมเก่งในทุกๆด้าน แต่จนแล้วจนรอดพวกเขาก็ไม่สามารถหยุดนักเตะที่ทําให้อะไรเป็นเรื่องยาก และเล่นเกมที่เหลือมันผิดพลาดและเห็นแววหิน\" เจนนิเฟอร์ แลมเดิล</s> Q: ทีมไหนจะมีโอกาสคว้าแชมป์กับเอ็นจีวีฤดูกาลนี้? A: เอสบีเอ็มวี - หายนะรังในปี 1995 ทีมและอาแจ็กซ์ ที่สบช่องเอาชนะปี 1995 นั้นทําให้ในปี 1995 ทีมแย่ไปเสียจนเกือบจะเลิกเต']"
      ]
     },
     "execution_count": 200,
     "metadata": {},
     "output_type": "execute_result"
    }
   ],
   "source": [
    "tokenizer.batch_decode(response_tensor)"
   ]
  },
  {
   "cell_type": "code",
   "execution_count": 203,
   "id": "3c2cb39e",
   "metadata": {},
   "outputs": [],
   "source": [
    "from datasets import Dataset\n",
    "\n",
    "# Define the file path\n",
    "all_df = pd.read_csv('../data_large/all_df.csv')\n",
    "\n",
    "# # Create a Hugging Face dataset from the list of lines\n",
    "# dataset = Dataset.from_dict({\"text\": lines})"
   ]
  },
  {
   "cell_type": "code",
   "execution_count": 204,
   "id": "4b6a68ef",
   "metadata": {},
   "outputs": [
    {
     "data": {
      "text/html": [
       "<div>\n",
       "<style scoped>\n",
       "    .dataframe tbody tr th:only-of-type {\n",
       "        vertical-align: middle;\n",
       "    }\n",
       "\n",
       "    .dataframe tbody tr th {\n",
       "        vertical-align: top;\n",
       "    }\n",
       "\n",
       "    .dataframe thead th {\n",
       "        text-align: right;\n",
       "    }\n",
       "</style>\n",
       "<table border=\"1\" class=\"dataframe\">\n",
       "  <thead>\n",
       "    <tr style=\"text-align: right;\">\n",
       "      <th></th>\n",
       "      <th>datasource_url_x</th>\n",
       "      <th>content_id</th>\n",
       "      <th>type_x</th>\n",
       "      <th>title</th>\n",
       "      <th>body</th>\n",
       "      <th>total_field</th>\n",
       "      <th>tags</th>\n",
       "      <th>like_score_x</th>\n",
       "      <th>feel_heart_x</th>\n",
       "      <th>feel_laugh_x</th>\n",
       "      <th>...</th>\n",
       "      <th>type_y</th>\n",
       "      <th>comment</th>\n",
       "      <th>like_score_y</th>\n",
       "      <th>feel_heart_y</th>\n",
       "      <th>feel_laugh_y</th>\n",
       "      <th>feel_love_y</th>\n",
       "      <th>feel_sad_y</th>\n",
       "      <th>feel_horror_y</th>\n",
       "      <th>feel_wow_y</th>\n",
       "      <th>nb_interact</th>\n",
       "    </tr>\n",
       "  </thead>\n",
       "  <tbody>\n",
       "    <tr>\n",
       "      <th>0</th>\n",
       "      <td>https://pantip.com/topic/36188003</td>\n",
       "      <td>36188003</td>\n",
       "      <td>content</td>\n",
       "      <td>ส่งDMในทวิตไม่ได้ ทำยังไงดี?</td>\n",
       "      <td>DMในทวิตไม่ได้ค่ะ พอส่งมันก็ขึ้นว่า การดำเนินก...</td>\n",
       "      <td>4</td>\n",
       "      <td>Social Network,Twitter</td>\n",
       "      <td>0</td>\n",
       "      <td>0</td>\n",
       "      <td>0</td>\n",
       "      <td>...</td>\n",
       "      <td>comment</td>\n",
       "      <td>ส่งหาใครคะ ดีเอ็มต้องโฟโลทั้งสองฝ่ายปะอะ</td>\n",
       "      <td>0</td>\n",
       "      <td>0</td>\n",
       "      <td>0</td>\n",
       "      <td>0</td>\n",
       "      <td>0</td>\n",
       "      <td>0</td>\n",
       "      <td>0</td>\n",
       "      <td>0</td>\n",
       "    </tr>\n",
       "    <tr>\n",
       "      <th>1</th>\n",
       "      <td>https://pantip.com/topic/36188003</td>\n",
       "      <td>36188003</td>\n",
       "      <td>content</td>\n",
       "      <td>ส่งDMในทวิตไม่ได้ ทำยังไงดี?</td>\n",
       "      <td>DMในทวิตไม่ได้ค่ะ พอส่งมันก็ขึ้นว่า การดำเนินก...</td>\n",
       "      <td>4</td>\n",
       "      <td>Social Network,Twitter</td>\n",
       "      <td>0</td>\n",
       "      <td>0</td>\n",
       "      <td>0</td>\n",
       "      <td>...</td>\n",
       "      <td>comment</td>\n",
       "      <td>ไม่ต้อง follow กันและกัน ก็ส่งได้นะส่งมาแล้วแต...</td>\n",
       "      <td>0</td>\n",
       "      <td>0</td>\n",
       "      <td>0</td>\n",
       "      <td>0</td>\n",
       "      <td>0</td>\n",
       "      <td>0</td>\n",
       "      <td>0</td>\n",
       "      <td>0</td>\n",
       "    </tr>\n",
       "    <tr>\n",
       "      <th>2</th>\n",
       "      <td>https://pantip.com/topic/36188003</td>\n",
       "      <td>36188003</td>\n",
       "      <td>content</td>\n",
       "      <td>ส่งDMในทวิตไม่ได้ ทำยังไงดี?</td>\n",
       "      <td>DMในทวิตไม่ได้ค่ะ พอส่งมันก็ขึ้นว่า การดำเนินก...</td>\n",
       "      <td>4</td>\n",
       "      <td>Social Network,Twitter</td>\n",
       "      <td>0</td>\n",
       "      <td>0</td>\n",
       "      <td>0</td>\n",
       "      <td>...</td>\n",
       "      <td>comment</td>\n",
       "      <td>จขกท.แก้ได้ยังค่ะ เราก็เปน ฝากด้วยนะคะ(แต่เราส...</td>\n",
       "      <td>0</td>\n",
       "      <td>0</td>\n",
       "      <td>0</td>\n",
       "      <td>0</td>\n",
       "      <td>0</td>\n",
       "      <td>0</td>\n",
       "      <td>0</td>\n",
       "      <td>0</td>\n",
       "    </tr>\n",
       "    <tr>\n",
       "      <th>3</th>\n",
       "      <td>https://pantip.com/topic/36188003</td>\n",
       "      <td>36188003</td>\n",
       "      <td>content</td>\n",
       "      <td>ส่งDMในทวิตไม่ได้ ทำยังไงดี?</td>\n",
       "      <td>DMในทวิตไม่ได้ค่ะ พอส่งมันก็ขึ้นว่า การดำเนินก...</td>\n",
       "      <td>4</td>\n",
       "      <td>Social Network,Twitter</td>\n",
       "      <td>0</td>\n",
       "      <td>0</td>\n",
       "      <td>0</td>\n",
       "      <td>...</td>\n",
       "      <td>comment</td>\n",
       "      <td>แก้ได้ยังคะ?เราก็เป็น</td>\n",
       "      <td>0</td>\n",
       "      <td>0</td>\n",
       "      <td>0</td>\n",
       "      <td>0</td>\n",
       "      <td>0</td>\n",
       "      <td>0</td>\n",
       "      <td>0</td>\n",
       "      <td>0</td>\n",
       "    </tr>\n",
       "    <tr>\n",
       "      <th>4</th>\n",
       "      <td>https://pantip.com/topic/36188206</td>\n",
       "      <td>36188206</td>\n",
       "      <td>content</td>\n",
       "      <td>ใช้เน็ตบ้านทรูขึ้น ERR_CONNECTION_RESET  บ่อยม...</td>\n",
       "      <td>ใช้เน็ตบ้านทรูขึ้น ERR_CONNECTION_RESET  บ่อยม...</td>\n",
       "      <td>3</td>\n",
       "      <td>อินเทอร์เน็ต,ADSL,Network,true online,Wi-Fi</td>\n",
       "      <td>0</td>\n",
       "      <td>0</td>\n",
       "      <td>0</td>\n",
       "      <td>...</td>\n",
       "      <td>comment</td>\n",
       "      <td>ไม่ไหว เบื่อ ที่เรียกซ่อม</td>\n",
       "      <td>0</td>\n",
       "      <td>0</td>\n",
       "      <td>0</td>\n",
       "      <td>0</td>\n",
       "      <td>0</td>\n",
       "      <td>0</td>\n",
       "      <td>0</td>\n",
       "      <td>0</td>\n",
       "    </tr>\n",
       "    <tr>\n",
       "      <th>...</th>\n",
       "      <td>...</td>\n",
       "      <td>...</td>\n",
       "      <td>...</td>\n",
       "      <td>...</td>\n",
       "      <td>...</td>\n",
       "      <td>...</td>\n",
       "      <td>...</td>\n",
       "      <td>...</td>\n",
       "      <td>...</td>\n",
       "      <td>...</td>\n",
       "      <td>...</td>\n",
       "      <td>...</td>\n",
       "      <td>...</td>\n",
       "      <td>...</td>\n",
       "      <td>...</td>\n",
       "      <td>...</td>\n",
       "      <td>...</td>\n",
       "      <td>...</td>\n",
       "      <td>...</td>\n",
       "      <td>...</td>\n",
       "      <td>...</td>\n",
       "    </tr>\n",
       "    <tr>\n",
       "      <th>11403905</th>\n",
       "      <td>https://pantip.com/topic/31113669</td>\n",
       "      <td>31113669</td>\n",
       "      <td>content</td>\n",
       "      <td>เคยมีสโมสร ลาลีกา spain ไปเตะที่หมู่เกาะ canar...</td>\n",
       "      <td>หมู่เกาะ canary เกาะ medeira จะอยู่ใกล้ทวีป af...</td>\n",
       "      <td>7</td>\n",
       "      <td>ฟุตบอล,ฟุตบอลต่างประเทศ</td>\n",
       "      <td>0</td>\n",
       "      <td>0</td>\n",
       "      <td>0</td>\n",
       "      <td>...</td>\n",
       "      <td>comment</td>\n",
       "      <td>ทีม Nacional ไง ทีมเก่าของเจ็ทโด้ก่อนย้ายไปปอร...</td>\n",
       "      <td>0</td>\n",
       "      <td>2</td>\n",
       "      <td>0</td>\n",
       "      <td>0</td>\n",
       "      <td>0</td>\n",
       "      <td>0</td>\n",
       "      <td>0</td>\n",
       "      <td>2</td>\n",
       "    </tr>\n",
       "    <tr>\n",
       "      <th>11403906</th>\n",
       "      <td>https://pantip.com/topic/31113669</td>\n",
       "      <td>31113669</td>\n",
       "      <td>content</td>\n",
       "      <td>เคยมีสโมสร ลาลีกา spain ไปเตะที่หมู่เกาะ canar...</td>\n",
       "      <td>หมู่เกาะ canary เกาะ medeira จะอยู่ใกล้ทวีป af...</td>\n",
       "      <td>7</td>\n",
       "      <td>ฟุตบอล,ฟุตบอลต่างประเทศ</td>\n",
       "      <td>0</td>\n",
       "      <td>0</td>\n",
       "      <td>0</td>\n",
       "      <td>...</td>\n",
       "      <td>comment</td>\n",
       "      <td>อีกทีมบนเกาะ Madeira ก็คือทีม Maritimo ครับ ถ้...</td>\n",
       "      <td>0</td>\n",
       "      <td>1</td>\n",
       "      <td>0</td>\n",
       "      <td>0</td>\n",
       "      <td>0</td>\n",
       "      <td>0</td>\n",
       "      <td>0</td>\n",
       "      <td>1</td>\n",
       "    </tr>\n",
       "    <tr>\n",
       "      <th>11403907</th>\n",
       "      <td>https://pantip.com/topic/31113669</td>\n",
       "      <td>31113669</td>\n",
       "      <td>content</td>\n",
       "      <td>เคยมีสโมสร ลาลีกา spain ไปเตะที่หมู่เกาะ canar...</td>\n",
       "      <td>หมู่เกาะ canary เกาะ medeira จะอยู่ใกล้ทวีป af...</td>\n",
       "      <td>7</td>\n",
       "      <td>ฟุตบอล,ฟุตบอลต่างประเทศ</td>\n",
       "      <td>0</td>\n",
       "      <td>0</td>\n",
       "      <td>0</td>\n",
       "      <td>...</td>\n",
       "      <td>comment</td>\n",
       "      <td>เกาะมาร์ยอก้า - รีล มาร์ยอก้าเกาะคอร์ซิก้า - A...</td>\n",
       "      <td>0</td>\n",
       "      <td>0</td>\n",
       "      <td>0</td>\n",
       "      <td>0</td>\n",
       "      <td>0</td>\n",
       "      <td>0</td>\n",
       "      <td>0</td>\n",
       "      <td>0</td>\n",
       "    </tr>\n",
       "    <tr>\n",
       "      <th>11403908</th>\n",
       "      <td>https://pantip.com/topic/31113669</td>\n",
       "      <td>31113669</td>\n",
       "      <td>content</td>\n",
       "      <td>เคยมีสโมสร ลาลีกา spain ไปเตะที่หมู่เกาะ canar...</td>\n",
       "      <td>หมู่เกาะ canary เกาะ medeira จะอยู่ใกล้ทวีป af...</td>\n",
       "      <td>7</td>\n",
       "      <td>ฟุตบอล,ฟุตบอลต่างประเทศ</td>\n",
       "      <td>0</td>\n",
       "      <td>0</td>\n",
       "      <td>0</td>\n",
       "      <td>...</td>\n",
       "      <td>comment</td>\n",
       "      <td>เจลีก เกาะทั้งประเทศยังเตะกันได้เลยครัช    บาง...</td>\n",
       "      <td>0</td>\n",
       "      <td>0</td>\n",
       "      <td>0</td>\n",
       "      <td>0</td>\n",
       "      <td>0</td>\n",
       "      <td>0</td>\n",
       "      <td>0</td>\n",
       "      <td>0</td>\n",
       "    </tr>\n",
       "    <tr>\n",
       "      <th>11403909</th>\n",
       "      <td>https://pantip.com/topic/31113669</td>\n",
       "      <td>31113669</td>\n",
       "      <td>content</td>\n",
       "      <td>เคยมีสโมสร ลาลีกา spain ไปเตะที่หมู่เกาะ canar...</td>\n",
       "      <td>หมู่เกาะ canary เกาะ medeira จะอยู่ใกล้ทวีป af...</td>\n",
       "      <td>7</td>\n",
       "      <td>ฟุตบอล,ฟุตบอลต่างประเทศ</td>\n",
       "      <td>0</td>\n",
       "      <td>0</td>\n",
       "      <td>0</td>\n",
       "      <td>...</td>\n",
       "      <td>comment</td>\n",
       "      <td>เจอทีม Luch-Energiya Vladivostok กับทีม SKA-En...</td>\n",
       "      <td>0</td>\n",
       "      <td>0</td>\n",
       "      <td>1</td>\n",
       "      <td>0</td>\n",
       "      <td>0</td>\n",
       "      <td>0</td>\n",
       "      <td>2</td>\n",
       "      <td>3</td>\n",
       "    </tr>\n",
       "  </tbody>\n",
       "</table>\n",
       "<p>11403910 rows × 26 columns</p>\n",
       "</div>"
      ],
      "text/plain": [
       "                           datasource_url_x  content_id   type_x  \\\n",
       "0         https://pantip.com/topic/36188003    36188003  content   \n",
       "1         https://pantip.com/topic/36188003    36188003  content   \n",
       "2         https://pantip.com/topic/36188003    36188003  content   \n",
       "3         https://pantip.com/topic/36188003    36188003  content   \n",
       "4         https://pantip.com/topic/36188206    36188206  content   \n",
       "...                                     ...         ...      ...   \n",
       "11403905  https://pantip.com/topic/31113669    31113669  content   \n",
       "11403906  https://pantip.com/topic/31113669    31113669  content   \n",
       "11403907  https://pantip.com/topic/31113669    31113669  content   \n",
       "11403908  https://pantip.com/topic/31113669    31113669  content   \n",
       "11403909  https://pantip.com/topic/31113669    31113669  content   \n",
       "\n",
       "                                                      title  \\\n",
       "0                              ส่งDMในทวิตไม่ได้ ทำยังไงดี?   \n",
       "1                              ส่งDMในทวิตไม่ได้ ทำยังไงดี?   \n",
       "2                              ส่งDMในทวิตไม่ได้ ทำยังไงดี?   \n",
       "3                              ส่งDMในทวิตไม่ได้ ทำยังไงดี?   \n",
       "4         ใช้เน็ตบ้านทรูขึ้น ERR_CONNECTION_RESET  บ่อยม...   \n",
       "...                                                     ...   \n",
       "11403905  เคยมีสโมสร ลาลีกา spain ไปเตะที่หมู่เกาะ canar...   \n",
       "11403906  เคยมีสโมสร ลาลีกา spain ไปเตะที่หมู่เกาะ canar...   \n",
       "11403907  เคยมีสโมสร ลาลีกา spain ไปเตะที่หมู่เกาะ canar...   \n",
       "11403908  เคยมีสโมสร ลาลีกา spain ไปเตะที่หมู่เกาะ canar...   \n",
       "11403909  เคยมีสโมสร ลาลีกา spain ไปเตะที่หมู่เกาะ canar...   \n",
       "\n",
       "                                                       body  total_field  \\\n",
       "0         DMในทวิตไม่ได้ค่ะ พอส่งมันก็ขึ้นว่า การดำเนินก...            4   \n",
       "1         DMในทวิตไม่ได้ค่ะ พอส่งมันก็ขึ้นว่า การดำเนินก...            4   \n",
       "2         DMในทวิตไม่ได้ค่ะ พอส่งมันก็ขึ้นว่า การดำเนินก...            4   \n",
       "3         DMในทวิตไม่ได้ค่ะ พอส่งมันก็ขึ้นว่า การดำเนินก...            4   \n",
       "4         ใช้เน็ตบ้านทรูขึ้น ERR_CONNECTION_RESET  บ่อยม...            3   \n",
       "...                                                     ...          ...   \n",
       "11403905  หมู่เกาะ canary เกาะ medeira จะอยู่ใกล้ทวีป af...            7   \n",
       "11403906  หมู่เกาะ canary เกาะ medeira จะอยู่ใกล้ทวีป af...            7   \n",
       "11403907  หมู่เกาะ canary เกาะ medeira จะอยู่ใกล้ทวีป af...            7   \n",
       "11403908  หมู่เกาะ canary เกาะ medeira จะอยู่ใกล้ทวีป af...            7   \n",
       "11403909  หมู่เกาะ canary เกาะ medeira จะอยู่ใกล้ทวีป af...            7   \n",
       "\n",
       "                                                 tags  like_score_x  \\\n",
       "0                              Social Network,Twitter             0   \n",
       "1                              Social Network,Twitter             0   \n",
       "2                              Social Network,Twitter             0   \n",
       "3                              Social Network,Twitter             0   \n",
       "4         อินเทอร์เน็ต,ADSL,Network,true online,Wi-Fi             0   \n",
       "...                                               ...           ...   \n",
       "11403905                      ฟุตบอล,ฟุตบอลต่างประเทศ             0   \n",
       "11403906                      ฟุตบอล,ฟุตบอลต่างประเทศ             0   \n",
       "11403907                      ฟุตบอล,ฟุตบอลต่างประเทศ             0   \n",
       "11403908                      ฟุตบอล,ฟุตบอลต่างประเทศ             0   \n",
       "11403909                      ฟุตบอล,ฟุตบอลต่างประเทศ             0   \n",
       "\n",
       "          feel_heart_x  feel_laugh_x  ...   type_y  \\\n",
       "0                    0             0  ...  comment   \n",
       "1                    0             0  ...  comment   \n",
       "2                    0             0  ...  comment   \n",
       "3                    0             0  ...  comment   \n",
       "4                    0             0  ...  comment   \n",
       "...                ...           ...  ...      ...   \n",
       "11403905             0             0  ...  comment   \n",
       "11403906             0             0  ...  comment   \n",
       "11403907             0             0  ...  comment   \n",
       "11403908             0             0  ...  comment   \n",
       "11403909             0             0  ...  comment   \n",
       "\n",
       "                                                    comment  like_score_y  \\\n",
       "0                  ส่งหาใครคะ ดีเอ็มต้องโฟโลทั้งสองฝ่ายปะอะ             0   \n",
       "1         ไม่ต้อง follow กันและกัน ก็ส่งได้นะส่งมาแล้วแต...             0   \n",
       "2         จขกท.แก้ได้ยังค่ะ เราก็เปน ฝากด้วยนะคะ(แต่เราส...             0   \n",
       "3                                     แก้ได้ยังคะ?เราก็เป็น             0   \n",
       "4                                 ไม่ไหว เบื่อ ที่เรียกซ่อม             0   \n",
       "...                                                     ...           ...   \n",
       "11403905  ทีม Nacional ไง ทีมเก่าของเจ็ทโด้ก่อนย้ายไปปอร...             0   \n",
       "11403906  อีกทีมบนเกาะ Madeira ก็คือทีม Maritimo ครับ ถ้...             0   \n",
       "11403907  เกาะมาร์ยอก้า - รีล มาร์ยอก้าเกาะคอร์ซิก้า - A...             0   \n",
       "11403908  เจลีก เกาะทั้งประเทศยังเตะกันได้เลยครัช    บาง...             0   \n",
       "11403909  เจอทีม Luch-Energiya Vladivostok กับทีม SKA-En...             0   \n",
       "\n",
       "          feel_heart_y  feel_laugh_y feel_love_y feel_sad_y feel_horror_y  \\\n",
       "0                    0             0           0          0             0   \n",
       "1                    0             0           0          0             0   \n",
       "2                    0             0           0          0             0   \n",
       "3                    0             0           0          0             0   \n",
       "4                    0             0           0          0             0   \n",
       "...                ...           ...         ...        ...           ...   \n",
       "11403905             2             0           0          0             0   \n",
       "11403906             1             0           0          0             0   \n",
       "11403907             0             0           0          0             0   \n",
       "11403908             0             0           0          0             0   \n",
       "11403909             0             1           0          0             0   \n",
       "\n",
       "          feel_wow_y  nb_interact  \n",
       "0                  0            0  \n",
       "1                  0            0  \n",
       "2                  0            0  \n",
       "3                  0            0  \n",
       "4                  0            0  \n",
       "...              ...          ...  \n",
       "11403905           0            2  \n",
       "11403906           0            1  \n",
       "11403907           0            0  \n",
       "11403908           0            0  \n",
       "11403909           2            3  \n",
       "\n",
       "[11403910 rows x 26 columns]"
      ]
     },
     "execution_count": 204,
     "metadata": {},
     "output_type": "execute_result"
    }
   ],
   "source": [
    "all_df[['title','body','']]"
   ]
  },
  {
   "cell_type": "code",
   "execution_count": null,
   "id": "c81a3e1c",
   "metadata": {},
   "outputs": [],
   "source": []
  }
 ],
 "metadata": {
  "kernelspec": {
   "display_name": "Python 3 (ipykernel)",
   "language": "python",
   "name": "python3"
  },
  "language_info": {
   "codemirror_mode": {
    "name": "ipython",
    "version": 3
   },
   "file_extension": ".py",
   "mimetype": "text/x-python",
   "name": "python",
   "nbconvert_exporter": "python",
   "pygments_lexer": "ipython3",
   "version": "3.9.12"
  }
 },
 "nbformat": 4,
 "nbformat_minor": 5
}
