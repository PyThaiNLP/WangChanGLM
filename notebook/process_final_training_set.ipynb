{
 "cells": [
  {
   "cell_type": "code",
   "execution_count": 1,
   "id": "97e95bb5",
   "metadata": {},
   "outputs": [],
   "source": [
    "from datasets import load_dataset, Dataset\n",
    "from transformers import AutoTokenizer\n",
    "import pandas as pd\n",
    "pd.set_option('display.max_colwidth', 0)\n",
    "import jsonlines\n",
    "from tqdm.auto import tqdm"
   ]
  },
  {
   "cell_type": "code",
   "execution_count": 2,
   "id": "209092ab",
   "metadata": {},
   "outputs": [
    {
     "data": {
      "text/plain": [
       "{'input_ids': [2, 30502], 'attention_mask': [1, 1]}"
      ]
     },
     "execution_count": 2,
     "metadata": {},
     "output_type": "execute_result"
    }
   ],
   "source": [
    "tokenizer = AutoTokenizer.from_pretrained('facebook/xglm-7.5B')\n",
    "tokenizer('hey')"
   ]
  },
  {
   "cell_type": "markdown",
   "id": "05431bf0",
   "metadata": {},
   "source": [
    "## Chip2"
   ]
  },
  {
   "cell_type": "code",
   "execution_count": 63,
   "id": "912b42ef",
   "metadata": {},
   "outputs": [
    {
     "data": {
      "application/vnd.jupyter.widget-view+json": {
       "model_id": "7e3ba9254d4642f0873ee5e87380c193",
       "version_major": 2,
       "version_minor": 0
      },
      "text/plain": [
       "0it [00:00, ?it/s]"
      ]
     },
     "metadata": {},
     "output_type": "display_data"
    }
   ],
   "source": [
    "ds = []\n",
    "with jsonlines.open('../data_large/unified_chip2.jsonl') as reader:\n",
    "    for obj in tqdm(reader):\n",
    "        obj['nb_token'] = len(tokenizer(obj['text'])['input_ids'])\n",
    "        ds.append(obj)\n",
    "chip2_df = pd.DataFrame(ds)"
   ]
  },
  {
   "cell_type": "code",
   "execution_count": 64,
   "id": "4e00c76f",
   "metadata": {},
   "outputs": [
    {
     "data": {
      "text/html": [
       "<div>\n",
       "<style scoped>\n",
       "    .dataframe tbody tr th:only-of-type {\n",
       "        vertical-align: middle;\n",
       "    }\n",
       "\n",
       "    .dataframe tbody tr th {\n",
       "        vertical-align: top;\n",
       "    }\n",
       "\n",
       "    .dataframe thead th {\n",
       "        text-align: right;\n",
       "    }\n",
       "</style>\n",
       "<table border=\"1\" class=\"dataframe\">\n",
       "  <thead>\n",
       "    <tr style=\"text-align: right;\">\n",
       "      <th></th>\n",
       "      <th>text</th>\n",
       "      <th>metadata</th>\n",
       "      <th>nb_token</th>\n",
       "    </tr>\n",
       "  </thead>\n",
       "  <tbody>\n",
       "    <tr>\n",
       "      <th>209901</th>\n",
       "      <td>&lt;human&gt;: How common is the medical condition called ‘Symptom’?\\n&lt;bot&gt;: Symptom is a very common condition. It affects about 1% of the population. Symptoms can include fatigue, muscle aches, joint pain, headaches, and difficulty concentrating.</td>\n",
       "      <td>{'source': 'unified_chip2'}</td>\n",
       "      <td>58</td>\n",
       "    </tr>\n",
       "    <tr>\n",
       "      <th>112107</th>\n",
       "      <td>&lt;human&gt;: If I want to practice with my bow and arrow, would using a horse be the best target?\\n&lt;bot&gt;: That depends on the type of training you’re doing and what your purpose is for the arrow.</td>\n",
       "      <td>{'source': 'unified_chip2'}</td>\n",
       "      <td>51</td>\n",
       "    </tr>\n",
       "    <tr>\n",
       "      <th>32684</th>\n",
       "      <td>&lt;human&gt;: I recently started working out and I'm wondering if there are any supplements that I should add to my diet?\\n&lt;bot&gt;: That depends on what your goals are. Would you like to build muscle, lose weight, or improve your athletic performance?</td>\n",
       "      <td>{'source': 'unified_chip2'}</td>\n",
       "      <td>58</td>\n",
       "    </tr>\n",
       "    <tr>\n",
       "      <th>17780</th>\n",
       "      <td>&lt;human&gt;: I've been hearing a lot of bad things about the new health care law. Is it really that bad?\\n&lt;bot&gt;: Well, I’ve heard some people say it’s going to make things worse for them. But there are also a lot of positive stories out there.</td>\n",
       "      <td>{'source': 'unified_chip2'}</td>\n",
       "      <td>64</td>\n",
       "    </tr>\n",
       "    <tr>\n",
       "      <th>74846</th>\n",
       "      <td>&lt;human&gt;: How to I make the perfect cappuccino?\\n&lt;bot&gt;: To make the perfect cappuccino, you will need freshly ground espresso, steamed milk and frothed milk. Begin by adding 1-2 ounces of espresso shots to your cup. Next, take your steamed milk and pour it into the cup until it is two-thirds full. Lastly, use a whisk or a frother to create frothy milk, then pour the frothed milk over the top of your espresso and steamed milk. Enjoy the perfect cappuccino!</td>\n",
       "      <td>{'source': 'unified_chip2'}</td>\n",
       "      <td>120</td>\n",
       "    </tr>\n",
       "  </tbody>\n",
       "</table>\n",
       "</div>"
      ],
      "text/plain": [
       "                                                                                                                                                                                                                                                                                                                                                                                                                                                                              text  \\\n",
       "209901  <human>: How common is the medical condition called ‘Symptom’?\\n<bot>: Symptom is a very common condition. It affects about 1% of the population. Symptoms can include fatigue, muscle aches, joint pain, headaches, and difficulty concentrating.                                                                                                                                                                                                                           \n",
       "112107  <human>: If I want to practice with my bow and arrow, would using a horse be the best target?\\n<bot>: That depends on the type of training you’re doing and what your purpose is for the arrow.                                                                                                                                                                                                                                                                              \n",
       "32684   <human>: I recently started working out and I'm wondering if there are any supplements that I should add to my diet?\\n<bot>: That depends on what your goals are. Would you like to build muscle, lose weight, or improve your athletic performance?                                                                                                                                                                                                                         \n",
       "17780   <human>: I've been hearing a lot of bad things about the new health care law. Is it really that bad?\\n<bot>: Well, I’ve heard some people say it’s going to make things worse for them. But there are also a lot of positive stories out there.                                                                                                                                                                                                                              \n",
       "74846   <human>: How to I make the perfect cappuccino?\\n<bot>: To make the perfect cappuccino, you will need freshly ground espresso, steamed milk and frothed milk. Begin by adding 1-2 ounces of espresso shots to your cup. Next, take your steamed milk and pour it into the cup until it is two-thirds full. Lastly, use a whisk or a frother to create frothy milk, then pour the frothed milk over the top of your espresso and steamed milk. Enjoy the perfect cappuccino!   \n",
       "\n",
       "                           metadata  nb_token  \n",
       "209901  {'source': 'unified_chip2'}  58        \n",
       "112107  {'source': 'unified_chip2'}  51        \n",
       "32684   {'source': 'unified_chip2'}  58        \n",
       "17780   {'source': 'unified_chip2'}  64        \n",
       "74846   {'source': 'unified_chip2'}  120       "
      ]
     },
     "execution_count": 64,
     "metadata": {},
     "output_type": "execute_result"
    }
   ],
   "source": [
    "chip2_df.sample(5)"
   ]
  },
  {
   "cell_type": "code",
   "execution_count": 66,
   "id": "0833f730",
   "metadata": {},
   "outputs": [
    {
     "data": {
      "text/plain": [
       "0.0    23.0 \n",
       "0.1    50.0 \n",
       "0.2    61.0 \n",
       "0.3    72.0 \n",
       "0.4    82.0 \n",
       "0.5    91.0 \n",
       "0.6    101.0\n",
       "0.7    111.0\n",
       "0.8    124.0\n",
       "0.9    144.0\n",
       "Name: nb_token, dtype: float64"
      ]
     },
     "execution_count": 66,
     "metadata": {},
     "output_type": "execute_result"
    }
   ],
   "source": [
    "chip2_df.nb_token.quantile([i/10 for i in range(10)])"
   ]
  },
  {
   "cell_type": "markdown",
   "id": "a3ba257d",
   "metadata": {},
   "source": [
    "## Dolly 2"
   ]
  },
  {
   "cell_type": "code",
   "execution_count": 75,
   "id": "cef638f7",
   "metadata": {},
   "outputs": [],
   "source": [
    "ds = []\n",
    "with jsonlines.open('../data_large/databricks-dolly-15k.jsonl') as reader:\n",
    "    for obj in tqdm(reader):\n",
    "        if obj['context']!='':\n",
    "            obj['text'] = f\"<context>: {obj['context']}\\n<human>: {obj['instruction']}\\n<bot>: {obj['response']}\"\n",
    "        else:\n",
    "            obj['text'] = f\"<human>: {obj['instruction']}\\n<bot>: {obj['response']}\"\n",
    "        obj['metadata'] = {'source': 'databricks-dolly-15k'}\n",
    "        obj['nb_token'] = len(tokenizer(obj['text'])['input_ids'])\n",
    "        ds.append(obj)\n",
    "\n",
    "dolly2_df = pd.DataFrame(ds)[['text','metadata','nb_token']]"
   ]
  },
  {
   "cell_type": "code",
   "execution_count": 77,
   "id": "b9195f45",
   "metadata": {},
   "outputs": [
    {
     "data": {
      "text/html": [
       "<div>\n",
       "<style scoped>\n",
       "    .dataframe tbody tr th:only-of-type {\n",
       "        vertical-align: middle;\n",
       "    }\n",
       "\n",
       "    .dataframe tbody tr th {\n",
       "        vertical-align: top;\n",
       "    }\n",
       "\n",
       "    .dataframe thead th {\n",
       "        text-align: right;\n",
       "    }\n",
       "</style>\n",
       "<table border=\"1\" class=\"dataframe\">\n",
       "  <thead>\n",
       "    <tr style=\"text-align: right;\">\n",
       "      <th></th>\n",
       "      <th>text</th>\n",
       "      <th>metadata</th>\n",
       "      <th>nb_token</th>\n",
       "    </tr>\n",
       "  </thead>\n",
       "  <tbody>\n",
       "    <tr>\n",
       "      <th>3846</th>\n",
       "      <td>&lt;human&gt;: What is a verb?\\n&lt;bot&gt;: A verb is a word that describes what the subject of a sentence is doing. Verbs can indicate (physical or mental) actions, occurrences, and states of being.</td>\n",
       "      <td>{'source': 'databricks-dolly-15k'}</td>\n",
       "      <td>51</td>\n",
       "    </tr>\n",
       "    <tr>\n",
       "      <th>11906</th>\n",
       "      <td>&lt;human&gt;: Compare middle eastern music and western music\\n&lt;bot&gt;: If you have only listened to Western music, the first time you hear o a middle eastern melody it may sound very different and odd. Melodies in middle eastern music are generally long, lack harmony, and have unfamiliar pitches.\\n\\nMiddle Eastern music typically sounds monophonic, meaning it's solely based on one or more instruments that play a single melody with a different variation. Western music typically sounds polyphonic, meaning more than one layer of melody is being played simultaneously.\\n\\nWestern music has twelve notes per octave including seven whole notes and five half-notes. However middle eastern music is based on different scale systems. It has quarter notes in addition and various regions have a different number of notes in their octave system.\\n\\nWestern music has harmony (ie. chords) while middle eastern music does not. In middle eastern music, there is only one melodic line with rise and fall. So the purity of the melodic line and the complexity of the rhythm is what make two different songs apart. In contrast, western music has a structure with a beginning, middle, and end.</td>\n",
       "      <td>{'source': 'databricks-dolly-15k'}</td>\n",
       "      <td>252</td>\n",
       "    </tr>\n",
       "    <tr>\n",
       "      <th>6723</th>\n",
       "      <td>&lt;context&gt;: Pearl Mill Village Historic District is a national historic district located at Durham, Durham County, North Carolina. The district encompasses 26 contributing residential buildings built by owners of Pearl Cotton Mills. The mill village dwellings are either two-story duplex type built about 1905 or a one-story bungalow constructed about 1924.[2]\\n&lt;human&gt;: Given this paragraph about the Pearl Mill Village Historic District, tell me where it is located.\\n&lt;bot&gt;: The Pearl Mill Village Historic District is in Durham, North Carolina.</td>\n",
       "      <td>{'source': 'databricks-dolly-15k'}</td>\n",
       "      <td>115</td>\n",
       "    </tr>\n",
       "    <tr>\n",
       "      <th>2441</th>\n",
       "      <td>&lt;context&gt;: August (2001), is the first novel by author Gerard Woodward. It was shortlisted for Whitbread Book Award (2001).\\n&lt;human&gt;: Given this paragraph, who wrote \"August?\"\\n&lt;bot&gt;: Gerard Woodward</td>\n",
       "      <td>{'source': 'databricks-dolly-15k'}</td>\n",
       "      <td>51</td>\n",
       "    </tr>\n",
       "    <tr>\n",
       "      <th>8174</th>\n",
       "      <td>&lt;context&gt;: The word \"autophagy\" was in existence and frequently used from the middle of the 19th century.[11] In its present usage, the term autophagy was coined by Belgian biochemist Christian de Duve in 1963 based on his discovery of the functions of lysosome.[3] The identification of autophagy-related genes in yeast in the 1990s allowed researchers to deduce the mechanisms of autophagy,[12][13][14][15][16] which eventually led to the award of the 2016 Nobel Prize in Physiology or Medicine to Japanese researcher Yoshinori Ohsumi.[17]\\n&lt;human&gt;: Who won the 2016 Nobel Prize?\\n&lt;bot&gt;: The Japanese researcher Yoshinori Ohsumi.</td>\n",
       "      <td>{'source': 'databricks-dolly-15k'}</td>\n",
       "      <td>156</td>\n",
       "    </tr>\n",
       "  </tbody>\n",
       "</table>\n",
       "</div>"
      ],
      "text/plain": [
       "                                                                                                                                                                                                                                                                                                                                                                                                                                                                                                                                                                                                                                                                                                                                                                                                                                                                                                                                                                                                                                                                                                                                                                                                                        text  \\\n",
       "3846   <human>: What is a verb?\\n<bot>: A verb is a word that describes what the subject of a sentence is doing. Verbs can indicate (physical or mental) actions, occurrences, and states of being.                                                                                                                                                                                                                                                                                                                                                                                                                                                                                                                                                                                                                                                                                                                                                                                                                                                                                                                                                                                                                            \n",
       "11906  <human>: Compare middle eastern music and western music\\n<bot>: If you have only listened to Western music, the first time you hear o a middle eastern melody it may sound very different and odd. Melodies in middle eastern music are generally long, lack harmony, and have unfamiliar pitches.\\n\\nMiddle Eastern music typically sounds monophonic, meaning it's solely based on one or more instruments that play a single melody with a different variation. Western music typically sounds polyphonic, meaning more than one layer of melody is being played simultaneously.\\n\\nWestern music has twelve notes per octave including seven whole notes and five half-notes. However middle eastern music is based on different scale systems. It has quarter notes in addition and various regions have a different number of notes in their octave system.\\n\\nWestern music has harmony (ie. chords) while middle eastern music does not. In middle eastern music, there is only one melodic line with rise and fall. So the purity of the melodic line and the complexity of the rhythm is what make two different songs apart. In contrast, western music has a structure with a beginning, middle, and end.   \n",
       "6723   <context>: Pearl Mill Village Historic District is a national historic district located at Durham, Durham County, North Carolina. The district encompasses 26 contributing residential buildings built by owners of Pearl Cotton Mills. The mill village dwellings are either two-story duplex type built about 1905 or a one-story bungalow constructed about 1924.[2]\\n<human>: Given this paragraph about the Pearl Mill Village Historic District, tell me where it is located.\\n<bot>: The Pearl Mill Village Historic District is in Durham, North Carolina.                                                                                                                                                                                                                                                                                                                                                                                                                                                                                                                                                                                                                                                      \n",
       "2441   <context>: August (2001), is the first novel by author Gerard Woodward. It was shortlisted for Whitbread Book Award (2001).\\n<human>: Given this paragraph, who wrote \"August?\"\\n<bot>: Gerard Woodward                                                                                                                                                                                                                                                                                                                                                                                                                                                                                                                                                                                                                                                                                                                                                                                                                                                                                                                                                                                                                 \n",
       "8174   <context>: The word \"autophagy\" was in existence and frequently used from the middle of the 19th century.[11] In its present usage, the term autophagy was coined by Belgian biochemist Christian de Duve in 1963 based on his discovery of the functions of lysosome.[3] The identification of autophagy-related genes in yeast in the 1990s allowed researchers to deduce the mechanisms of autophagy,[12][13][14][15][16] which eventually led to the award of the 2016 Nobel Prize in Physiology or Medicine to Japanese researcher Yoshinori Ohsumi.[17]\\n<human>: Who won the 2016 Nobel Prize?\\n<bot>: The Japanese researcher Yoshinori Ohsumi.                                                                                                                                                                                                                                                                                                                                                                                                                                                                                                                                                                 \n",
       "\n",
       "                                 metadata  nb_token  \n",
       "3846   {'source': 'databricks-dolly-15k'}  51        \n",
       "11906  {'source': 'databricks-dolly-15k'}  252       \n",
       "6723   {'source': 'databricks-dolly-15k'}  115       \n",
       "2441   {'source': 'databricks-dolly-15k'}  51        \n",
       "8174   {'source': 'databricks-dolly-15k'}  156       "
      ]
     },
     "execution_count": 77,
     "metadata": {},
     "output_type": "execute_result"
    }
   ],
   "source": [
    "dolly2_df.sample(5)"
   ]
  },
  {
   "cell_type": "code",
   "execution_count": 78,
   "id": "929324f7",
   "metadata": {},
   "outputs": [
    {
     "data": {
      "text/plain": [
       "0.0    11.0 \n",
       "0.1    35.0 \n",
       "0.2    48.0 \n",
       "0.3    67.0 \n",
       "0.4    88.0 \n",
       "0.5    114.0\n",
       "0.6    149.0\n",
       "0.7    197.0\n",
       "0.8    268.0\n",
       "0.9    397.0\n",
       "Name: nb_token, dtype: float64"
      ]
     },
     "execution_count": 78,
     "metadata": {},
     "output_type": "execute_result"
    }
   ],
   "source": [
    "dolly2_df.nb_token.quantile([i/10 for i in range(10)])"
   ]
  },
  {
   "cell_type": "markdown",
   "id": "837d800b",
   "metadata": {},
   "source": [
    "## HC3"
   ]
  },
  {
   "cell_type": "code",
   "execution_count": 80,
   "id": "46b21470",
   "metadata": {},
   "outputs": [
    {
     "data": {
      "application/vnd.jupyter.widget-view+json": {
       "model_id": "7203bebb908f4de6a141713d8c775ae4",
       "version_major": 2,
       "version_minor": 0
      },
      "text/plain": [
       "0it [00:00, ?it/s]"
      ]
     },
     "metadata": {},
     "output_type": "display_data"
    }
   ],
   "source": [
    "ds = []\n",
    "with jsonlines.open('../data_large/unified_hc3_human.jsonl') as reader:\n",
    "    for obj in tqdm(reader):\n",
    "        obj['nb_token'] = len(tokenizer(obj['text'])['input_ids'])\n",
    "        ds.append(obj)\n",
    "hc3_df = pd.DataFrame(ds)"
   ]
  },
  {
   "cell_type": "code",
   "execution_count": 81,
   "id": "fe28964d",
   "metadata": {},
   "outputs": [
    {
     "data": {
      "text/html": [
       "<div>\n",
       "<style scoped>\n",
       "    .dataframe tbody tr th:only-of-type {\n",
       "        vertical-align: middle;\n",
       "    }\n",
       "\n",
       "    .dataframe tbody tr th {\n",
       "        vertical-align: top;\n",
       "    }\n",
       "\n",
       "    .dataframe thead th {\n",
       "        text-align: right;\n",
       "    }\n",
       "</style>\n",
       "<table border=\"1\" class=\"dataframe\">\n",
       "  <thead>\n",
       "    <tr style=\"text-align: right;\">\n",
       "      <th></th>\n",
       "      <th>text</th>\n",
       "      <th>metadata</th>\n",
       "      <th>nb_token</th>\n",
       "    </tr>\n",
       "  </thead>\n",
       "  <tbody>\n",
       "    <tr>\n",
       "      <th>9248</th>\n",
       "      <td>&lt;human&gt;: How does a boom from a meteor entering the atmosphere manage to extend across such a wide area? Live in Detroit, and looking for some explanation after I think one broke up in the atmosphere relatively close to us . Explain like I'm five.\\n&lt;bot&gt;: It was loud simply because of the amount of energy a meteor is carrying . It was probably going at least 25000 mph, maybe several times that . It was heard across a wide area partly because it was high up . Additionally, it happened on a cold night, and the temperature gradient in the air (colder air nearer the ground) likely helped bend down sound waves that would have otherwise traveled too far to be heard.</td>\n",
       "      <td>{'source': 'unified_hc3_human'}</td>\n",
       "      <td>154</td>\n",
       "    </tr>\n",
       "    <tr>\n",
       "      <th>14310</th>\n",
       "      <td>&lt;human&gt;: Why did humans start using money? Why couldn't we just live happily as a money - less society? Please explain like I'm five.\\n&lt;bot&gt;: Money is probably the greatest economic invention of all time . It lets people get things that they need without actually having to trade for it, and to let people become specialists which accelerated technological advancement . Before money, there were no people who only were masons because they would go hungry since they would have to trade work directly to a farmer for food . After money, the farmer paid the mason, which allowed him to focus on farming without having to know how to build his house . The mason took the money and paid toolmakers who then paid other farmers for their food . Humans being what they are, a moneyless society would break down pretty fast because there would always be slackers who just rely on asking others for help without giving much effort in return.</td>\n",
       "      <td>{'source': 'unified_hc3_human'}</td>\n",
       "      <td>200</td>\n",
       "    </tr>\n",
       "    <tr>\n",
       "      <th>15626</th>\n",
       "      <td>&lt;human&gt;: How do submarines withstand so much water pressure? Man has reached 7 - mile ocean depth . How does a machine withstand that much pressure? Please explain like I'm five.\\n&lt;bot&gt;: Take an egg from your fridge, and try to hold it from the top and bottom, and squeeze it . It is near impossible to crush, due to the shape of it . Submarines work that same way, also made of really strong metals to help with the pressure.</td>\n",
       "      <td>{'source': 'unified_hc3_human'}</td>\n",
       "      <td>109</td>\n",
       "    </tr>\n",
       "    <tr>\n",
       "      <th>40199</th>\n",
       "      <td>&lt;human&gt;: What do surveyers do? I see these guys out in the city all the time looking through their equipment like telescopes, but I never knew exactly what they were doing . Please explain like I'm five.\\n&lt;bot&gt;: The equipment I believe your referring to is a \" theodolite \", also called a \" total station \" . It it a range / angle finding tool that can measure three different distances (horizontal, vertical, and slope), as well as the two different angles (azimuth, and slope) Imagine a cross - section of a hill where the hypotenuse is the surface of the hill, the length of which is the slope distance; the horizontal distance is the bottom leg of the triangle and the vertical distance is the opposite leg . The theodolite shoots a laser into a passive tool called a \" prism \" that reflects the laser back at it and calculates the distance . The azimuth angle is usually taken from some fixed point due north, and this allows you to find the angles for an entire parcel of land without using a protractor or something equally inaccurate and inefficient . The slope angle is just the angle at which the hill is inclined or declined . While theodolites are usually the most common method of surveying, the same can be accomplished without such an advanced piece of equipment by using an auto - level and a high rod . The auto - level is appears to be a telescope, but the distinguishing difference is that the auto - level has a series of wire suspended mirrors within the tube that ensure the surveyor only ever looks purely horizontal from wherever they are . This is used in conjunction with a high - rod, a really long stick with markings every inch or so, to determine vertical distance between two points . If you want to know more about general surveying, feel free to ask me! Source: Civil Engineering student</td>\n",
       "      <td>{'source': 'unified_hc3_human'}</td>\n",
       "      <td>415</td>\n",
       "    </tr>\n",
       "    <tr>\n",
       "      <th>55668</th>\n",
       "      <td>&lt;human&gt;: How does freeze drying work I thought you needed heat to substract water, not ice . Explain like I'm five.\\n&lt;bot&gt;: It involves the physics of pressure and something called \" sublimation \" where a solid object can evaporate into a gas, without ever being a liquid inbetween . Basically, as I understand it, you freeze the food first, making all the water in it turn to ice, then use a powerful vacuum to remove most of the air from the chamber the food is in . Applying a little bit of heat plus the low air pressure causes the ice to turn into very cold steam or water vapor, which is pulled away by the vacuum.</td>\n",
       "      <td>{'source': 'unified_hc3_human'}</td>\n",
       "      <td>155</td>\n",
       "    </tr>\n",
       "  </tbody>\n",
       "</table>\n",
       "</div>"
      ],
      "text/plain": [
       "                                                                                                                                                                                                                                                                                                                                                                                                                                                                                                                                                                                                                                                                                                                                                                                                                                                                                                                                                                                                                                                                                                                                                                                                                                                                                                                                                                                                                                                                                                                                                                                                                                                                                                                                                                                                                                                                                               text  \\\n",
       "9248   <human>: How does a boom from a meteor entering the atmosphere manage to extend across such a wide area? Live in Detroit, and looking for some explanation after I think one broke up in the atmosphere relatively close to us . Explain like I'm five.\\n<bot>: It was loud simply because of the amount of energy a meteor is carrying . It was probably going at least 25000 mph, maybe several times that . It was heard across a wide area partly because it was high up . Additionally, it happened on a cold night, and the temperature gradient in the air (colder air nearer the ground) likely helped bend down sound waves that would have otherwise traveled too far to be heard.                                                                                                                                                                                                                                                                                                                                                                                                                                                                                                                                                                                                                                                                                                                                                                                                                                                                                                                                                                                                                                                                                                                                                                                                   \n",
       "14310  <human>: Why did humans start using money? Why couldn't we just live happily as a money - less society? Please explain like I'm five.\\n<bot>: Money is probably the greatest economic invention of all time . It lets people get things that they need without actually having to trade for it, and to let people become specialists which accelerated technological advancement . Before money, there were no people who only were masons because they would go hungry since they would have to trade work directly to a farmer for food . After money, the farmer paid the mason, which allowed him to focus on farming without having to know how to build his house . The mason took the money and paid toolmakers who then paid other farmers for their food . Humans being what they are, a moneyless society would break down pretty fast because there would always be slackers who just rely on asking others for help without giving much effort in return.                                                                                                                                                                                                                                                                                                                                                                                                                                                                                                                                                                                                                                                                                                                                                                                                                                                                                                                          \n",
       "15626  <human>: How do submarines withstand so much water pressure? Man has reached 7 - mile ocean depth . How does a machine withstand that much pressure? Please explain like I'm five.\\n<bot>: Take an egg from your fridge, and try to hold it from the top and bottom, and squeeze it . It is near impossible to crush, due to the shape of it . Submarines work that same way, also made of really strong metals to help with the pressure.                                                                                                                                                                                                                                                                                                                                                                                                                                                                                                                                                                                                                                                                                                                                                                                                                                                                                                                                                                                                                                                                                                                                                                                                                                                                                                                                                                                                                                                     \n",
       "40199  <human>: What do surveyers do? I see these guys out in the city all the time looking through their equipment like telescopes, but I never knew exactly what they were doing . Please explain like I'm five.\\n<bot>: The equipment I believe your referring to is a \" theodolite \", also called a \" total station \" . It it a range / angle finding tool that can measure three different distances (horizontal, vertical, and slope), as well as the two different angles (azimuth, and slope) Imagine a cross - section of a hill where the hypotenuse is the surface of the hill, the length of which is the slope distance; the horizontal distance is the bottom leg of the triangle and the vertical distance is the opposite leg . The theodolite shoots a laser into a passive tool called a \" prism \" that reflects the laser back at it and calculates the distance . The azimuth angle is usually taken from some fixed point due north, and this allows you to find the angles for an entire parcel of land without using a protractor or something equally inaccurate and inefficient . The slope angle is just the angle at which the hill is inclined or declined . While theodolites are usually the most common method of surveying, the same can be accomplished without such an advanced piece of equipment by using an auto - level and a high rod . The auto - level is appears to be a telescope, but the distinguishing difference is that the auto - level has a series of wire suspended mirrors within the tube that ensure the surveyor only ever looks purely horizontal from wherever they are . This is used in conjunction with a high - rod, a really long stick with markings every inch or so, to determine vertical distance between two points . If you want to know more about general surveying, feel free to ask me! Source: Civil Engineering student   \n",
       "55668  <human>: How does freeze drying work I thought you needed heat to substract water, not ice . Explain like I'm five.\\n<bot>: It involves the physics of pressure and something called \" sublimation \" where a solid object can evaporate into a gas, without ever being a liquid inbetween . Basically, as I understand it, you freeze the food first, making all the water in it turn to ice, then use a powerful vacuum to remove most of the air from the chamber the food is in . Applying a little bit of heat plus the low air pressure causes the ice to turn into very cold steam or water vapor, which is pulled away by the vacuum.                                                                                                                                                                                                                                                                                                                                                                                                                                                                                                                                                                                                                                                                                                                                                                                                                                                                                                                                                                                                                                                                                                                                                                                                                                                   \n",
       "\n",
       "                              metadata  nb_token  \n",
       "9248   {'source': 'unified_hc3_human'}  154       \n",
       "14310  {'source': 'unified_hc3_human'}  200       \n",
       "15626  {'source': 'unified_hc3_human'}  109       \n",
       "40199  {'source': 'unified_hc3_human'}  415       \n",
       "55668  {'source': 'unified_hc3_human'}  155       "
      ]
     },
     "execution_count": 81,
     "metadata": {},
     "output_type": "execute_result"
    }
   ],
   "source": [
    "hc3_df.sample(5)"
   ]
  },
  {
   "cell_type": "code",
   "execution_count": 82,
   "id": "99094038",
   "metadata": {},
   "outputs": [
    {
     "data": {
      "text/plain": [
       "0.0    19.0 \n",
       "0.1    77.0 \n",
       "0.2    95.0 \n",
       "0.3    112.0\n",
       "0.4    130.0\n",
       "0.5    153.0\n",
       "0.6    181.0\n",
       "0.7    218.0\n",
       "0.8    279.0\n",
       "0.9    401.0\n",
       "Name: nb_token, dtype: float64"
      ]
     },
     "execution_count": 82,
     "metadata": {},
     "output_type": "execute_result"
    }
   ],
   "source": [
    "hc3_df.nb_token.quantile([i/10 for i in range(10)])"
   ]
  },
  {
   "cell_type": "markdown",
   "id": "8292bc9d",
   "metadata": {},
   "source": [
    "## Abstract Infill"
   ]
  },
  {
   "cell_type": "code",
   "execution_count": 84,
   "id": "248f274f",
   "metadata": {},
   "outputs": [
    {
     "data": {
      "application/vnd.jupyter.widget-view+json": {
       "model_id": "a05b04a819af4e55afc8d9c8eb3cc524",
       "version_major": 2,
       "version_minor": 0
      },
      "text/plain": [
       "0it [00:00, ?it/s]"
      ]
     },
     "metadata": {},
     "output_type": "display_data"
    }
   ],
   "source": [
    "ds = []\n",
    "with jsonlines.open('../data_large/unified_abstract_infill.jsonl') as reader:\n",
    "    for obj in tqdm(reader):\n",
    "        obj['text'] = obj['text'].replace('Background:','<context>:')\n",
    "        obj['nb_token'] = len(tokenizer(obj['text'])['input_ids'])\n",
    "        ds.append(obj)\n",
    "infill_df = pd.DataFrame(ds)"
   ]
  },
  {
   "cell_type": "code",
   "execution_count": 90,
   "id": "9875100d",
   "metadata": {},
   "outputs": [
    {
     "data": {
      "text/html": [
       "<div>\n",
       "<style scoped>\n",
       "    .dataframe tbody tr th:only-of-type {\n",
       "        vertical-align: middle;\n",
       "    }\n",
       "\n",
       "    .dataframe tbody tr th {\n",
       "        vertical-align: top;\n",
       "    }\n",
       "\n",
       "    .dataframe thead th {\n",
       "        text-align: right;\n",
       "    }\n",
       "</style>\n",
       "<table border=\"1\" class=\"dataframe\">\n",
       "  <thead>\n",
       "    <tr style=\"text-align: right;\">\n",
       "      <th></th>\n",
       "      <th>text</th>\n",
       "      <th>metadata</th>\n",
       "      <th>nb_token</th>\n",
       "    </tr>\n",
       "  </thead>\n",
       "  <tbody>\n",
       "    <tr>\n",
       "      <th>123288</th>\n",
       "      <td>&lt;human&gt;: Write me an article about Murabaḥah, ribh Arabic, Islamic jurisprudence, discussing in detail rent-to-own, agreed-upon in four paragraphs. End with a sentence about \" Critics/skeptics, the non-Muslim world.\\n&lt;bot&gt;: Murabaḥah, murabaḥa, or murâbaḥah (Arabic: مرابحة, derived from ribh Arabic: ربح, meaning profit) was originally a term of fiqh (Islamic jurisprudence) for a sales contract where the buyer and seller agree on the markup (profit) or \\\"cost-plus\\\" price for the item(s) being sold. In recent decades it has become a term for a very common form of Islamic (i.e., \\\"shariah compliant\\\") financing, where the price is marked up in exchange for allowing the buyer to pay over time—for example with monthly payments (a contract with deferred payment being known as bai-muajjal).\\nMurabaha financing is similar to a rent-to-own arrangement in the non-Muslim world, with the intermediary (e.g., the lending bank) retaining ownership of the item being sold until the loan is paid in full. There are also Islamic investment funds and sukuk (Islamic bonds) that use murabahah contracts.\\nThe purpose of murabaha is to finance a purchase without involving interest payments, which most Muslims (particularly most scholars) consider riba (usury) and thus haram (forbidden). Murabaha has come to be \\\"the most prevalent\\\" or \\\"default\\\" type of Islamic finance. A proper murâbaḥah transaction differs from conventional interest-charging loans in several ways. The buyer/borrower pays the seller/lender at an agreed-upon higher price; instead of interest charges, the seller/lender makes a religiously permissible \\\"profit on the sale of goods\\\".\\nThe seller/financer must take actual possession of the good before selling it to the customer, and must assume \\\"any liability from delivering defective goods\\\". Sources differ as to whether the seller is permitted to charge extra when payments are late, with some authors stating any late fees ought to be donated to charity, or not collected unless the buyer has \\\"deliberately refused\\\" to make a payment. For the rate of markup, murabaha contracts \\\"may openly use\\\" riba interest rates such as LIBOR \\\"as a benchmark\\\", a practice approved of by the scholar Taqi Usmani. Conservative scholars promoting Islamic finance consider murabaha to be a \\\"transitory step\\\" towards a \\\"true profit-and-loss-sharing mode of financing\\\", and a \\\"weak\\\" or \\\"permissible but undesirable\\\" form of finance to be used where profit-and-loss-sharing is \\\"not practicable.\\\" Critics/skeptics complain/note that in practice most \\\"murabaḥah\\\" transactions are merely cash-flows between banks, brokers, and borrowers, with no buying or selling of commodities; that the profit or markup is based on the prevailing interest rate used in haram lending by the non-Muslim world; that \\\"the financial outlook\\\" of Islamic murabaha financing and conventional debt/loan financing is \\\"the same\\\", as is most everything else besides the terminology used.\\n&lt;human&gt;: What is meant by an Islamic bank loan\\n&lt;bot&gt;: According to Taqi Usmani \"in exceptional cases\" an Islamic bank or financial institution may lend cash to the customer for a murâbaḥah, but this is when the customer is acting as an \"agent\" of the bank in buying the good the customer needs financed.\\n&lt;human&gt;: more please\\n&lt;bot&gt;: [W]here direct purchase from the supplier is not practicable for some reason, it is also allowed that he makes the customer himself his agent to buy the commodity on his behalf.\\n&lt;human&gt;: In what form is the loan received?\\n&lt;bot&gt;: In this case the client first purchases the commodity on behalf of his financier and takes its possession as such.\\n&lt;human&gt;: What is the financier's role in the loan?\\n&lt;bot&gt;: Thereafter, he purchases the commodity from the financier for a deferred price.\\n&lt;human&gt;: What are the other modes of financing?\\n&lt;bot&gt;: The idea that the seller may not use murâbaḥah if profit-sharing modes of financing such as mudarabah or musharakah are practicable, is supported by other scholars that those in the Council of Islamic Ideology.\\n&lt;human&gt;: What are the differences between the modes?\\n&lt;bot&gt;: But these involve risks of loss, profit-sharing modes of financing cannot guarantee banks income.</td>\n",
       "      <td>{'source': 'infil_dbpedia'}</td>\n",
       "      <td>1049</td>\n",
       "    </tr>\n",
       "    <tr>\n",
       "      <th>136897</th>\n",
       "      <td>&lt;context&gt;: Black Country Communion is an English-American hard rock band based in Los Angeles, California. Formed in 2009, the band is a supergroup composed of bassist and lead vocalist Glenn Hughes, guitarist and second vocalist Joe Bonamassa, drummer Jason Bonham and keyboardist Derek Sherinian. Hughes and Bonamassa started the side project in November 2009 after an impromptu performance together. From the advice of their producer, Kevin Shirley, they recruited Bonham and Sherinian to finalize the band's lineup.\\nThe name Black Country Communion is derived from the term Black Country, which refers to an area of the West Midlands of England where Hughes and Bonham grew up. The group's sound is intentionally reminiscent of popular classic rock groups of the 1970s, reflecting the previous work of frontman Hughes (in bands such as Trapeze and Deep Purple) as well as the link between Bonham and his father John's band Led Zeppelin. After playing together for a while, the group released its self-titled debut album in 2010. Black Country Communion 2 followed the next year, which was promoted on the group's first concert tour of the US and Europe.\\nThe band released its third album, Afterglow, in 2012. In early 2013, after months of public tensions, Bonamassa announced he was no longer a member of Black Country Communion, with the question over whether the group would continue with another guitarist unclear. Days later, Hughes confirmed that the band was officially over, hinting that he would continue working with Bonham and Sherinian under a new collective name. Sherinian later joined Bonamassa's touring band, while Hughes and Bonham formed California Breed with guitarist Andrew Watt. Hughes and Bonamassa later reconciled and the band reunited in late 2016, with a fourth album BCCIV released in 2017. After four years working on separate projects, the band plans to enter studio for a potential fifth album in late 2021.\\n&lt;human&gt;: What happened in 2010 with Black Country Communion?\\n&lt;bot&gt;: The band recorded its debut album at Los Angeles' Shangri-La Studios in early 2010, scheduling a September release through Mascot Records in Europe and Bonamassa's label J&amp;R Adventures in North America.\\n&lt;human&gt;: tell me more\\n&lt;bot&gt;: Hughes described the album as \"a big British rock statement\", comparing the band's sound to that of his previous groups Deep Purple and Black Sabbath, as well as Led Zeppelin.\\n&lt;human&gt;: Did they have any hit songs?\\n&lt;bot&gt;: \" One Last Soul\" was the first song to be released, receiving its worldwide debut on British digital radio station Planet Rock on August 2, 2010.\\n&lt;human&gt;: Did they release any other songs?\\n&lt;bot&gt;: The track was later released as a free digital download on the band's official website.\\n&lt;human&gt;: Did they have any problems?\\n&lt;bot&gt;: Shortly before the album's release, Planet Rock also broadcast an hour-long documentary featuring exclusive interviews with the band and a selection of tracks from the album.\\n&lt;human&gt;: What happened in 2011?\\n&lt;bot&gt;: \"Black Country Communion\" was officially released in Europe on September 20, 2010, and in North America a day later.</td>\n",
       "      <td>{'source': 'infil_dbpedia'}</td>\n",
       "      <td>695</td>\n",
       "    </tr>\n",
       "    <tr>\n",
       "      <th>137945</th>\n",
       "      <td>&lt;context&gt;: Metal Knight (Chinese: 铁甲风暴; lit. 'Ironclad Storm') is a sci-fi type real-time strategy released in 1998, developed by Object Software Limited and published in mainland China by Object Software and in Taiwan by T-time Technology Co., Ltd. In 1999 the English version was published by in the USA and Italy.\\nThe game supports eight online players. The game sold over 300,000 copies and received high ratings from indigenous game magazines such as and Play. There is an expansion named Black Front.\\n&lt;human&gt;: What is Metal Knight?\\n&lt;bot&gt;: Metal Knight Metal Knight (Chinese:铁甲风暴, literally:Ironclad Storm) is a sci-fi type real-time strategy released in 1998, developed by Object Software Limited and published in mainland China by Object Software and in Taiwan by T-time Technology Co., Ltd.\\n&lt;human&gt;: Was it popular?\\n&lt;bot&gt;: In 1999 the English version was published BY Microforum in USA and Italy..\\n&lt;human&gt;: How many players were supported?\\n&lt;bot&gt;: The game supports eight online players.\\n&lt;human&gt;: What was the greatest accomplishment?\\n&lt;bot&gt;: The game sold over 300,000 copies and received high ratings from indigenous game magazines such as \"Popsoft\" and \"Play\".\\n&lt;human&gt;: next\\n&lt;bot&gt;: There is an expansion named Black Front.</td>\n",
       "      <td>{'source': 'infil_dbpedia'}</td>\n",
       "      <td>296</td>\n",
       "    </tr>\n",
       "    <tr>\n",
       "      <th>17678</th>\n",
       "      <td>&lt;context&gt;: Chris Anderson is an American politician and Democratic Party political activist. He was a member of the Chattanooga, Tennessee City Council for District 7, but was defeated in a run-off election on April 11, 2017. He was the first openly LGBT individual to be elected to Chattanooga's City Council. He also serves as a member of the Tennessee Democratic Party State Executive Committee.\\n&lt;human&gt;: Tell me about Chris Anderson (politician).\\n&lt;bot&gt;: Chris Anderson is an American politician and Democratic Party political activist.\\n&lt;human&gt;: Who is Chris Anderson?\\n&lt;bot&gt;: Chris Anderson (politician) Chris Anderson is an American politician and Democratic Party political activist.\\n&lt;human&gt;: What did this politician accomplish?\\n&lt;bot&gt;: He was a member of the Chattanooga, Tennessee City Council for District 7, but was defeated in a run-off election on April 11.\\n&lt;human&gt;: What else did you find interesting?\\n&lt;bot&gt;: He was the first openly LGBT individual to be elected to Chattanooga's City Council.\\n&lt;human&gt;: Did he accomplish anything else?\\n&lt;bot&gt;: He also serves as a member of the Tennessee Democratic Party State Executive Committee.\\n&lt;human&gt;: What other causes did he support?\\n&lt;bot&gt;: Anderson started his political career as a Democratic Party activist.\\n&lt;human&gt;: What else was this politican notable for?\\n&lt;bot&gt;: He was elected in 2003 as the President of the Tennessee Young Democrats which also gave him a seat on the Tennessee Democratic Party State Executive Committee.</td>\n",
       "      <td>{'source': 'infil_dbpedia'}</td>\n",
       "      <td>318</td>\n",
       "    </tr>\n",
       "    <tr>\n",
       "      <th>205615</th>\n",
       "      <td>&lt;context&gt;: HMS Sea Nymph was a S-class submarine of the third batch built for the Royal Navy during World War II. Completed in July 1942, she spent the majority of her career patrolling the waters off Norway in the North Sea, then was sent to the Pacific but was forced back due to technical problems. After three uneventful patrols in the North Sea, the boat conducted one patrol in the Bay of Biscay, attacking two surfaced German U-boats with torpedoes, but missed. The submarine then participated in Operation Source, an attempt to sink German battleships in Norway threatening allied Arctic convoys.\\nSea Nymph was assigned to tow the midget submarine X8 to off the fjord where the Tirpitz was anchored. While at sea, X8 was scuttled due to technical issues, and the mission was cancelled. The submarine was then tasked with transporting British agents to a fishing vessel off Norway. In her next two patrols, the boat fired torpedoes on three German merchant ships, but missed every attack.\\nIn March 1944, Sea Nymph was sent to the United States for a refit; she returned in October, then after an uneventful patrol, she had her battery changed. With Nazi Germany close to defeat, the submarine was ordered to the Pacific, where war with the Japanese was also ongoing. She had to turn back and have her battery replaced again after encountering problems; after arriving in the Philippines, on 13 July Sea Nymph caught on fire and was damaged beyond the repair capabilities of local shipyards. She was sent back to Great Britain, but as the war with Japan ended, she was not repaired but placed in reserve. Sea Nymph was scrapped in Troon, Scotland in June 1948.\\n&lt;human&gt;: What was the HMS Sea Nymph (P223)?\\n&lt;bot&gt;: HMS Sea Nymph (P223) HMS \"Sea Nymph\" was a S-class submarine of the third batch built for the Royal Navy during World War II.\\n&lt;human&gt;: When was it built?\\n&lt;bot&gt;: She survived the war and was scrapped in 1948. The S-class submarines were designed to patrol the restricted waters of the North Sea and the Mediterranean Sea.\\n&lt;human&gt;: and?\\n&lt;bot&gt;: The third batch was slightly enlarged and improved over the preceding second batch of the S-class.\\n&lt;human&gt;: What were some of the improvements?\\n&lt;bot&gt;: The submarines had a length of overall, a beam of and a draught of .\\n&lt;human&gt;: What else was different about the third batch?\\n&lt;bot&gt;: They displaced on the surface and submerged.\\n&lt;human&gt;: How many people were on board?\\n&lt;bot&gt;: The S-class submarines had a crew of 48 officers and ratings.</td>\n",
       "      <td>{'source': 'infil_dbpedia'}</td>\n",
       "      <td>620</td>\n",
       "    </tr>\n",
       "  </tbody>\n",
       "</table>\n",
       "</div>"
      ],
      "text/plain": [
       "                                                                                                                                                                                                                                                                                                                                                                                                                                                                                                                                                                                                                                                                                                                                                                                                                                                                                                                                                                                                                                                                                                                                                                                                                                                                                                                                                                                                                                                                                                                                                                                                                                                                                                                                                                                                                                                                                                                                                                                                                                                                                                                                                                                                                                                                                                                                                                                                                                                                                                                                                                                                                                                                                                                                                                                                                                                                                                                                                                                                                                                                                                                                                                                                                                                                                                                                                                                                                                                                                                                                                                                                                                                                                                                                                                                                                                                                                                                                                                                                                                                                                                                                                                                                                                                                                                                                                                                                                 text  \\\n",
       "123288  <human>: Write me an article about Murabaḥah, ribh Arabic, Islamic jurisprudence, discussing in detail rent-to-own, agreed-upon in four paragraphs. End with a sentence about \" Critics/skeptics, the non-Muslim world.\\n<bot>: Murabaḥah, murabaḥa, or murâbaḥah (Arabic: مرابحة, derived from ribh Arabic: ربح, meaning profit) was originally a term of fiqh (Islamic jurisprudence) for a sales contract where the buyer and seller agree on the markup (profit) or \\\"cost-plus\\\" price for the item(s) being sold. In recent decades it has become a term for a very common form of Islamic (i.e., \\\"shariah compliant\\\") financing, where the price is marked up in exchange for allowing the buyer to pay over time—for example with monthly payments (a contract with deferred payment being known as bai-muajjal).\\nMurabaha financing is similar to a rent-to-own arrangement in the non-Muslim world, with the intermediary (e.g., the lending bank) retaining ownership of the item being sold until the loan is paid in full. There are also Islamic investment funds and sukuk (Islamic bonds) that use murabahah contracts.\\nThe purpose of murabaha is to finance a purchase without involving interest payments, which most Muslims (particularly most scholars) consider riba (usury) and thus haram (forbidden). Murabaha has come to be \\\"the most prevalent\\\" or \\\"default\\\" type of Islamic finance. A proper murâbaḥah transaction differs from conventional interest-charging loans in several ways. The buyer/borrower pays the seller/lender at an agreed-upon higher price; instead of interest charges, the seller/lender makes a religiously permissible \\\"profit on the sale of goods\\\".\\nThe seller/financer must take actual possession of the good before selling it to the customer, and must assume \\\"any liability from delivering defective goods\\\". Sources differ as to whether the seller is permitted to charge extra when payments are late, with some authors stating any late fees ought to be donated to charity, or not collected unless the buyer has \\\"deliberately refused\\\" to make a payment. For the rate of markup, murabaha contracts \\\"may openly use\\\" riba interest rates such as LIBOR \\\"as a benchmark\\\", a practice approved of by the scholar Taqi Usmani. Conservative scholars promoting Islamic finance consider murabaha to be a \\\"transitory step\\\" towards a \\\"true profit-and-loss-sharing mode of financing\\\", and a \\\"weak\\\" or \\\"permissible but undesirable\\\" form of finance to be used where profit-and-loss-sharing is \\\"not practicable.\\\" Critics/skeptics complain/note that in practice most \\\"murabaḥah\\\" transactions are merely cash-flows between banks, brokers, and borrowers, with no buying or selling of commodities; that the profit or markup is based on the prevailing interest rate used in haram lending by the non-Muslim world; that \\\"the financial outlook\\\" of Islamic murabaha financing and conventional debt/loan financing is \\\"the same\\\", as is most everything else besides the terminology used.\\n<human>: What is meant by an Islamic bank loan\\n<bot>: According to Taqi Usmani \"in exceptional cases\" an Islamic bank or financial institution may lend cash to the customer for a murâbaḥah, but this is when the customer is acting as an \"agent\" of the bank in buying the good the customer needs financed.\\n<human>: more please\\n<bot>: [W]here direct purchase from the supplier is not practicable for some reason, it is also allowed that he makes the customer himself his agent to buy the commodity on his behalf.\\n<human>: In what form is the loan received?\\n<bot>: In this case the client first purchases the commodity on behalf of his financier and takes its possession as such.\\n<human>: What is the financier's role in the loan?\\n<bot>: Thereafter, he purchases the commodity from the financier for a deferred price.\\n<human>: What are the other modes of financing?\\n<bot>: The idea that the seller may not use murâbaḥah if profit-sharing modes of financing such as mudarabah or musharakah are practicable, is supported by other scholars that those in the Council of Islamic Ideology.\\n<human>: What are the differences between the modes?\\n<bot>: But these involve risks of loss, profit-sharing modes of financing cannot guarantee banks income.   \n",
       "136897  <context>: Black Country Communion is an English-American hard rock band based in Los Angeles, California. Formed in 2009, the band is a supergroup composed of bassist and lead vocalist Glenn Hughes, guitarist and second vocalist Joe Bonamassa, drummer Jason Bonham and keyboardist Derek Sherinian. Hughes and Bonamassa started the side project in November 2009 after an impromptu performance together. From the advice of their producer, Kevin Shirley, they recruited Bonham and Sherinian to finalize the band's lineup.\\nThe name Black Country Communion is derived from the term Black Country, which refers to an area of the West Midlands of England where Hughes and Bonham grew up. The group's sound is intentionally reminiscent of popular classic rock groups of the 1970s, reflecting the previous work of frontman Hughes (in bands such as Trapeze and Deep Purple) as well as the link between Bonham and his father John's band Led Zeppelin. After playing together for a while, the group released its self-titled debut album in 2010. Black Country Communion 2 followed the next year, which was promoted on the group's first concert tour of the US and Europe.\\nThe band released its third album, Afterglow, in 2012. In early 2013, after months of public tensions, Bonamassa announced he was no longer a member of Black Country Communion, with the question over whether the group would continue with another guitarist unclear. Days later, Hughes confirmed that the band was officially over, hinting that he would continue working with Bonham and Sherinian under a new collective name. Sherinian later joined Bonamassa's touring band, while Hughes and Bonham formed California Breed with guitarist Andrew Watt. Hughes and Bonamassa later reconciled and the band reunited in late 2016, with a fourth album BCCIV released in 2017. After four years working on separate projects, the band plans to enter studio for a potential fifth album in late 2021.\\n<human>: What happened in 2010 with Black Country Communion?\\n<bot>: The band recorded its debut album at Los Angeles' Shangri-La Studios in early 2010, scheduling a September release through Mascot Records in Europe and Bonamassa's label J&R Adventures in North America.\\n<human>: tell me more\\n<bot>: Hughes described the album as \"a big British rock statement\", comparing the band's sound to that of his previous groups Deep Purple and Black Sabbath, as well as Led Zeppelin.\\n<human>: Did they have any hit songs?\\n<bot>: \" One Last Soul\" was the first song to be released, receiving its worldwide debut on British digital radio station Planet Rock on August 2, 2010.\\n<human>: Did they release any other songs?\\n<bot>: The track was later released as a free digital download on the band's official website.\\n<human>: Did they have any problems?\\n<bot>: Shortly before the album's release, Planet Rock also broadcast an hour-long documentary featuring exclusive interviews with the band and a selection of tracks from the album.\\n<human>: What happened in 2011?\\n<bot>: \"Black Country Communion\" was officially released in Europe on September 20, 2010, and in North America a day later.                                                                                                                                                                                                                                                                                                                                                                                                                                                                                                                                                                                                                                                                                                                                                                                                                                                                                                                                                                                                                                                                                                                                               \n",
       "137945  <context>: Metal Knight (Chinese: 铁甲风暴; lit. 'Ironclad Storm') is a sci-fi type real-time strategy released in 1998, developed by Object Software Limited and published in mainland China by Object Software and in Taiwan by T-time Technology Co., Ltd. In 1999 the English version was published by in the USA and Italy.\\nThe game supports eight online players. The game sold over 300,000 copies and received high ratings from indigenous game magazines such as and Play. There is an expansion named Black Front.\\n<human>: What is Metal Knight?\\n<bot>: Metal Knight Metal Knight (Chinese:铁甲风暴, literally:Ironclad Storm) is a sci-fi type real-time strategy released in 1998, developed by Object Software Limited and published in mainland China by Object Software and in Taiwan by T-time Technology Co., Ltd.\\n<human>: Was it popular?\\n<bot>: In 1999 the English version was published BY Microforum in USA and Italy..\\n<human>: How many players were supported?\\n<bot>: The game supports eight online players.\\n<human>: What was the greatest accomplishment?\\n<bot>: The game sold over 300,000 copies and received high ratings from indigenous game magazines such as \"Popsoft\" and \"Play\".\\n<human>: next\\n<bot>: There is an expansion named Black Front.                                                                                                                                                                                                                                                                                                                                                                                                                                                                                                                                                                                                                                                                                                                                                                                                                                                                                                                                                                                                                                                                                                                                                                                                                                                                                                                                                                                                                                                                                                                                                                                                                                                                                                                                                                                                                                                                                                                                                                                                                                                                                                                                                                                                                                                                                                                                                                                                                                                                                                                                                                                                                                                                                                                                                                                                                                                                                                                                                                                                                                                                                                                      \n",
       "17678   <context>: Chris Anderson is an American politician and Democratic Party political activist. He was a member of the Chattanooga, Tennessee City Council for District 7, but was defeated in a run-off election on April 11, 2017. He was the first openly LGBT individual to be elected to Chattanooga's City Council. He also serves as a member of the Tennessee Democratic Party State Executive Committee.\\n<human>: Tell me about Chris Anderson (politician).\\n<bot>: Chris Anderson is an American politician and Democratic Party political activist.\\n<human>: Who is Chris Anderson?\\n<bot>: Chris Anderson (politician) Chris Anderson is an American politician and Democratic Party political activist.\\n<human>: What did this politician accomplish?\\n<bot>: He was a member of the Chattanooga, Tennessee City Council for District 7, but was defeated in a run-off election on April 11.\\n<human>: What else did you find interesting?\\n<bot>: He was the first openly LGBT individual to be elected to Chattanooga's City Council.\\n<human>: Did he accomplish anything else?\\n<bot>: He also serves as a member of the Tennessee Democratic Party State Executive Committee.\\n<human>: What other causes did he support?\\n<bot>: Anderson started his political career as a Democratic Party activist.\\n<human>: What else was this politican notable for?\\n<bot>: He was elected in 2003 as the President of the Tennessee Young Democrats which also gave him a seat on the Tennessee Democratic Party State Executive Committee.                                                                                                                                                                                                                                                                                                                                                                                                                                                                                                                                                                                                                                                                                                                                                                                                                                                                                                                                                                                                                                                                                                                                                                                                                                                                                                                                                                                                                                                                                                                                                                                                                                                                                                                                                                                                                                                                                                                                                                                                                                                                                                                                                                                                                                                                                                                                                                                                                                                                                                                                                                                                                                                                                                                                                                                                                                                         \n",
       "205615  <context>: HMS Sea Nymph was a S-class submarine of the third batch built for the Royal Navy during World War II. Completed in July 1942, she spent the majority of her career patrolling the waters off Norway in the North Sea, then was sent to the Pacific but was forced back due to technical problems. After three uneventful patrols in the North Sea, the boat conducted one patrol in the Bay of Biscay, attacking two surfaced German U-boats with torpedoes, but missed. The submarine then participated in Operation Source, an attempt to sink German battleships in Norway threatening allied Arctic convoys.\\nSea Nymph was assigned to tow the midget submarine X8 to off the fjord where the Tirpitz was anchored. While at sea, X8 was scuttled due to technical issues, and the mission was cancelled. The submarine was then tasked with transporting British agents to a fishing vessel off Norway. In her next two patrols, the boat fired torpedoes on three German merchant ships, but missed every attack.\\nIn March 1944, Sea Nymph was sent to the United States for a refit; she returned in October, then after an uneventful patrol, she had her battery changed. With Nazi Germany close to defeat, the submarine was ordered to the Pacific, where war with the Japanese was also ongoing. She had to turn back and have her battery replaced again after encountering problems; after arriving in the Philippines, on 13 July Sea Nymph caught on fire and was damaged beyond the repair capabilities of local shipyards. She was sent back to Great Britain, but as the war with Japan ended, she was not repaired but placed in reserve. Sea Nymph was scrapped in Troon, Scotland in June 1948.\\n<human>: What was the HMS Sea Nymph (P223)?\\n<bot>: HMS Sea Nymph (P223) HMS \"Sea Nymph\" was a S-class submarine of the third batch built for the Royal Navy during World War II.\\n<human>: When was it built?\\n<bot>: She survived the war and was scrapped in 1948. The S-class submarines were designed to patrol the restricted waters of the North Sea and the Mediterranean Sea.\\n<human>: and?\\n<bot>: The third batch was slightly enlarged and improved over the preceding second batch of the S-class.\\n<human>: What were some of the improvements?\\n<bot>: The submarines had a length of overall, a beam of and a draught of .\\n<human>: What else was different about the third batch?\\n<bot>: They displaced on the surface and submerged.\\n<human>: How many people were on board?\\n<bot>: The S-class submarines had a crew of 48 officers and ratings.                                                                                                                                                                                                                                                                                                                                                                                                                                                                                                                                                                                                                                                                                                                                                                                                                                                                                                                                                                                                                                                                                                                                                                                                                                                                                                                                                                                                                                                                                                                                                                                                                                                                                                                                                                                                  \n",
       "\n",
       "                           metadata  nb_token  \n",
       "123288  {'source': 'infil_dbpedia'}  1049      \n",
       "136897  {'source': 'infil_dbpedia'}  695       \n",
       "137945  {'source': 'infil_dbpedia'}  296       \n",
       "17678   {'source': 'infil_dbpedia'}  318       \n",
       "205615  {'source': 'infil_dbpedia'}  620       "
      ]
     },
     "execution_count": 90,
     "metadata": {},
     "output_type": "execute_result"
    }
   ],
   "source": [
    "infill_df.sample(5)"
   ]
  },
  {
   "cell_type": "code",
   "execution_count": 91,
   "id": "d904eb53",
   "metadata": {},
   "outputs": [
    {
     "data": {
      "text/plain": [
       "0.0    48.0 \n",
       "0.1    310.0\n",
       "0.2    389.0\n",
       "0.3    447.0\n",
       "0.4    499.0\n",
       "0.5    550.0\n",
       "0.6    604.0\n",
       "0.7    669.0\n",
       "0.8    753.0\n",
       "0.9    889.0\n",
       "Name: nb_token, dtype: float64"
      ]
     },
     "execution_count": 91,
     "metadata": {},
     "output_type": "execute_result"
    }
   ],
   "source": [
    "infill_df.nb_token.quantile([i/10 for i in range(10)])"
   ]
  },
  {
   "cell_type": "code",
   "execution_count": 102,
   "id": "f09d834c",
   "metadata": {},
   "outputs": [
    {
     "data": {
      "text/plain": [
       "(99288, 3)"
      ]
     },
     "execution_count": 102,
     "metadata": {},
     "output_type": "execute_result"
    }
   ],
   "source": [
    "infill_df[infill_df.nb_token<=512].shape"
   ]
  },
  {
   "cell_type": "markdown",
   "id": "1274d695",
   "metadata": {},
   "source": [
    "## TLDR"
   ]
  },
  {
   "cell_type": "code",
   "execution_count": 100,
   "id": "e57259cc",
   "metadata": {},
   "outputs": [
    {
     "data": {
      "application/vnd.jupyter.widget-view+json": {
       "model_id": "fdd3c83b34ab46e7ad9b129b3f7bc4c6",
       "version_major": 2,
       "version_minor": 0
      },
      "text/plain": [
       "0it [00:00, ?it/s]"
      ]
     },
     "metadata": {},
     "output_type": "display_data"
    }
   ],
   "source": [
    "ds = []\n",
    "with jsonlines.open('../data_large/unified_openai_summarize_tldr.jsonl') as reader:\n",
    "    for obj in tqdm(reader):\n",
    "#         obj['text'] = obj['text'].replace('Background:','<context>:')\n",
    "        obj['nb_token'] = len(tokenizer(obj['text'])['input_ids'])\n",
    "        ds.append(obj)\n",
    "tldr_df = pd.DataFrame(ds)"
   ]
  },
  {
   "cell_type": "code",
   "execution_count": 101,
   "id": "ac5746db",
   "metadata": {},
   "outputs": [
    {
     "data": {
      "text/html": [
       "<div>\n",
       "<style scoped>\n",
       "    .dataframe tbody tr th:only-of-type {\n",
       "        vertical-align: middle;\n",
       "    }\n",
       "\n",
       "    .dataframe tbody tr th {\n",
       "        vertical-align: top;\n",
       "    }\n",
       "\n",
       "    .dataframe thead th {\n",
       "        text-align: right;\n",
       "    }\n",
       "</style>\n",
       "<table border=\"1\" class=\"dataframe\">\n",
       "  <thead>\n",
       "    <tr style=\"text-align: right;\">\n",
       "      <th></th>\n",
       "      <th>text</th>\n",
       "      <th>metadata</th>\n",
       "      <th>nb_token</th>\n",
       "    </tr>\n",
       "  </thead>\n",
       "  <tbody>\n",
       "    <tr>\n",
       "      <th>18902</th>\n",
       "      <td>&lt;human&gt;: Can you give me the gist of the text in a nutshell?\\n\\nI just moved to a new school and I found a group that I really wanted to be a part of. Now, the group in question organizes these sessions for tabletop games and the sessions are a very 'group only' sort of affair. A few months ago, I actually got invited to one and I was ecstatic. Unfortunately, I'm still a bit of an 'outsider'. On Wednesday, we have another session planned but the game that people want to play can only have six people and there are seven people invited including me. Several people have already commented how I'm not part of the 'core' group and that I shouldn't be invited at all. Should I just tell them I can't come to avoid the pain that is quite probably about to hit me? Should I just leave it and hope for the best?\\n&lt;bot&gt;: newbiee in a group, invited to a game, too many people invited for said game, may be ditched</td>\n",
       "      <td>{'source': 'unified_openai_summarize_tldr'}</td>\n",
       "      <td>222</td>\n",
       "    </tr>\n",
       "    <tr>\n",
       "      <th>194250</th>\n",
       "      <td>&lt;human&gt;: My husbands cousin is a diesel mechanic and had an accident at work yesterday. A coworker improperly lifted a semi-trailer and it fell, crushing every bone in his right foot. When we visited last night, he was howling in pain while nurses kept running to get the resident to up his medications. \\n\\nThe company owner paid for his mom and other family to fly out to see him and paid for a hotel for them. He's having surgery right now to see if the foot can be saved. There's a potential for amputation. He's a huge football and sports player so the family is nervous. \\n\\nWhat can I do to show support? I'm wanting to make a big tray of muffins and pasta so that his visiting family can have something to eat. I'm sure they've been stressed to the point of improper nutrition. Other than that I'm not sure what I can do to make things a little easier. I've never experienced a family member having major surgery or illness. What should I be aware of during his recovery as well?\\n\\nCan you give me a shortened version of the text?\\n&lt;bot&gt;: Any tips on what you've done or what you've had family do for you to help after major surgery would be appreciated.</td>\n",
       "      <td>{'source': 'unified_openai_summarize_tldr'}</td>\n",
       "      <td>278</td>\n",
       "    </tr>\n",
       "    <tr>\n",
       "      <th>138399</th>\n",
       "      <td>&lt;human&gt;: Give me a shortened version of the text\\n\\nYou kno the old saying home is where the heart is ,well i feel as if i have no heart and no real home. My mom lives with her boyfriend ,my sister just got her own place with my nephew and my little bothers and sister live with there dad.  It feels like i don't have anywhere or anyone  anymore. I dont feel any real emotion anymore . I thought i had true love in my life but that only got me thrown in jail cuz she cheated on me and i broke some kids jaw. Like I'm too hopeful to kill myself and I'm too comfortable in my gloom. I'm desperate for friends I'm desperate to find someone to just care and to love. I used to have some really close friends brothers if you may. But you move away and everyone just fades away. I'm good to people like too good to people and i get looked at as naive for this but its easier to feel like a kid than to just change . I'm 19 btw but i look like I'm 25. I wish i could do some drugs to just feel like i don't exist ..... I'm lonely, really fucking lonely.  I'm such a nice person but that's just fading away to just being an asshole. I have no motivation to be better like i used to be ..... things were just easier when my family was just together in one house. It was easier being told what to do...\\n&lt;bot&gt;: 19 went to jail came home to family being spread thin and poor to living with relatives and me being pushed out of home too soon and now moving along aimlessly not knowing who i am or where life is going.</td>\n",
       "      <td>{'source': 'unified_openai_summarize_tldr'}</td>\n",
       "      <td>373</td>\n",
       "    </tr>\n",
       "    <tr>\n",
       "      <th>146876</th>\n",
       "      <td>&lt;human&gt;: Give me the gist of the text in a nutshell\\n\\nMe and my buddy K have been super close friends since our freshman year of college (5 years) since we were both comp sci majors at a small college. He had a gf back then but she was alright with me and they broke up a year or so after I met him. Since then he's been single till now with just a few dates here and there.\\n\\nI'm sorta insecure since most my friends are males (due to my interests) and they tend to get told to not hang with me by their gfs when they get them. Its happened numerous times in the past. \\n\\nI have just shrugged it off in the past but K is my closest friend and the person other than my bf(dating for 4 years) that I hang out with the most. Is there something I can do or say to this girl if this pops up or should I just fade into the background and chalk it up to not being a loyal enough friend?\\n\\nAny suggestions would be appreciated. If you need more info let me know. Thank you! :)\\n&lt;bot&gt;: I am worried my best friends gf will tell him not to hang witg me like other friend's gfs have.</td>\n",
       "      <td>{'source': 'unified_openai_summarize_tldr'}</td>\n",
       "      <td>269</td>\n",
       "    </tr>\n",
       "    <tr>\n",
       "      <th>48107</th>\n",
       "      <td>&lt;human&gt;: Can you provide a brief overview of the text?\\n\\nWe met in college and live about five and a half hours apart. That distance has been the bane of our relationship. I found a great job near my hometown after college that has been able to take care of us in a major way. She is younger than me so it took her an extra year to finish school.\\n\\nAfter graduating, she had no real ties to home so we found an apartment in a location that isn't either of our hometowns, but that would allow me to continue earning a solid living and taking care of our major expenses. About 2.5 months ago (and a week after we signed the lease), her mom suffered a major stroke from an AVM. She has always been a perfectly healthy woman so that came as quite a shock to us all.\\n\\nMy girlfriend is now stuck at home assisting her mother during her recovery and she has become the main caretaker at home. All of the plans that we had have been disrupted in a major way. Now, we are struggling every day to find any kind of optimism in our relationship and future together.\\n\\nI feel guilty for contuining (or attempting to continue) my life while she takes care of her family. She feels guilty for having plans to move out. I'm making a huge sacrifice by paying for all of our expenses and waiting for her, and she's now making a huge sacrifice in considering to move away from her family during their time of need.\\n\\nWhat possible future exists for us here? What would you do/how would you feel if you were either of us in our respective situations?\\n&lt;bot&gt;: My girlfriend's mother has been in the hospital after a major stroke and she lives 5.5 hours away taking care of her. Where do we find the optimism to continue waiting and making sacrifices to stay together and pursue our plans?</td>\n",
       "      <td>{'source': 'unified_openai_summarize_tldr'}</td>\n",
       "      <td>389</td>\n",
       "    </tr>\n",
       "  </tbody>\n",
       "</table>\n",
       "</div>"
      ],
      "text/plain": [
       "                                                                                                                                                                                                                                                                                                                                                                                                                                                                                                                                                                                                                                                                                                                                                                                                                                                                                                                                                                                                                                                                                                                                                                                                                                                                                                                                                                                                                                                                                                                                                                                                                                                                                                                                                                                                                                                 text  \\\n",
       "18902   <human>: Can you give me the gist of the text in a nutshell?\\n\\nI just moved to a new school and I found a group that I really wanted to be a part of. Now, the group in question organizes these sessions for tabletop games and the sessions are a very 'group only' sort of affair. A few months ago, I actually got invited to one and I was ecstatic. Unfortunately, I'm still a bit of an 'outsider'. On Wednesday, we have another session planned but the game that people want to play can only have six people and there are seven people invited including me. Several people have already commented how I'm not part of the 'core' group and that I shouldn't be invited at all. Should I just tell them I can't come to avoid the pain that is quite probably about to hit me? Should I just leave it and hope for the best?\\n<bot>: newbiee in a group, invited to a game, too many people invited for said game, may be ditched                                                                                                                                                                                                                                                                                                                                                                                                                                                                                                                                                                                                                                                                                                                                                                                                                                                                                                  \n",
       "194250  <human>: My husbands cousin is a diesel mechanic and had an accident at work yesterday. A coworker improperly lifted a semi-trailer and it fell, crushing every bone in his right foot. When we visited last night, he was howling in pain while nurses kept running to get the resident to up his medications. \\n\\nThe company owner paid for his mom and other family to fly out to see him and paid for a hotel for them. He's having surgery right now to see if the foot can be saved. There's a potential for amputation. He's a huge football and sports player so the family is nervous. \\n\\nWhat can I do to show support? I'm wanting to make a big tray of muffins and pasta so that his visiting family can have something to eat. I'm sure they've been stressed to the point of improper nutrition. Other than that I'm not sure what I can do to make things a little easier. I've never experienced a family member having major surgery or illness. What should I be aware of during his recovery as well?\\n\\nCan you give me a shortened version of the text?\\n<bot>: Any tips on what you've done or what you've had family do for you to help after major surgery would be appreciated.                                                                                                                                                                                                                                                                                                                                                                                                                                                                                                                                                                                                                                     \n",
       "138399  <human>: Give me a shortened version of the text\\n\\nYou kno the old saying home is where the heart is ,well i feel as if i have no heart and no real home. My mom lives with her boyfriend ,my sister just got her own place with my nephew and my little bothers and sister live with there dad.  It feels like i don't have anywhere or anyone  anymore. I dont feel any real emotion anymore . I thought i had true love in my life but that only got me thrown in jail cuz she cheated on me and i broke some kids jaw. Like I'm too hopeful to kill myself and I'm too comfortable in my gloom. I'm desperate for friends I'm desperate to find someone to just care and to love. I used to have some really close friends brothers if you may. But you move away and everyone just fades away. I'm good to people like too good to people and i get looked at as naive for this but its easier to feel like a kid than to just change . I'm 19 btw but i look like I'm 25. I wish i could do some drugs to just feel like i don't exist ..... I'm lonely, really fucking lonely.  I'm such a nice person but that's just fading away to just being an asshole. I have no motivation to be better like i used to be ..... things were just easier when my family was just together in one house. It was easier being told what to do...\\n<bot>: 19 went to jail came home to family being spread thin and poor to living with relatives and me being pushed out of home too soon and now moving along aimlessly not knowing who i am or where life is going.                                                                                                                                                                                                                                                                               \n",
       "146876  <human>: Give me the gist of the text in a nutshell\\n\\nMe and my buddy K have been super close friends since our freshman year of college (5 years) since we were both comp sci majors at a small college. He had a gf back then but she was alright with me and they broke up a year or so after I met him. Since then he's been single till now with just a few dates here and there.\\n\\nI'm sorta insecure since most my friends are males (due to my interests) and they tend to get told to not hang with me by their gfs when they get them. Its happened numerous times in the past. \\n\\nI have just shrugged it off in the past but K is my closest friend and the person other than my bf(dating for 4 years) that I hang out with the most. Is there something I can do or say to this girl if this pops up or should I just fade into the background and chalk it up to not being a loyal enough friend?\\n\\nAny suggestions would be appreciated. If you need more info let me know. Thank you! :)\\n<bot>: I am worried my best friends gf will tell him not to hang witg me like other friend's gfs have.                                                                                                                                                                                                                                                                                                                                                                                                                                                                                                                                                                                                                                                                                                                           \n",
       "48107   <human>: Can you provide a brief overview of the text?\\n\\nWe met in college and live about five and a half hours apart. That distance has been the bane of our relationship. I found a great job near my hometown after college that has been able to take care of us in a major way. She is younger than me so it took her an extra year to finish school.\\n\\nAfter graduating, she had no real ties to home so we found an apartment in a location that isn't either of our hometowns, but that would allow me to continue earning a solid living and taking care of our major expenses. About 2.5 months ago (and a week after we signed the lease), her mom suffered a major stroke from an AVM. She has always been a perfectly healthy woman so that came as quite a shock to us all.\\n\\nMy girlfriend is now stuck at home assisting her mother during her recovery and she has become the main caretaker at home. All of the plans that we had have been disrupted in a major way. Now, we are struggling every day to find any kind of optimism in our relationship and future together.\\n\\nI feel guilty for contuining (or attempting to continue) my life while she takes care of her family. She feels guilty for having plans to move out. I'm making a huge sacrifice by paying for all of our expenses and waiting for her, and she's now making a huge sacrifice in considering to move away from her family during their time of need.\\n\\nWhat possible future exists for us here? What would you do/how would you feel if you were either of us in our respective situations?\\n<bot>: My girlfriend's mother has been in the hospital after a major stroke and she lives 5.5 hours away taking care of her. Where do we find the optimism to continue waiting and making sacrifices to stay together and pursue our plans?   \n",
       "\n",
       "                                           metadata  nb_token  \n",
       "18902   {'source': 'unified_openai_summarize_tldr'}  222       \n",
       "194250  {'source': 'unified_openai_summarize_tldr'}  278       \n",
       "138399  {'source': 'unified_openai_summarize_tldr'}  373       \n",
       "146876  {'source': 'unified_openai_summarize_tldr'}  269       \n",
       "48107   {'source': 'unified_openai_summarize_tldr'}  389       "
      ]
     },
     "execution_count": 101,
     "metadata": {},
     "output_type": "execute_result"
    }
   ],
   "source": [
    "tldr_df.sample(5)"
   ]
  },
  {
   "cell_type": "code",
   "execution_count": 109,
   "id": "0bc16c93",
   "metadata": {},
   "outputs": [
    {
     "data": {
      "text/plain": [
       "(140502, 3)"
      ]
     },
     "execution_count": 109,
     "metadata": {},
     "output_type": "execute_result"
    }
   ],
   "source": [
    "tldr_df[tldr_df.text.map(lambda x: x[-1]!='?')&(tldr_df.nb_token<=512)].shape"
   ]
  },
  {
   "cell_type": "markdown",
   "id": "6100757e",
   "metadata": {},
   "source": [
    "## Combine"
   ]
  },
  {
   "cell_type": "code",
   "execution_count": 123,
   "id": "19107950",
   "metadata": {},
   "outputs": [
    {
     "data": {
      "text/plain": [
       "{'source': 'unified_chip2'}                    210289\n",
       "{'source': 'infil_dbpedia'}                    99288 \n",
       "{'source': 'unified_hc3_human'}                55205 \n",
       "{'source': 'unified_openai_summarize_tldr'}    28436 \n",
       "{'source': 'databricks-dolly-15k'}             14080 \n",
       "Name: metadata, dtype: int64"
      ]
     },
     "execution_count": 123,
     "metadata": {},
     "output_type": "execute_result"
    }
   ],
   "source": [
    "final_df = pd.concat([chip2_df,dolly2_df,hc3_df,\n",
    "                      infill_df,\n",
    "                      tldr_df[tldr_df.text.map(lambda x: x[-1]!='?')]\\\n",
    "                         .sample(n=30000,random_state=125)\n",
    "                     ],\n",
    "                     axis=0)\n",
    "final_df = final_df[final_df.nb_token<=512].reset_index(drop=True)\n",
    "final_df.to_csv('../data_large/final_df_v1.csv',index=False)\n",
    "final_df.metadata.value_counts()"
   ]
  },
  {
   "cell_type": "code",
   "execution_count": 124,
   "id": "523f3aa6",
   "metadata": {},
   "outputs": [
    {
     "data": {
      "text/plain": [
       "(407298, 3)"
      ]
     },
     "execution_count": 124,
     "metadata": {},
     "output_type": "execute_result"
    }
   ],
   "source": [
    "final_df.shape"
   ]
  },
  {
   "cell_type": "code",
   "execution_count": 130,
   "id": "c5018019",
   "metadata": {},
   "outputs": [
    {
     "data": {
      "text/plain": [
       "0.0    11.0 \n",
       "0.1    58.0 \n",
       "0.2    76.0 \n",
       "0.3    91.0 \n",
       "0.4    107.0\n",
       "0.5    126.0\n",
       "0.6    162.0\n",
       "0.7    255.0\n",
       "0.8    361.0\n",
       "0.9    439.0\n",
       "Name: nb_token, dtype: float64"
      ]
     },
     "execution_count": 130,
     "metadata": {},
     "output_type": "execute_result"
    }
   ],
   "source": [
    "final_df.nb_token.quantile([i/10 for i in range(10)])"
   ]
  },
  {
   "cell_type": "code",
   "execution_count": 131,
   "id": "0d80f596",
   "metadata": {},
   "outputs": [
    {
     "data": {
      "text/plain": [
       "count    407298.000000\n",
       "mean     194.566683   \n",
       "std      143.883870   \n",
       "min      11.000000    \n",
       "25%      84.000000    \n",
       "50%      126.000000   \n",
       "75%      312.000000   \n",
       "max      512.000000   \n",
       "Name: nb_token, dtype: float64"
      ]
     },
     "execution_count": 131,
     "metadata": {},
     "output_type": "execute_result"
    }
   ],
   "source": [
    "final_df.nb_token.describe()"
   ]
  },
  {
   "cell_type": "markdown",
   "id": "e5644dfe",
   "metadata": {},
   "source": [
    "## Convert to Dataset"
   ]
  },
  {
   "cell_type": "code",
   "execution_count": 126,
   "id": "ab9d2644",
   "metadata": {},
   "outputs": [
    {
     "data": {
      "text/plain": [
       "Dataset({\n",
       "    features: ['text', 'metadata', 'nb_token'],\n",
       "    num_rows: 407298\n",
       "})"
      ]
     },
     "execution_count": 126,
     "metadata": {},
     "output_type": "execute_result"
    }
   ],
   "source": [
    "ds = Dataset.from_pandas(final_df)\n",
    "ds"
   ]
  },
  {
   "cell_type": "code",
   "execution_count": 129,
   "id": "76852be1",
   "metadata": {},
   "outputs": [
    {
     "data": {
      "text/plain": [
       "{'text': '<human>: Why does Road Dogg announce that the New Age Outlaws are the \"soon-to-be WWF Tag Team Champions of the world\"?\\n<bot>: Road Dogg announces that the New Age Outlaws are the \"soon-to-be WWF Tag Team Champions of the world\" because he wants to make sure that the fans know that the New Age Outlaws are the WWF Tag Team Champions of the world.',\n",
       " 'metadata': {'source': 'unified_chip2'},\n",
       " 'nb_token': 96}"
      ]
     },
     "execution_count": 129,
     "metadata": {},
     "output_type": "execute_result"
    }
   ],
   "source": [
    "ds.shuffle()[0]"
   ]
  },
  {
   "cell_type": "code",
   "execution_count": 133,
   "id": "059b4253",
   "metadata": {},
   "outputs": [
    {
     "data": {
      "text/plain": [
       "DatasetDict({\n",
       "    train: Dataset({\n",
       "        features: ['text', 'metadata', 'nb_token'],\n",
       "        num_rows: 405760\n",
       "    })\n",
       "    test: Dataset({\n",
       "        features: ['text', 'metadata', 'nb_token'],\n",
       "        num_rows: 1538\n",
       "    })\n",
       "})"
      ]
     },
     "execution_count": 133,
     "metadata": {},
     "output_type": "execute_result"
    }
   ],
   "source": [
    "ds_split = ds.train_test_split(test_size=1538, seed=125)\n",
    "ds_split"
   ]
  },
  {
   "cell_type": "code",
   "execution_count": null,
   "id": "43687fda",
   "metadata": {},
   "outputs": [
    {
     "name": "stderr",
     "output_type": "stream",
     "text": [
      "Pushing split train to the Hub.\n"
     ]
    }
   ],
   "source": [
    "ds_split.push_to_hub('pythainlp/final_training_set_v1', private=True)"
   ]
  },
  {
   "cell_type": "code",
   "execution_count": null,
   "id": "332a95a8",
   "metadata": {},
   "outputs": [],
   "source": [
    "ds_split['train'][1000]"
   ]
  },
  {
   "cell_type": "markdown",
   "id": "22a70b17",
   "metadata": {},
   "source": [
    "## Process Translated"
   ]
  },
  {
   "cell_type": "code",
   "execution_count": 19,
   "id": "5865f118",
   "metadata": {},
   "outputs": [
    {
     "data": {
      "application/vnd.jupyter.widget-view+json": {
       "model_id": "4eb1d7f987b24a0f945e5acd4a3c28ae",
       "version_major": 2,
       "version_minor": 0
      },
      "text/plain": [
       "0it [00:00, ?it/s]"
      ]
     },
     "metadata": {},
     "output_type": "display_data"
    },
    {
     "data": {
      "text/plain": [
       "(407959, 3)"
      ]
     },
     "execution_count": 19,
     "metadata": {},
     "output_type": "execute_result"
    }
   ],
   "source": [
    "ds = []\n",
    "with jsonlines.open('../data_large/final_df_translated.jsonl') as reader:\n",
    "    for obj in tqdm(reader):\n",
    "        obj_new = {}\n",
    "        obj_new['text_en'] = obj['text']\n",
    "        obj_new['text'] = obj['translated_text_replaced']\n",
    "        obj_new['nb_token'] = len(tokenizer(obj_new['text'])['input_ids'])\n",
    "        ds.append(obj_new)\n",
    "translated_df = pd.DataFrame(ds)\n",
    "translated_df.shape"
   ]
  },
  {
   "cell_type": "code",
   "execution_count": 16,
   "id": "8231803e",
   "metadata": {},
   "outputs": [
    {
     "data": {
      "text/plain": [
       "'<context>: WABG-TV (ช่อง 6) เป็นสถานีโทรทัศน์ที่ได้รับอนุญาตจากกรีนวูด รัฐมิสซิสซิปปี้ สหรัฐอเมริกา ให้บริการในพื้นที่เดลต้าในฐานะบริษัทในเครือของ ABC และ Fox เป็นเจ้าของโดย Imagicomm Communications ควบคู่ไปกับสถานีพลังงานต่ำสองแห่ง ได้แก่ บริษัทในเครือ NBC ที่ได้รับใบอนุญาต WNBD-LD (ช่อง 33) ของ Grenada และบริษัทในเครือ CBS ที่ได้รับใบอนุญาต CBS WXVT-LD (ช่อง 17) ทั้งสามสถานีใช้สตูดิโอร่วมกันที่ Washington Avenue ใน Greenville; เครื่องส่งสัญญาณของ WABG-TV ตั้งอยู่ทางตะวันออกเฉียงเหนือของ Inverness, Mississippi\\n<human>: WABG-TV เปิดช่องไหน?\\n<bot>:'"
      ]
     },
     "execution_count": 16,
     "metadata": {},
     "output_type": "execute_result"
    }
   ],
   "source": [
    "text = '<context>: WABG-TV (ช่อง 6) เป็นสถานีโทรทัศน์ที่ได้รับอนุญาตจากกรีนวูด รัฐมิสซิสซิปปี้ สหรัฐอเมริกา ให้บริการในพื้นที่เดลต้าในฐานะบริษัทในเครือของ ABC และ Fox เป็นเจ้าของโดย Imagicomm Communications ควบคู่ไปกับสถานีพลังงานต่ำสองแห่ง ได้แก่ บริษัทในเครือ NBC ที่ได้รับใบอนุญาต WNBD-LD (ช่อง 33) ของ Grenada และบริษัทในเครือ CBS ที่ได้รับใบอนุญาต CBS WXVT-LD (ช่อง 17) ทั้งสามสถานีใช้สตูดิโอร่วมกันที่ Washington Avenue ใน Greenville; เครื่องส่งสัญญาณของ WABG-TV ตั้งอยู่ทางตะวันออกเฉียงเหนือของ Inverness, Mississippi\\n<human>: WABG-TV เปิดช่องไหน?\\n<bot>: WABG-TV WABG-TV ช่องเสมือน 6 (ช่องดิจิตอล UHF 32) เป็นสถานีโทรทัศน์ในเครือ ABC/Fox คู่ที่ได้รับอนุญาตในกรีนวูด รัฐมิสซิสซิปปี้ สหรัฐอเมริกา และให้บริการในพื้นที่สามเหลี่ยมปากแม่น้ำทางตะวันตกเฉียงเหนือของรัฐมิสซิสซิปปี\\n<human>: ต่อไป\\n<bot>: เป็นเจ้าของโดย Northwest Broadcasting และเป็นบริษัทในเครือของสถานีพลังงานต่ำสองแห่ง ได้แก่ บริษัทในเครือ NBC ที่ได้รับใบอนุญาตของ Grenada WNBD-LD (ช่อง 33) และบริษัทในเครือ CBS ที่ได้รับใบอนุญาตจาก Cleveland WXVT-LD (ช่อง 17); ภาคตะวันตกเฉียงเหนือยังดำเนินการ WFXW ซึ่งเป็นบริษัทในเครือ Ion Television ที่ได้รับใบอนุญาตของ Greenville (ช่อง 15) ภายใต้ข้อตกลงบริการร่วมกัน (SSA) กับเจ้าของ John Wagner\\n<human>: สตูดิโอเดียวกับ WMYD-TV หรือเปล่า?\\n<bot>: สี่สถานีใช้สตูดิโอร่วมกันที่ Washington Avenue ใน Greenville; เครื่องส่งสัญญาณของ WABG-TV ตั้งอยู่ทางตะวันออกเฉียงเหนือของ Inverness, Mississippi\\n<human>: สถานีเริ่มออกอากาศเมื่อไหร่?\\n<bot>: WABG-TV ออกอากาศครั้งแรกเมื่อวันที่ 20 ตุลาคม พ.ศ. 2502 ทางช่อง VHF 6\\n<human>: สถานีนี้เป็นของใคร?\\n<bot>: เดิมทีเป็นบริษัทในเครือของ CBS และออกอากาศรายการจากเครือข่ายนั้นเป็นหลักตลอดช่วงต้นทศวรรษ 1960 โดยมีความเกี่ยวข้องรองกับ ABC เนื่องจากความร่วมมือของ WABG-AM กับ ABC\\n<human>: สถานียังออกอากาศอยู่หรือเปล่า?\\n<bot>: ในปี พ.ศ. 2509 สถานีได้สร้างหอคอยใกล้กับอินเวอร์เนสส์ และเพิ่มกำลังการผลิตเป็น 100,000 วัตต์'\n",
    "text.split('\\n<bot>')[0] + '\\n<bot>:'"
   ]
  },
  {
   "cell_type": "code",
   "execution_count": 22,
   "id": "b480df95",
   "metadata": {},
   "outputs": [
    {
     "data": {
      "text/plain": [
       "(407298, 3)"
      ]
     },
     "execution_count": 22,
     "metadata": {},
     "output_type": "execute_result"
    }
   ],
   "source": [
    "original_df = pd.read_csv('../data_large/final_df_v1.csv')\n",
    "original_df.shape"
   ]
  },
  {
   "cell_type": "code",
   "execution_count": 60,
   "id": "ebb6dcb8",
   "metadata": {},
   "outputs": [
    {
     "name": "stderr",
     "output_type": "stream",
     "text": [
      "/tmp/ipykernel_8423/2765064141.py:5: UserWarning: Boolean Series key will be reindexed to match DataFrame index.\n",
      "  chip2 = merged_df[merged_df.metadata==\"{'source': 'unified_chip2'}\"]\\\n"
     ]
    },
    {
     "data": {
      "text/plain": [
       "(380049, 3)"
      ]
     },
     "execution_count": 60,
     "metadata": {},
     "output_type": "execute_result"
    }
   ],
   "source": [
    "merged_df = translated_df.merge(original_df, left_on='text_en', right_on='text')\\\n",
    "    .drop_duplicates()[['text_x','nb_token_x','metadata']].reset_index(drop=True)\n",
    "merged_df.columns = ['text','nb_token','metadata']\n",
    "merged_df = merged_df[merged_df.nb_token<=512]\n",
    "chip2 = merged_df[merged_df.metadata==\"{'source': 'unified_chip2'}\"]\\\n",
    "    [merged_df.text.map(\n",
    "        lambda x: not ('ฟังก์ชัน' in x)|('Python' in x)|('ต่อไปนี้เป็นโค้ด' in x)\n",
    "    )]\n",
    "others = merged_df[merged_df.metadata!=\"{'source': 'unified_chip2'}\"]\n",
    "merged_df = pd.concat([chip2,others],axis=0)\\\n",
    "    .drop_duplicates().reset_index(drop=True)\n",
    "merged_df.shape"
   ]
  },
  {
   "cell_type": "code",
   "execution_count": 61,
   "id": "eb8126aa",
   "metadata": {},
   "outputs": [
    {
     "data": {
      "text/plain": [
       "(380049, 3)"
      ]
     },
     "execution_count": 61,
     "metadata": {},
     "output_type": "execute_result"
    }
   ],
   "source": [
    "merged_df.drop_duplicates().shape"
   ]
  },
  {
   "cell_type": "code",
   "execution_count": 63,
   "id": "b9edc556",
   "metadata": {},
   "outputs": [
    {
     "data": {
      "text/plain": [
       "{'source': 'unified_chip2'}                    204044\n",
       "{'source': 'infil_dbpedia'}                    80309 \n",
       "{'source': 'unified_hc3_human'}                53429 \n",
       "{'source': 'unified_openai_summarize_tldr'}    28404 \n",
       "{'source': 'databricks-dolly-15k'}             13863 \n",
       "Name: metadata, dtype: int64"
      ]
     },
     "execution_count": 63,
     "metadata": {},
     "output_type": "execute_result"
    }
   ],
   "source": [
    "merged_df.metadata.value_counts()"
   ]
  },
  {
   "cell_type": "code",
   "execution_count": 64,
   "id": "00cd047b",
   "metadata": {},
   "outputs": [
    {
     "data": {
      "text/plain": [
       "Dataset({\n",
       "    features: ['text', 'nb_token', 'metadata'],\n",
       "    num_rows: 380049\n",
       "})"
      ]
     },
     "execution_count": 64,
     "metadata": {},
     "output_type": "execute_result"
    }
   ],
   "source": [
    "ds = Dataset.from_pandas(merged_df)\n",
    "ds"
   ]
  },
  {
   "cell_type": "code",
   "execution_count": 65,
   "id": "fa59543f",
   "metadata": {},
   "outputs": [
    {
     "data": {
      "text/plain": [
       "DatasetDict({\n",
       "    train: Dataset({\n",
       "        features: ['text', 'nb_token', 'metadata'],\n",
       "        num_rows: 379520\n",
       "    })\n",
       "    test: Dataset({\n",
       "        features: ['text', 'nb_token', 'metadata'],\n",
       "        num_rows: 529\n",
       "    })\n",
       "})"
      ]
     },
     "execution_count": 65,
     "metadata": {},
     "output_type": "execute_result"
    }
   ],
   "source": [
    "ds_split = ds.train_test_split(test_size=529, seed=125)\n",
    "ds_split"
   ]
  },
  {
   "cell_type": "code",
   "execution_count": 66,
   "id": "33dff027",
   "metadata": {},
   "outputs": [
    {
     "name": "stderr",
     "output_type": "stream",
     "text": [
      "Pushing split train to the Hub.\n"
     ]
    },
    {
     "data": {
      "application/vnd.jupyter.widget-view+json": {
       "model_id": "629698f3bdb4454d9c9d08a38a24dfab",
       "version_major": 2,
       "version_minor": 0
      },
      "text/plain": [
       "Pushing dataset shards to the dataset hub:   0%|          | 0/2 [00:00<?, ?it/s]"
      ]
     },
     "metadata": {},
     "output_type": "display_data"
    },
    {
     "name": "stderr",
     "output_type": "stream",
     "text": [
      "Pushing split test to the Hub.\n"
     ]
    },
    {
     "data": {
      "application/vnd.jupyter.widget-view+json": {
       "model_id": "e08a68f247564884990079749477bc2e",
       "version_major": 2,
       "version_minor": 0
      },
      "text/plain": [
       "Pushing dataset shards to the dataset hub:   0%|          | 0/1 [00:00<?, ?it/s]"
      ]
     },
     "metadata": {},
     "output_type": "display_data"
    }
   ],
   "source": [
    "ds_split.push_to_hub('pythainlp/final_training_set_v1_en_th', private=True)"
   ]
  },
  {
   "cell_type": "markdown",
   "id": "4045384e",
   "metadata": {},
   "source": [
    "### RLHF Preparation"
   ]
  },
  {
   "cell_type": "code",
   "execution_count": 69,
   "id": "ce23b66f",
   "metadata": {},
   "outputs": [
    {
     "data": {
      "text/plain": [
       "((176005, 3),\n",
       " {'source': 'infil_dbpedia'}                    80309\n",
       " {'source': 'unified_hc3_human'}                53429\n",
       " {'source': 'unified_openai_summarize_tldr'}    28404\n",
       " {'source': 'databricks-dolly-15k'}             13863\n",
       " Name: metadata, dtype: int64)"
      ]
     },
     "execution_count": 69,
     "metadata": {},
     "output_type": "execute_result"
    }
   ],
   "source": [
    "rlhf_df = merged_df[merged_df.metadata!=\"{'source': 'unified_chip2'}\"].reset_index(drop=True)\n",
    "rlhf_df.shape, rlhf_df.metadata.value_counts()"
   ]
  },
  {
   "cell_type": "code",
   "execution_count": 70,
   "id": "ed27ba01",
   "metadata": {},
   "outputs": [],
   "source": [
    "rlhf_df['prompt'] = rlhf_df.text.map(lambda x: x.split('<bot>:')[0] + '<bot>:')"
   ]
  },
  {
   "cell_type": "code",
   "execution_count": 71,
   "id": "2e8d4764",
   "metadata": {},
   "outputs": [
    {
     "data": {
      "text/html": [
       "<div>\n",
       "<style scoped>\n",
       "    .dataframe tbody tr th:only-of-type {\n",
       "        vertical-align: middle;\n",
       "    }\n",
       "\n",
       "    .dataframe tbody tr th {\n",
       "        vertical-align: top;\n",
       "    }\n",
       "\n",
       "    .dataframe thead th {\n",
       "        text-align: right;\n",
       "    }\n",
       "</style>\n",
       "<table border=\"1\" class=\"dataframe\">\n",
       "  <thead>\n",
       "    <tr style=\"text-align: right;\">\n",
       "      <th></th>\n",
       "      <th>text</th>\n",
       "      <th>nb_token</th>\n",
       "      <th>metadata</th>\n",
       "      <th>prompt</th>\n",
       "    </tr>\n",
       "  </thead>\n",
       "  <tbody>\n",
       "    <tr>\n",
       "      <th>90397</th>\n",
       "      <td>&lt;human&gt;: เขียนบทความเกี่ยวกับ Lac Lamothe Water Aerodrome (TC LID, Lac La Mothe, อภิปรายในรายละเอียด Mothe 1.3 ไมล์ทะเล, สิ้นเดือนกันยายนในหนึ่งย่อหน้า)\\n&lt;bot&gt;: Lac Lamothe Water Aerodrome (TC LID: CLL3) ตั้งอยู่บน Lac La Mothe 1.3 ไมล์ทะเล (2.4 กม.; 1.5 ไมล์) ทางเหนือของ ควิเบก ประเทศแคนาดา เปิดให้บริการตั้งแต่ปลายเดือนพฤษภาคมถึงสิ้นเดือนกันยายน\\n&lt;human&gt;: สนามบินน้ำ Lac Lamothe เป็นที่รู้จักอย่างไร?\\n&lt;bot&gt;: สนามบินน้ำ Lac Lamothe สนามบินน้ำ Lac Lamothe ตั้งอยู่บน Lac La Mothe ทางตอนเหนือของ Chute-des-Georges รัฐควิเบก ประเทศแคนาดา และเปิดให้บริการตั้งแต่ปลายเดือนพฤษภาคมถึงสิ้นเดือนกันยายน</td>\n",
       "      <td>190</td>\n",
       "      <td>{'source': 'infil_dbpedia'}</td>\n",
       "      <td>&lt;human&gt;: เขียนบทความเกี่ยวกับ Lac Lamothe Water Aerodrome (TC LID, Lac La Mothe, อภิปรายในรายละเอียด Mothe 1.3 ไมล์ทะเล, สิ้นเดือนกันยายนในหนึ่งย่อหน้า)\\n&lt;bot&gt;:</td>\n",
       "    </tr>\n",
       "    <tr>\n",
       "      <th>132419</th>\n",
       "      <td>&lt;context&gt;: ภูเขาไฟ Didicas เป็นเกาะภูเขาไฟที่ยังไม่ดับในจังหวัด Cagayan ทางตอนเหนือของฟิลิปปินส์ เกาะแห่งนี้เคยเป็นภูเขาไฟใต้น้ำและโผล่ขึ้นมาอีกครั้งจากทะเลในปี 1952 อยู่ห่างจากเกาะ Camiguin ทางตะวันออกเฉียงเหนือ 22 กิโลเมตร ซึ่งเป็นหนึ่งในเกาะ Babuyan ในช่องแคบลูซอน ก่อนปี 1952 ภูเขาไฟระเบิดพื้นผิวมหาสมุทรครั้งแรกในปี 1857\\n&lt;human&gt;: อะไรคือความแตกต่างระหว่างภูเขาไฟ Didicas และภูเขาไฟอื่นๆ?\\n&lt;bot&gt;: ภูเขาไฟ Didicas ภูเขาไฟ Didicas เป็นเกาะภูเขาไฟที่ยังคุกรุ่นอยู่ในจังหวัด Cagayan ทางตอนเหนือของฟิลิปปินส์\\n&lt;human&gt;: มันอยู่ที่ไหน?\\n&lt;bot&gt;: เกาะนี้เคยเป็นภูเขาไฟใต้ทะเลและโผล่ขึ้นมาอีกครั้งจากทะเลในปี 1952 อยู่ทางตะวันออกเฉียงเหนือของเกาะ Camiguin ซึ่งเป็นหนึ่งในเกาะ Babuyan ในช่องแคบลูซอน\\n&lt;human&gt;: มันปะทุครั้งสุดท้ายเมื่อไหร่?\\n&lt;bot&gt;: ก่อนปี 1952 ภูเขาไฟระเบิดพื้นผิวมหาสมุทรครั้งแรกในปี 1857\\n&lt;human&gt;: มีข้อมูลอื่นที่น่าสนใจอีกไหม?\\n&lt;bot&gt;: Didicas ราดด้วยโดมลาวาที่มีระดับความสูงและเส้นผ่านศูนย์กลางฐานที่ระดับน้ำทะเล\\n&lt;human&gt;: เป็นส่วนหนึ่งของวงแหวนแห่งไฟแปซิฟิกหรือไม่?\\n&lt;bot&gt;: อยู่ทางตอนใต้สุดของแนวภูเขาไฟลูซอน และเช่นเดียวกับภูเขาไฟทุกลูกในฟิลิปปินส์ เป็นส่วนหนึ่งของวงแหวนแห่งไฟในมหาสมุทรแปซิฟิก\\n&lt;human&gt;: มีข้อมูลอื่นที่น่าสนใจอีกไหม?\\n&lt;bot&gt;: มีการบันทึกการปะทุครั้งประวัติศาสตร์จากภูเขาไฟ 6 ครั้งตั้งแต่ศตวรรษที่ 18</td>\n",
       "      <td>381</td>\n",
       "      <td>{'source': 'infil_dbpedia'}</td>\n",
       "      <td>&lt;context&gt;: ภูเขาไฟ Didicas เป็นเกาะภูเขาไฟที่ยังไม่ดับในจังหวัด Cagayan ทางตอนเหนือของฟิลิปปินส์ เกาะแห่งนี้เคยเป็นภูเขาไฟใต้น้ำและโผล่ขึ้นมาอีกครั้งจากทะเลในปี 1952 อยู่ห่างจากเกาะ Camiguin ทางตะวันออกเฉียงเหนือ 22 กิโลเมตร ซึ่งเป็นหนึ่งในเกาะ Babuyan ในช่องแคบลูซอน ก่อนปี 1952 ภูเขาไฟระเบิดพื้นผิวมหาสมุทรครั้งแรกในปี 1857\\n&lt;human&gt;: อะไรคือความแตกต่างระหว่างภูเขาไฟ Didicas และภูเขาไฟอื่นๆ?\\n&lt;bot&gt;:</td>\n",
       "    </tr>\n",
       "    <tr>\n",
       "      <th>49527</th>\n",
       "      <td>&lt;human&gt;: เงินกู้ที่มีอัตราดอกเบี้ยผันแปรเป็นความคิดที่ดีหรือไม่?\\n&lt;bot&gt;: สิ่งที่เกิดขึ้นคือเงินกู้อัตราผันแปรกำลังโอนความเสี่ยงบางส่วนจากธนาคารมาให้คุณ ในข้อตกลงที่สมเหตุสมผล การเสี่ยงจะนำมาซึ่งรางวัล เป็นแบบเดียวกับการหักลดหย่อนในการประกัน - พวกเขากำลังโอนความเสี่ยงบางอย่างมาให้คุณและทำให้ค่าใช้จ่ายทั้งหมดที่คุณคาดไว้ลดลง ดังนั้นการประเมินที่เหมาะสมของข้อตกลงดังกล่าวคือว่าคุณสามารถจ่ายผลได้หรือไม่หากคุณวาดฟางสั้น หากคุณรู้สึกว่าคุณสามารถจ่ายเงินสูงสุดที่สามารถจ่ายได้ อัตราผันแปรก็เป็นข้อตกลงที่ดี หากคุณใกล้ถึงขีดจำกัดแล้ว ให้เลือกใช้ตัวเลือกที่ปลอดภัยในอัตราคงที่ สำหรับบ้าน วิธีนี้ง่ายพอที่จะประเมิน - เรียกใช้การคำนวณโดยสมมติว่ามีการชำระเงินสูงสุดและดูว่าอัตราส่วนหนี้สินต่อรายได้เป็นอย่างไร โปรดทราบว่าเมื่อเราได้รับการจำนอง มีปัจจัยอื่นที่เกี่ยวข้อง: สินเชื่อที่มีอัตราดอกเบี้ยผันแปรมีต้นทุนการเริ่มต้นที่สูงกว่า เมื่อรวมกับความแตกต่างที่ต่ำมากระหว่างอัตราคงที่และอัตรา ARM ณ เวลาที่เราคงที่ แต่เนื่องจากอัตราที่คุณอ้างถึงแบบแปรผันคงไม่ใช่เรื่องง่ายๆ สำหรับเรา</td>\n",
       "      <td>248</td>\n",
       "      <td>{'source': 'unified_hc3_human'}</td>\n",
       "      <td>&lt;human&gt;: เงินกู้ที่มีอัตราดอกเบี้ยผันแปรเป็นความคิดที่ดีหรือไม่?\\n&lt;bot&gt;:</td>\n",
       "    </tr>\n",
       "    <tr>\n",
       "      <th>41022</th>\n",
       "      <td>&lt;human&gt;: ทำไมจึงใช้ไข่ขาวดิบทำหางไก่ได้โดยไม่เสี่ยงต่ออาหารเป็นพิษ? เห็นสิ่งนี้ทำในสารคดีที่ฉันกำลังดูอยู่ งงมากกับวิธีการทำงาน อธิบายเหมือนฉันอายุห้าขวบ\\n&lt;bot&gt;: ทั้งหมดนี้เป็นความรู้ที่ดีที่สุดของฉัน เนื่องจากแอลกอฮอล์จะฆ่าเชื้อโรค ที่มา: ทำ eggnog ตั้งแต่เริ่มต้นเป็นเวลาห้าปี แก้ไข...เชื้อโรคไม่ใช่ของเยอรมัน 5555555555555555</td>\n",
       "      <td>98</td>\n",
       "      <td>{'source': 'unified_hc3_human'}</td>\n",
       "      <td>&lt;human&gt;: ทำไมจึงใช้ไข่ขาวดิบทำหางไก่ได้โดยไม่เสี่ยงต่ออาหารเป็นพิษ? เห็นสิ่งนี้ทำในสารคดีที่ฉันกำลังดูอยู่ งงมากกับวิธีการทำงาน อธิบายเหมือนฉันอายุห้าขวบ\\n&lt;bot&gt;:</td>\n",
       "    </tr>\n",
       "    <tr>\n",
       "      <th>103576</th>\n",
       "      <td>&lt;context&gt;: ทีมบาสเก็ตบอลชายไอโอวาฮอว์คอายส์ปี 1967–68 เป็นตัวแทนของมหาวิทยาลัยไอโอวาในบาสเก็ตบอลระหว่างมหาวิทยาลัยระหว่างฤดูกาล 1967–68 ทีมนี้นำโดย Ralph Miller และเล่นเกมเหย้าของพวกเขาที่ Iowa Field House ฮอว์คอายส์จบฤดูกาลที่ 16–9 และเป็นแชมป์ร่วมของบิ๊กเท็นด้วยสถิติการประชุม 10-4 แซม วิลเลียมส์ ผู้พิทักษ์อาวุโสได้รับเลือกให้เป็นผู้เล่นบิ๊กเท็นแห่งปีหลังจากอายุเฉลี่ย 25 ปี\\n3 แต้มต่อเกมและ 10.9 รีบาวด์ต่อเกม ต้องใช้เวลาอีก 52 ปีก่อนที่นักบาสเก็ตบอลชายจากไอโอวาอีกคนจะคว้ารางวัลกลับบ้านไป\\n&lt;human&gt;: ทีมบาสเก็ตบอลชายของไอโอวา ฮอว์คอายส์ในปี 1967–68 คืออะไร\\n&lt;bot&gt;: ทีมบาสเก็ตบอลชายไอโอวาฮอว์คอายส์ พ.ศ. 2510–68 ทีมบาสเก็ตบอลชายไอโอวาฮอว์คอายส์ พ.ศ. 2510–68 เป็นตัวแทนของมหาวิทยาลัยไอโอวาในการแข่งขันบาสเก็ตบอลระหว่างมหาวิทยาลัยระหว่างฤดูกาล พ.ศ. 2510–68\\n&lt;human&gt;: ใครอยู่ในทีมบ้าง?\\n&lt;bot&gt;: ทีมนี้นำโดย Ralph Miller และเล่นเกมเหย้าของพวกเขาที่ Iowa Field House\\n&lt;human&gt;: พวกเขาชนะเกมบ้างไหม?\\n&lt;bot&gt;: The Hawkeyes จบฤดูกาลที่ 16–9 และเป็นแชมป์ร่วมของ Big Ten ด้วยสถิติการประชุม 10-4\\n&lt;human&gt;: พวกเขามีความสูญเสียที่น่าสังเกตหรือไม่?\\n&lt;bot&gt;: ผู้พิทักษ์อาวุโส แซม วิลเลียมส์ ได้รับการเสนอชื่อให้เป็นผู้เล่นบิ๊กเท็นแห่งปีหลังจากทำแต้มเฉลี่ย 25.3 แต้มต่อเกมและ 10.9 รีบาวน์ต่อเกม\\n&lt;human&gt;: พวกเขาได้รับรางวัลอะไรไหม?\\n&lt;bot&gt;: จนถึงปัจจุบัน เขาเป็นผู้ชนะคนสุดท้ายของรางวัลสำหรับทีมบาสเก็ตบอลชายของรัฐไอโอวา ! คอลสแปน=8| ฤดูกาลปกติ ! คอลสแปน=8| เกมเพลย์ออฟบิ๊กเท็น</td>\n",
       "      <td>452</td>\n",
       "      <td>{'source': 'infil_dbpedia'}</td>\n",
       "      <td>&lt;context&gt;: ทีมบาสเก็ตบอลชายไอโอวาฮอว์คอายส์ปี 1967–68 เป็นตัวแทนของมหาวิทยาลัยไอโอวาในบาสเก็ตบอลระหว่างมหาวิทยาลัยระหว่างฤดูกาล 1967–68 ทีมนี้นำโดย Ralph Miller และเล่นเกมเหย้าของพวกเขาที่ Iowa Field House ฮอว์คอายส์จบฤดูกาลที่ 16–9 และเป็นแชมป์ร่วมของบิ๊กเท็นด้วยสถิติการประชุม 10-4 แซม วิลเลียมส์ ผู้พิทักษ์อาวุโสได้รับเลือกให้เป็นผู้เล่นบิ๊กเท็นแห่งปีหลังจากอายุเฉลี่ย 25 ปี\\n3 แต้มต่อเกมและ 10.9 รีบาวด์ต่อเกม ต้องใช้เวลาอีก 52 ปีก่อนที่นักบาสเก็ตบอลชายจากไอโอวาอีกคนจะคว้ารางวัลกลับบ้านไป\\n&lt;human&gt;: ทีมบาสเก็ตบอลชายของไอโอวา ฮอว์คอายส์ในปี 1967–68 คืออะไร\\n&lt;bot&gt;:</td>\n",
       "    </tr>\n",
       "    <tr>\n",
       "      <th>105630</th>\n",
       "      <td>&lt;context&gt;: McIntosh High School เป็นโรงเรียนรัฐบาลระดับมัธยมศึกษาแบบครอบคลุมระยะเวลาสี่ปีที่ตั้งอยู่ในเมืองพีชทรีซิตี้ รัฐจอร์เจีย ประเทศสหรัฐอเมริกา ในนครแอตแลนตา ในปี 2559 มีนักเรียน 1,684 คนเข้าเรียนในเกรดเก้าถึงสิบสอง โรงเรียนซึ่งปกครองโดย Fayette County School System ได้รับการขนานนามว่าเป็น Georgia School of Excellence ในปี 2544 ในปี 2550 ได้รับการขนานนามว่าเป็น National Blue Ribbon School of Excellence\\n&lt;human&gt;: มีแง่มุมอื่นๆ ที่น่าสนใจเกี่ยวกับบทความนี้เกี่ยวกับโรงเรียนมัธยมแมคอินทอชไหม\\n&lt;bot&gt;: ได้รับ 44 รัฐประชันในกรีฑาตั้งแต่ปี 1981\\n&lt;human&gt;: โรงเรียนมัธยม McIntosh ได้รับรางวัลอะไรอีกบ้าง\\n&lt;bot&gt;: ได้รับการรับรองโดย Southern Association of Colleges and Schools McIntosh อยู่ในรายชื่อโรงเรียนมัธยมของสหรัฐอเมริกาในปี 2550, 2551, 2552 และ 2553 ใน 1300 อันดับแรกของนิตยสาร \"Newsweek\" โดยอยู่ใน 5% อันดับแรกของโรงเรียนมัธยมทั้งหมดทั่วประเทศ แมคอินทอชมีโปรแกรมกีฬาในฟุตบอล (2013, 2014 และ 2017 AAAAA State Champion), วอลเลย์บอล (2007, 2013 และ 2017 AAAAA State Champion), เต้นรำ (2006, 2010, 2011, 2012, 2013, 2014, 2015, 2016 และ 2017 State Champion) และครอสคันทรี (1996, 2005, 2012, ทั้งชายและหญิง 2017 State Champion)\\n&lt;human&gt;: โรงเรียนมัธยม McIntosh ได้รับรางวัลอะไรอีกบ้าง\\n&lt;bot&gt;: เทนนิสชายได้รองชนะเลิศระดับรัฐสองครั้งในปี 2551 และ 2553 และเป็นแชมป์ดิวิชั่นสี่ปีซ้อน\\n&lt;human&gt;: โรงเรียนแมคอินทอชไฮสคูลได้รับตำแหน่งอะไรอีกบ้าง\\n&lt;bot&gt;: ฟุตบอลชายคว้าแชมป์ระดับชาติ 2 รายการ แชมป์ระดับรัฐ 6 รายการ และรองแชมป์ระดับรัฐ 6 สมัย\\n&lt;human&gt;: โรงเรียนมัธยม McIntosh ได้รับรางวัลหรือตำแหน่งอื่นๆ หรือไม่?\\n&lt;bot&gt;: ฟุตบอลหญิงชนะการแข่งขันระดับรัฐถึง 11 ครั้ง รวมถึงในปี 1994 โดยเอาชนะคู่แข่งอย่าง Fayette County ในปี 1995 (ด้วยสถิติรวม 19-0) และในปี 2016 เอาชนะ Columbus 4-0\\n&lt;human&gt;: นักกีฬาโรงเรียนมัธยมแมคอินทอชประสบความสำเร็จอะไรอีกบ้าง\\n&lt;bot&gt;: ทั้งสองทีมได้แชมป์ระดับรัฐในฤดูกาลเดียวกันสี่ครั้ง (1992, 2000, 2014 และ 2017)</td>\n",
       "      <td>501</td>\n",
       "      <td>{'source': 'infil_dbpedia'}</td>\n",
       "      <td>&lt;context&gt;: McIntosh High School เป็นโรงเรียนรัฐบาลระดับมัธยมศึกษาแบบครอบคลุมระยะเวลาสี่ปีที่ตั้งอยู่ในเมืองพีชทรีซิตี้ รัฐจอร์เจีย ประเทศสหรัฐอเมริกา ในนครแอตแลนตา ในปี 2559 มีนักเรียน 1,684 คนเข้าเรียนในเกรดเก้าถึงสิบสอง โรงเรียนซึ่งปกครองโดย Fayette County School System ได้รับการขนานนามว่าเป็น Georgia School of Excellence ในปี 2544 ในปี 2550 ได้รับการขนานนามว่าเป็น National Blue Ribbon School of Excellence\\n&lt;human&gt;: มีแง่มุมอื่นๆ ที่น่าสนใจเกี่ยวกับบทความนี้เกี่ยวกับโรงเรียนมัธยมแมคอินทอชไหม\\n&lt;bot&gt;:</td>\n",
       "    </tr>\n",
       "    <tr>\n",
       "      <th>62552</th>\n",
       "      <td>&lt;human&gt;: ระบบโรงเรียนของอังกฤษทำงานอย่างไรกับชาวอเมริกัน ฉันเคยอ่านเจอผู้คนมากมายที่พยายามจะอธิบาย แต่ฉันไม่เข้าใจเลย ขอบคุณ :) โปรดอธิบายเหมือนฉันอายุห้าขวบ\\n&lt;bot&gt;: เริ่มเรียนชั้นประถมศึกษาตอนอายุสี่หรือห้าขวบ เข้าสู่ปีที่เรียกว่า \" การรับเลี้ยง \" ปีถัดไปเรียกว่าปี 1 และคุณอยู่ที่โรงเรียนเดิมจนจบปี 6 ปี 1 และ 2 รวมกันเรียกว่า Key Stage 1 และจบลงด้วยการทดสอบมาตรฐาน (SAT) ปี 3 - 6 เป็น Key Stage 2 และจบลงด้วย SAT อีกครั้ง จากนั้นคุณจะถูกรับเข้าเรียนในโรงเรียนมัธยม ที่นี่ปีจะถูกระบุว่าเป็นปีที่ 7 ถึงปีที่ 11 ปี 7 - 9 เป็น Key Stage 3 และจบลงด้วย...yup, SATs หลักสูตรสำหรับช่วงสำคัญสามช่วงแรกจะเหมือนกันทั่วประเทศ แต่สำหรับช่วงหลักที่ 4 (Years 10 และ 11) นักเรียนสามารถเลือกได้ว่าจะเลือกเรียนวิชาใด แม้ว่าจะเป็นวิชาหลัก (อังกฤษ คณิตศาสตร์ วิทยาศาสตร์ ฯลฯ ) ) ยังคงเป็นภาคบังคับ KS4 ลงท้ายด้วยการสอบ GCSE ดังนั้นปีเหล่านี้บางครั้งเรียกว่าปี GCSE สำหรับการอ้างอิง นักเรียนจะอายุประมาณ 16 ปีเมื่อจบ GCSEs มีตัวเลือกที่แตกต่างกันเล็กน้อยที่นักเรียนสามารถเลือกได้จากที่นี่ หากคุณต้องการเรียนวิชาการแบบดั้งเดิมต่อไป คุณต้องสมัครเรียนที่ Sixth Form College (ชื่อ \" Sixth Form \" มีความหมายตามประวัติศาสตร์) ซึ่งเป็นปีที่ 12 และ 13 สิ่งที่ต้องทำโดยทั่วไปคือการศึกษาเพื่อรับวุฒิการศึกษาสำหรับ A Levels; โดยปกติคุณจะเรียน 3 - 4 วิชา ก่อนหน้านี้ การจบ GCSE ของคุณเมื่ออายุ 16 ปีถือเป็นการสิ้นสุดการศึกษาภาคบังคับ ตอนนี้อายุ 18 แล้ว จากนั้นขึ้นอยู่กับผลการเรียน A Level ของคุณ คุณสามารถเลือกสมัครเข้ามหาวิทยาลัย (หรือวิทยาลัย เพื่อใช้คำที่เทียบเท่ากับอเมริกา) จากนั้นเพื่อเชื่อมโยงทั้งหมดนี้เข้ากับ Harry Potter ฮอกวอตส์เป็นโรงเรียนมัธยม OWL ~= GCSE, A Level ~= NEWT และไม่มีมหาวิทยาลัยเวทมนตร์</td>\n",
       "      <td>405</td>\n",
       "      <td>{'source': 'unified_hc3_human'}</td>\n",
       "      <td>&lt;human&gt;: ระบบโรงเรียนของอังกฤษทำงานอย่างไรกับชาวอเมริกัน ฉันเคยอ่านเจอผู้คนมากมายที่พยายามจะอธิบาย แต่ฉันไม่เข้าใจเลย ขอบคุณ :) โปรดอธิบายเหมือนฉันอายุห้าขวบ\\n&lt;bot&gt;:</td>\n",
       "    </tr>\n",
       "    <tr>\n",
       "      <th>145799</th>\n",
       "      <td>&lt;context&gt;: แม่น้ำยอร์กเป็นลำธารยาว 13 ไมล์ (21 กม.) ทางตะวันออกเฉียงใต้ของรัฐเมน สหรัฐอเมริกา เป็นน้ำขึ้นน้ำลงกว่าครึ่งหนึ่งของความยาว มันขึ้นที่ York Pond ใน Eliot และเชื่อมต่อกับลำธารและลำธาร ป้อนส่วนน้ำขึ้นน้ำลง แม่น้ำยอร์คไหลไปทางตะวันออกเฉียงใต้สู่มหาสมุทรแอตแลนติกที่ท่าเรือยอร์คในเมืองยอร์ค\\nชื่อ Abenaki สำหรับแม่น้ำยอร์กคือ Agamenticus ซึ่งแปลว่า \\\"นอกเหนือหุบเขาเล็ก ๆ น้อย ๆ\\\" อ้างอิงจากส Eben Norton Horsford, Agamenticus \\\"อธิบายที่ตั้งของปากแม่น้ำลิตเติลยอร์กแห่งหนึ่งที่เข้าใกล้จากทางเหนือ ขณะที่มันอยู่ด้านหลังเนินเขาที่ชาวอินเดียนแดงเรียก \\\"แซสซาโนวส์\\\" (อากาเมนติคัสสมัยใหม่) ลิตเติลยอร์ค แม่น้ำ ซึ่งเป็นแม่น้ำสายสั้นๆ คือ \\\"เลยอ่าวน้อยออกไป\\\"\\n&lt;human&gt;: อะไรคือความแตกต่างระหว่างแม่น้ำยอร์คตอนบนและตอนล่าง?\\n&lt;bot&gt;: แม่น้ำยอร์ก แม่น้ำยอร์กหมายถึง:</td>\n",
       "      <td>245</td>\n",
       "      <td>{'source': 'infil_dbpedia'}</td>\n",
       "      <td>&lt;context&gt;: แม่น้ำยอร์กเป็นลำธารยาว 13 ไมล์ (21 กม.) ทางตะวันออกเฉียงใต้ของรัฐเมน สหรัฐอเมริกา เป็นน้ำขึ้นน้ำลงกว่าครึ่งหนึ่งของความยาว มันขึ้นที่ York Pond ใน Eliot และเชื่อมต่อกับลำธารและลำธาร ป้อนส่วนน้ำขึ้นน้ำลง แม่น้ำยอร์คไหลไปทางตะวันออกเฉียงใต้สู่มหาสมุทรแอตแลนติกที่ท่าเรือยอร์คในเมืองยอร์ค\\nชื่อ Abenaki สำหรับแม่น้ำยอร์กคือ Agamenticus ซึ่งแปลว่า \\\"นอกเหนือหุบเขาเล็ก ๆ น้อย ๆ\\\" อ้างอิงจากส Eben Norton Horsford, Agamenticus \\\"อธิบายที่ตั้งของปากแม่น้ำลิตเติลยอร์กแห่งหนึ่งที่เข้าใกล้จากทางเหนือ ขณะที่มันอยู่ด้านหลังเนินเขาที่ชาวอินเดียนแดงเรียก \\\"แซสซาโนวส์\\\" (อากาเมนติคัสสมัยใหม่) ลิตเติลยอร์ค แม่น้ำ ซึ่งเป็นแม่น้ำสายสั้นๆ คือ \\\"เลยอ่าวน้อยออกไป\\\"\\n&lt;human&gt;: อะไรคือความแตกต่างระหว่างแม่น้ำยอร์คตอนบนและตอนล่าง?\\n&lt;bot&gt;:</td>\n",
       "    </tr>\n",
       "    <tr>\n",
       "      <th>99360</th>\n",
       "      <td>&lt;context&gt;: การปิดล้อมป้อมปราการ Kållandsö เกิดขึ้นในช่วงฤดูหนาวในปี ค.ศ. 1099 โดยกษัตริย์ Inge Stenkilsson แห่งสวีเดน นี่เป็นการโต้ตอบครั้งแรกของ Inge ต่อกษัตริย์ Magnus Barefoot แห่งนอร์เวย์ ซึ่งเคยรุกราน Västergötaland เมื่อหนึ่งหรือสองปีก่อนหน้านี้ โดยหวังว่าจะขยายพรมแดนนอร์เวย์ลงไปจนถึง Götaälv การต่อสู้นั้นมีอยู่อย่างครบถ้วนโดย Snorri Sturlason ในผลงานของเขา Heimskringla\\n&lt;human&gt;: ให้หนึ่งประโยคเกี่ยวกับการปิดล้อมป้อม Kållandsö\\n&lt;bot&gt;: การปิดล้อมป้อมปราการ Kållandsö เกิดขึ้นในช่วงฤดูหนาวในปี ค.ศ. 1099 โดยกษัตริย์ Inge Stenkilsson แห่งสวีเดน\\n&lt;human&gt;: เกิดอะไรขึ้นระหว่างการปิดล้อมป้อม K ⁇ llandsö?\\n&lt;bot&gt;: การปิดล้อมป้อม Kållandsö การปิดล้อมป้อมปราการ Kållandsö เกิดขึ้นในช่วงฤดูหนาวในปี ค.ศ. 1099 โดยกษัตริย์ Inge Stenkilsson แห่งสวีเดน\\n&lt;human&gt;: ทำไมมันถึงเกิดขึ้น?\\n&lt;bot&gt;: เป็นการตอบสนองครั้งแรกของ Inge ต่อกษัตริย์ Magnus Barefoot แห่งนอร์เวย์ ซึ่งเมื่อหนึ่งหรือสองปีก่อนหน้านี้ได้รุกราน Västergötaland โดยหวังว่าจะขยายพรมแดนนอร์เวย์ลงไปจนถึง Götaälv\\n&lt;human&gt;: ดำเนินการต่อ\\n&lt;bot&gt;: การต่อสู้นี้อธิบายไว้อย่างครบถ้วนโดย Snorri Sturlason ในผลงานของเขา \"Heimskringla\"\\n&lt;human&gt;: ใครคือผู้นำของนอร์เวย์ในตอนนั้น?\\n&lt;bot&gt;: Magnus Barefoot หลายปีก่อนปี 1099 ได้ขยายอิทธิพลของนอร์เวย์ไปทั่วทะเลไอริช\\n&lt;human&gt;: เขาทำอะไรหลังจากขยายอิทธิพล?\\n&lt;bot&gt;: จนกระทั่งปลายฤดูร้อนในปี 1099 ในที่สุดเขาก็กลับมาที่นอร์เวย์\\n&lt;human&gt;: เขาทำอะไรเมื่อเขากลับมาที่นอร์เวย์?\\n&lt;bot&gt;: แรงจูงใจของเขาเปลี่ยนไปและเขาตัดสินใจมุ่งหน้าไปทางตะวันออก ด้วยแนวคิดที่จะขยายพรมแดนนอร์เวย์ลงไปจนถึง Götaälv ซึ่งเคยเป็นพรมแดนโบราณระหว่างนอร์เวย์และVästergötaland (ซึ่งปัจจุบันเป็นดินแดนของสวีเดน)</td>\n",
       "      <td>498</td>\n",
       "      <td>{'source': 'infil_dbpedia'}</td>\n",
       "      <td>&lt;context&gt;: การปิดล้อมป้อมปราการ Kållandsö เกิดขึ้นในช่วงฤดูหนาวในปี ค.ศ. 1099 โดยกษัตริย์ Inge Stenkilsson แห่งสวีเดน นี่เป็นการโต้ตอบครั้งแรกของ Inge ต่อกษัตริย์ Magnus Barefoot แห่งนอร์เวย์ ซึ่งเคยรุกราน Västergötaland เมื่อหนึ่งหรือสองปีก่อนหน้านี้ โดยหวังว่าจะขยายพรมแดนนอร์เวย์ลงไปจนถึง Götaälv การต่อสู้นั้นมีอยู่อย่างครบถ้วนโดย Snorri Sturlason ในผลงานของเขา Heimskringla\\n&lt;human&gt;: ให้หนึ่งประโยคเกี่ยวกับการปิดล้อมป้อม Kållandsö\\n&lt;bot&gt;:</td>\n",
       "    </tr>\n",
       "    <tr>\n",
       "      <th>121500</th>\n",
       "      <td>&lt;context&gt;: Vidushi Sumitra Guha เป็นนักร้องเสียงคลาสสิกชาวอินเดีย ซึ่งเป็นที่รู้จักจากความเชี่ยวชาญของเธอในโรงเรียนดนตรีคลาสสิก Carnatic และ Hindustani รัฐบาลอินเดียยกย่องเธอในปี 2010 ด้วยรางวัลพลเรือนสูงสุดอันดับสี่ของ Padma Shri\\n&lt;human&gt;: สุมิตรา กูฮาคือใคร?\\n&lt;bot&gt;: สุมิตรา กูฮา วิดูชิ สุมิตรา กูฮาเป็นนักร้องเสียงคลาสสิกชาวอินเดีย ซึ่งเป็นที่รู้จักจากความเชี่ยวชาญในโรงเรียนดนตรีคลาสสิกของนาติกและฮินดูสถาน\\n&lt;human&gt;: เธอได้รับรางวัลอะไรบ้าง?\\n&lt;bot&gt;: รัฐบาลอินเดียยกย่องเธอในปี 2010 ด้วยรางวัลพลเรือนสูงสุดอันดับสี่ของ Padma Shri\\n&lt;human&gt;: ขออีก\\n&lt;bot&gt;: สุมิตรา กูฮา, née Raju เกิดในรัฐอานธรประเทศกับ Smt. นักร้องที่เป็นที่รู้จักในท้องถิ่น\\n&lt;human&gt;: พ่อแม่ของเธอคือใคร?\\n&lt;bot&gt;: Rajyalakshmi Raju และ R. G. Narayana Raju รองนักสะสมที่เกษียณแล้ว ชาว Tirumala Reddypalle, Chitoor Dist.\\n&lt;human&gt;: เธอมีพี่น้องบ้างไหม?\\n&lt;bot&gt;: น้องสาวของเธอเป็นนักร้องนาติคผู้โด่งดังและเป็นตัวแทนของ sankirtana of gospel ของ Annamacharya, Smt. นักแต่งเพลงนักบุญแห่งศตวรรษที่ 15\\n&lt;human&gt;: มีสมาชิกในครอบครัวคนไหนอีกบ้าง?\\n&lt;bot&gt;: Shobha Raju และหลานชายของเธอคือ Sreyash Sarkar กวีที่ได้รับการตีพิมพ์ในระดับนานาชาติ</td>\n",
       "      <td>342</td>\n",
       "      <td>{'source': 'infil_dbpedia'}</td>\n",
       "      <td>&lt;context&gt;: Vidushi Sumitra Guha เป็นนักร้องเสียงคลาสสิกชาวอินเดีย ซึ่งเป็นที่รู้จักจากความเชี่ยวชาญของเธอในโรงเรียนดนตรีคลาสสิก Carnatic และ Hindustani รัฐบาลอินเดียยกย่องเธอในปี 2010 ด้วยรางวัลพลเรือนสูงสุดอันดับสี่ของ Padma Shri\\n&lt;human&gt;: สุมิตรา กูฮาคือใคร?\\n&lt;bot&gt;:</td>\n",
       "    </tr>\n",
       "  </tbody>\n",
       "</table>\n",
       "</div>"
      ],
      "text/plain": [
       "                                                                                                                                                                                                                                                                                                                                                                                                                                                                                                                                                                                                                                                                                                                                                                                                                                                                                                                                                                                                                                                                                                                                                                                                                                                                                                                                                                                                                                                                                                                                                                                                                                                                                                                                                                                                                                                                                                        text  \\\n",
       "90397   <human>: เขียนบทความเกี่ยวกับ Lac Lamothe Water Aerodrome (TC LID, Lac La Mothe, อภิปรายในรายละเอียด Mothe 1.3 ไมล์ทะเล, สิ้นเดือนกันยายนในหนึ่งย่อหน้า)\\n<bot>: Lac Lamothe Water Aerodrome (TC LID: CLL3) ตั้งอยู่บน Lac La Mothe 1.3 ไมล์ทะเล (2.4 กม.; 1.5 ไมล์) ทางเหนือของ ควิเบก ประเทศแคนาดา เปิดให้บริการตั้งแต่ปลายเดือนพฤษภาคมถึงสิ้นเดือนกันยายน\\n<human>: สนามบินน้ำ Lac Lamothe เป็นที่รู้จักอย่างไร?\\n<bot>: สนามบินน้ำ Lac Lamothe สนามบินน้ำ Lac Lamothe ตั้งอยู่บน Lac La Mothe ทางตอนเหนือของ Chute-des-Georges รัฐควิเบก ประเทศแคนาดา และเปิดให้บริการตั้งแต่ปลายเดือนพฤษภาคมถึงสิ้นเดือนกันยายน                                                                                                                                                                                                                                                                                                                                                                                                                                                                                                                                                                                                                                                                                                                                                                                                                                                                                                                                                                                                                                                                                                                                                                                                                                                                                   \n",
       "132419  <context>: ภูเขาไฟ Didicas เป็นเกาะภูเขาไฟที่ยังไม่ดับในจังหวัด Cagayan ทางตอนเหนือของฟิลิปปินส์ เกาะแห่งนี้เคยเป็นภูเขาไฟใต้น้ำและโผล่ขึ้นมาอีกครั้งจากทะเลในปี 1952 อยู่ห่างจากเกาะ Camiguin ทางตะวันออกเฉียงเหนือ 22 กิโลเมตร ซึ่งเป็นหนึ่งในเกาะ Babuyan ในช่องแคบลูซอน ก่อนปี 1952 ภูเขาไฟระเบิดพื้นผิวมหาสมุทรครั้งแรกในปี 1857\\n<human>: อะไรคือความแตกต่างระหว่างภูเขาไฟ Didicas และภูเขาไฟอื่นๆ?\\n<bot>: ภูเขาไฟ Didicas ภูเขาไฟ Didicas เป็นเกาะภูเขาไฟที่ยังคุกรุ่นอยู่ในจังหวัด Cagayan ทางตอนเหนือของฟิลิปปินส์\\n<human>: มันอยู่ที่ไหน?\\n<bot>: เกาะนี้เคยเป็นภูเขาไฟใต้ทะเลและโผล่ขึ้นมาอีกครั้งจากทะเลในปี 1952 อยู่ทางตะวันออกเฉียงเหนือของเกาะ Camiguin ซึ่งเป็นหนึ่งในเกาะ Babuyan ในช่องแคบลูซอน\\n<human>: มันปะทุครั้งสุดท้ายเมื่อไหร่?\\n<bot>: ก่อนปี 1952 ภูเขาไฟระเบิดพื้นผิวมหาสมุทรครั้งแรกในปี 1857\\n<human>: มีข้อมูลอื่นที่น่าสนใจอีกไหม?\\n<bot>: Didicas ราดด้วยโดมลาวาที่มีระดับความสูงและเส้นผ่านศูนย์กลางฐานที่ระดับน้ำทะเล\\n<human>: เป็นส่วนหนึ่งของวงแหวนแห่งไฟแปซิฟิกหรือไม่?\\n<bot>: อยู่ทางตอนใต้สุดของแนวภูเขาไฟลูซอน และเช่นเดียวกับภูเขาไฟทุกลูกในฟิลิปปินส์ เป็นส่วนหนึ่งของวงแหวนแห่งไฟในมหาสมุทรแปซิฟิก\\n<human>: มีข้อมูลอื่นที่น่าสนใจอีกไหม?\\n<bot>: มีการบันทึกการปะทุครั้งประวัติศาสตร์จากภูเขาไฟ 6 ครั้งตั้งแต่ศตวรรษที่ 18                                                                                                                                                                                                                                                                                                                                                                                                                                                                                                                                                                                                                         \n",
       "49527   <human>: เงินกู้ที่มีอัตราดอกเบี้ยผันแปรเป็นความคิดที่ดีหรือไม่?\\n<bot>: สิ่งที่เกิดขึ้นคือเงินกู้อัตราผันแปรกำลังโอนความเสี่ยงบางส่วนจากธนาคารมาให้คุณ ในข้อตกลงที่สมเหตุสมผล การเสี่ยงจะนำมาซึ่งรางวัล เป็นแบบเดียวกับการหักลดหย่อนในการประกัน - พวกเขากำลังโอนความเสี่ยงบางอย่างมาให้คุณและทำให้ค่าใช้จ่ายทั้งหมดที่คุณคาดไว้ลดลง ดังนั้นการประเมินที่เหมาะสมของข้อตกลงดังกล่าวคือว่าคุณสามารถจ่ายผลได้หรือไม่หากคุณวาดฟางสั้น หากคุณรู้สึกว่าคุณสามารถจ่ายเงินสูงสุดที่สามารถจ่ายได้ อัตราผันแปรก็เป็นข้อตกลงที่ดี หากคุณใกล้ถึงขีดจำกัดแล้ว ให้เลือกใช้ตัวเลือกที่ปลอดภัยในอัตราคงที่ สำหรับบ้าน วิธีนี้ง่ายพอที่จะประเมิน - เรียกใช้การคำนวณโดยสมมติว่ามีการชำระเงินสูงสุดและดูว่าอัตราส่วนหนี้สินต่อรายได้เป็นอย่างไร โปรดทราบว่าเมื่อเราได้รับการจำนอง มีปัจจัยอื่นที่เกี่ยวข้อง: สินเชื่อที่มีอัตราดอกเบี้ยผันแปรมีต้นทุนการเริ่มต้นที่สูงกว่า เมื่อรวมกับความแตกต่างที่ต่ำมากระหว่างอัตราคงที่และอัตรา ARM ณ เวลาที่เราคงที่ แต่เนื่องจากอัตราที่คุณอ้างถึงแบบแปรผันคงไม่ใช่เรื่องง่ายๆ สำหรับเรา                                                                                                                                                                                                                                                                                                                                                                                                                                                                                                                                                                                                                                                                                                                                                                                                                                                                                            \n",
       "41022   <human>: ทำไมจึงใช้ไข่ขาวดิบทำหางไก่ได้โดยไม่เสี่ยงต่ออาหารเป็นพิษ? เห็นสิ่งนี้ทำในสารคดีที่ฉันกำลังดูอยู่ งงมากกับวิธีการทำงาน อธิบายเหมือนฉันอายุห้าขวบ\\n<bot>: ทั้งหมดนี้เป็นความรู้ที่ดีที่สุดของฉัน เนื่องจากแอลกอฮอล์จะฆ่าเชื้อโรค ที่มา: ทำ eggnog ตั้งแต่เริ่มต้นเป็นเวลาห้าปี แก้ไข...เชื้อโรคไม่ใช่ของเยอรมัน 5555555555555555                                                                                                                                                                                                                                                                                                                                                                                                                                                                                                                                                                                                                                                                                                                                                                                                                                                                                                                                                                                                                                                                                                                                                                                                                                                                                                                                                                                                                                                                                                                                                               \n",
       "103576  <context>: ทีมบาสเก็ตบอลชายไอโอวาฮอว์คอายส์ปี 1967–68 เป็นตัวแทนของมหาวิทยาลัยไอโอวาในบาสเก็ตบอลระหว่างมหาวิทยาลัยระหว่างฤดูกาล 1967–68 ทีมนี้นำโดย Ralph Miller และเล่นเกมเหย้าของพวกเขาที่ Iowa Field House ฮอว์คอายส์จบฤดูกาลที่ 16–9 และเป็นแชมป์ร่วมของบิ๊กเท็นด้วยสถิติการประชุม 10-4 แซม วิลเลียมส์ ผู้พิทักษ์อาวุโสได้รับเลือกให้เป็นผู้เล่นบิ๊กเท็นแห่งปีหลังจากอายุเฉลี่ย 25 ปี\\n3 แต้มต่อเกมและ 10.9 รีบาวด์ต่อเกม ต้องใช้เวลาอีก 52 ปีก่อนที่นักบาสเก็ตบอลชายจากไอโอวาอีกคนจะคว้ารางวัลกลับบ้านไป\\n<human>: ทีมบาสเก็ตบอลชายของไอโอวา ฮอว์คอายส์ในปี 1967–68 คืออะไร\\n<bot>: ทีมบาสเก็ตบอลชายไอโอวาฮอว์คอายส์ พ.ศ. 2510–68 ทีมบาสเก็ตบอลชายไอโอวาฮอว์คอายส์ พ.ศ. 2510–68 เป็นตัวแทนของมหาวิทยาลัยไอโอวาในการแข่งขันบาสเก็ตบอลระหว่างมหาวิทยาลัยระหว่างฤดูกาล พ.ศ. 2510–68\\n<human>: ใครอยู่ในทีมบ้าง?\\n<bot>: ทีมนี้นำโดย Ralph Miller และเล่นเกมเหย้าของพวกเขาที่ Iowa Field House\\n<human>: พวกเขาชนะเกมบ้างไหม?\\n<bot>: The Hawkeyes จบฤดูกาลที่ 16–9 และเป็นแชมป์ร่วมของ Big Ten ด้วยสถิติการประชุม 10-4\\n<human>: พวกเขามีความสูญเสียที่น่าสังเกตหรือไม่?\\n<bot>: ผู้พิทักษ์อาวุโส แซม วิลเลียมส์ ได้รับการเสนอชื่อให้เป็นผู้เล่นบิ๊กเท็นแห่งปีหลังจากทำแต้มเฉลี่ย 25.3 แต้มต่อเกมและ 10.9 รีบาวน์ต่อเกม\\n<human>: พวกเขาได้รับรางวัลอะไรไหม?\\n<bot>: จนถึงปัจจุบัน เขาเป็นผู้ชนะคนสุดท้ายของรางวัลสำหรับทีมบาสเก็ตบอลชายของรัฐไอโอวา ! คอลสแปน=8| ฤดูกาลปกติ ! คอลสแปน=8| เกมเพลย์ออฟบิ๊กเท็น                                                                                                                                                                                                                                                                                                                                                                                                                                                                                        \n",
       "105630  <context>: McIntosh High School เป็นโรงเรียนรัฐบาลระดับมัธยมศึกษาแบบครอบคลุมระยะเวลาสี่ปีที่ตั้งอยู่ในเมืองพีชทรีซิตี้ รัฐจอร์เจีย ประเทศสหรัฐอเมริกา ในนครแอตแลนตา ในปี 2559 มีนักเรียน 1,684 คนเข้าเรียนในเกรดเก้าถึงสิบสอง โรงเรียนซึ่งปกครองโดย Fayette County School System ได้รับการขนานนามว่าเป็น Georgia School of Excellence ในปี 2544 ในปี 2550 ได้รับการขนานนามว่าเป็น National Blue Ribbon School of Excellence\\n<human>: มีแง่มุมอื่นๆ ที่น่าสนใจเกี่ยวกับบทความนี้เกี่ยวกับโรงเรียนมัธยมแมคอินทอชไหม\\n<bot>: ได้รับ 44 รัฐประชันในกรีฑาตั้งแต่ปี 1981\\n<human>: โรงเรียนมัธยม McIntosh ได้รับรางวัลอะไรอีกบ้าง\\n<bot>: ได้รับการรับรองโดย Southern Association of Colleges and Schools McIntosh อยู่ในรายชื่อโรงเรียนมัธยมของสหรัฐอเมริกาในปี 2550, 2551, 2552 และ 2553 ใน 1300 อันดับแรกของนิตยสาร \"Newsweek\" โดยอยู่ใน 5% อันดับแรกของโรงเรียนมัธยมทั้งหมดทั่วประเทศ แมคอินทอชมีโปรแกรมกีฬาในฟุตบอล (2013, 2014 และ 2017 AAAAA State Champion), วอลเลย์บอล (2007, 2013 และ 2017 AAAAA State Champion), เต้นรำ (2006, 2010, 2011, 2012, 2013, 2014, 2015, 2016 และ 2017 State Champion) และครอสคันทรี (1996, 2005, 2012, ทั้งชายและหญิง 2017 State Champion)\\n<human>: โรงเรียนมัธยม McIntosh ได้รับรางวัลอะไรอีกบ้าง\\n<bot>: เทนนิสชายได้รองชนะเลิศระดับรัฐสองครั้งในปี 2551 และ 2553 และเป็นแชมป์ดิวิชั่นสี่ปีซ้อน\\n<human>: โรงเรียนแมคอินทอชไฮสคูลได้รับตำแหน่งอะไรอีกบ้าง\\n<bot>: ฟุตบอลชายคว้าแชมป์ระดับชาติ 2 รายการ แชมป์ระดับรัฐ 6 รายการ และรองแชมป์ระดับรัฐ 6 สมัย\\n<human>: โรงเรียนมัธยม McIntosh ได้รับรางวัลหรือตำแหน่งอื่นๆ หรือไม่?\\n<bot>: ฟุตบอลหญิงชนะการแข่งขันระดับรัฐถึง 11 ครั้ง รวมถึงในปี 1994 โดยเอาชนะคู่แข่งอย่าง Fayette County ในปี 1995 (ด้วยสถิติรวม 19-0) และในปี 2016 เอาชนะ Columbus 4-0\\n<human>: นักกีฬาโรงเรียนมัธยมแมคอินทอชประสบความสำเร็จอะไรอีกบ้าง\\n<bot>: ทั้งสองทีมได้แชมป์ระดับรัฐในฤดูกาลเดียวกันสี่ครั้ง (1992, 2000, 2014 และ 2017)   \n",
       "62552   <human>: ระบบโรงเรียนของอังกฤษทำงานอย่างไรกับชาวอเมริกัน ฉันเคยอ่านเจอผู้คนมากมายที่พยายามจะอธิบาย แต่ฉันไม่เข้าใจเลย ขอบคุณ :) โปรดอธิบายเหมือนฉันอายุห้าขวบ\\n<bot>: เริ่มเรียนชั้นประถมศึกษาตอนอายุสี่หรือห้าขวบ เข้าสู่ปีที่เรียกว่า \" การรับเลี้ยง \" ปีถัดไปเรียกว่าปี 1 และคุณอยู่ที่โรงเรียนเดิมจนจบปี 6 ปี 1 และ 2 รวมกันเรียกว่า Key Stage 1 และจบลงด้วยการทดสอบมาตรฐาน (SAT) ปี 3 - 6 เป็น Key Stage 2 และจบลงด้วย SAT อีกครั้ง จากนั้นคุณจะถูกรับเข้าเรียนในโรงเรียนมัธยม ที่นี่ปีจะถูกระบุว่าเป็นปีที่ 7 ถึงปีที่ 11 ปี 7 - 9 เป็น Key Stage 3 และจบลงด้วย...yup, SATs หลักสูตรสำหรับช่วงสำคัญสามช่วงแรกจะเหมือนกันทั่วประเทศ แต่สำหรับช่วงหลักที่ 4 (Years 10 และ 11) นักเรียนสามารถเลือกได้ว่าจะเลือกเรียนวิชาใด แม้ว่าจะเป็นวิชาหลัก (อังกฤษ คณิตศาสตร์ วิทยาศาสตร์ ฯลฯ ) ) ยังคงเป็นภาคบังคับ KS4 ลงท้ายด้วยการสอบ GCSE ดังนั้นปีเหล่านี้บางครั้งเรียกว่าปี GCSE สำหรับการอ้างอิง นักเรียนจะอายุประมาณ 16 ปีเมื่อจบ GCSEs มีตัวเลือกที่แตกต่างกันเล็กน้อยที่นักเรียนสามารถเลือกได้จากที่นี่ หากคุณต้องการเรียนวิชาการแบบดั้งเดิมต่อไป คุณต้องสมัครเรียนที่ Sixth Form College (ชื่อ \" Sixth Form \" มีความหมายตามประวัติศาสตร์) ซึ่งเป็นปีที่ 12 และ 13 สิ่งที่ต้องทำโดยทั่วไปคือการศึกษาเพื่อรับวุฒิการศึกษาสำหรับ A Levels; โดยปกติคุณจะเรียน 3 - 4 วิชา ก่อนหน้านี้ การจบ GCSE ของคุณเมื่ออายุ 16 ปีถือเป็นการสิ้นสุดการศึกษาภาคบังคับ ตอนนี้อายุ 18 แล้ว จากนั้นขึ้นอยู่กับผลการเรียน A Level ของคุณ คุณสามารถเลือกสมัครเข้ามหาวิทยาลัย (หรือวิทยาลัย เพื่อใช้คำที่เทียบเท่ากับอเมริกา) จากนั้นเพื่อเชื่อมโยงทั้งหมดนี้เข้ากับ Harry Potter ฮอกวอตส์เป็นโรงเรียนมัธยม OWL ~= GCSE, A Level ~= NEWT และไม่มีมหาวิทยาลัยเวทมนตร์                                                                                                                                                                                                                                                       \n",
       "145799  <context>: แม่น้ำยอร์กเป็นลำธารยาว 13 ไมล์ (21 กม.) ทางตะวันออกเฉียงใต้ของรัฐเมน สหรัฐอเมริกา เป็นน้ำขึ้นน้ำลงกว่าครึ่งหนึ่งของความยาว มันขึ้นที่ York Pond ใน Eliot และเชื่อมต่อกับลำธารและลำธาร ป้อนส่วนน้ำขึ้นน้ำลง แม่น้ำยอร์คไหลไปทางตะวันออกเฉียงใต้สู่มหาสมุทรแอตแลนติกที่ท่าเรือยอร์คในเมืองยอร์ค\\nชื่อ Abenaki สำหรับแม่น้ำยอร์กคือ Agamenticus ซึ่งแปลว่า \\\"นอกเหนือหุบเขาเล็ก ๆ น้อย ๆ\\\" อ้างอิงจากส Eben Norton Horsford, Agamenticus \\\"อธิบายที่ตั้งของปากแม่น้ำลิตเติลยอร์กแห่งหนึ่งที่เข้าใกล้จากทางเหนือ ขณะที่มันอยู่ด้านหลังเนินเขาที่ชาวอินเดียนแดงเรียก \\\"แซสซาโนวส์\\\" (อากาเมนติคัสสมัยใหม่) ลิตเติลยอร์ค แม่น้ำ ซึ่งเป็นแม่น้ำสายสั้นๆ คือ \\\"เลยอ่าวน้อยออกไป\\\"\\n<human>: อะไรคือความแตกต่างระหว่างแม่น้ำยอร์คตอนบนและตอนล่าง?\\n<bot>: แม่น้ำยอร์ก แม่น้ำยอร์กหมายถึง:                                                                                                                                                                                                                                                                                                                                                                                                                                                                                                                                                                                                                                                                                                                                                                                                                                                                                                                                                                                                                                                                                                           \n",
       "99360   <context>: การปิดล้อมป้อมปราการ Kållandsö เกิดขึ้นในช่วงฤดูหนาวในปี ค.ศ. 1099 โดยกษัตริย์ Inge Stenkilsson แห่งสวีเดน นี่เป็นการโต้ตอบครั้งแรกของ Inge ต่อกษัตริย์ Magnus Barefoot แห่งนอร์เวย์ ซึ่งเคยรุกราน Västergötaland เมื่อหนึ่งหรือสองปีก่อนหน้านี้ โดยหวังว่าจะขยายพรมแดนนอร์เวย์ลงไปจนถึง Götaälv การต่อสู้นั้นมีอยู่อย่างครบถ้วนโดย Snorri Sturlason ในผลงานของเขา Heimskringla\\n<human>: ให้หนึ่งประโยคเกี่ยวกับการปิดล้อมป้อม Kållandsö\\n<bot>: การปิดล้อมป้อมปราการ Kållandsö เกิดขึ้นในช่วงฤดูหนาวในปี ค.ศ. 1099 โดยกษัตริย์ Inge Stenkilsson แห่งสวีเดน\\n<human>: เกิดอะไรขึ้นระหว่างการปิดล้อมป้อม K ⁇ llandsö?\\n<bot>: การปิดล้อมป้อม Kållandsö การปิดล้อมป้อมปราการ Kållandsö เกิดขึ้นในช่วงฤดูหนาวในปี ค.ศ. 1099 โดยกษัตริย์ Inge Stenkilsson แห่งสวีเดน\\n<human>: ทำไมมันถึงเกิดขึ้น?\\n<bot>: เป็นการตอบสนองครั้งแรกของ Inge ต่อกษัตริย์ Magnus Barefoot แห่งนอร์เวย์ ซึ่งเมื่อหนึ่งหรือสองปีก่อนหน้านี้ได้รุกราน Västergötaland โดยหวังว่าจะขยายพรมแดนนอร์เวย์ลงไปจนถึง Götaälv\\n<human>: ดำเนินการต่อ\\n<bot>: การต่อสู้นี้อธิบายไว้อย่างครบถ้วนโดย Snorri Sturlason ในผลงานของเขา \"Heimskringla\"\\n<human>: ใครคือผู้นำของนอร์เวย์ในตอนนั้น?\\n<bot>: Magnus Barefoot หลายปีก่อนปี 1099 ได้ขยายอิทธิพลของนอร์เวย์ไปทั่วทะเลไอริช\\n<human>: เขาทำอะไรหลังจากขยายอิทธิพล?\\n<bot>: จนกระทั่งปลายฤดูร้อนในปี 1099 ในที่สุดเขาก็กลับมาที่นอร์เวย์\\n<human>: เขาทำอะไรเมื่อเขากลับมาที่นอร์เวย์?\\n<bot>: แรงจูงใจของเขาเปลี่ยนไปและเขาตัดสินใจมุ่งหน้าไปทางตะวันออก ด้วยแนวคิดที่จะขยายพรมแดนนอร์เวย์ลงไปจนถึง Götaälv ซึ่งเคยเป็นพรมแดนโบราณระหว่างนอร์เวย์และVästergötaland (ซึ่งปัจจุบันเป็นดินแดนของสวีเดน)                                                                                                                                                                                                                                                                         \n",
       "121500  <context>: Vidushi Sumitra Guha เป็นนักร้องเสียงคลาสสิกชาวอินเดีย ซึ่งเป็นที่รู้จักจากความเชี่ยวชาญของเธอในโรงเรียนดนตรีคลาสสิก Carnatic และ Hindustani รัฐบาลอินเดียยกย่องเธอในปี 2010 ด้วยรางวัลพลเรือนสูงสุดอันดับสี่ของ Padma Shri\\n<human>: สุมิตรา กูฮาคือใคร?\\n<bot>: สุมิตรา กูฮา วิดูชิ สุมิตรา กูฮาเป็นนักร้องเสียงคลาสสิกชาวอินเดีย ซึ่งเป็นที่รู้จักจากความเชี่ยวชาญในโรงเรียนดนตรีคลาสสิกของนาติกและฮินดูสถาน\\n<human>: เธอได้รับรางวัลอะไรบ้าง?\\n<bot>: รัฐบาลอินเดียยกย่องเธอในปี 2010 ด้วยรางวัลพลเรือนสูงสุดอันดับสี่ของ Padma Shri\\n<human>: ขออีก\\n<bot>: สุมิตรา กูฮา, née Raju เกิดในรัฐอานธรประเทศกับ Smt. นักร้องที่เป็นที่รู้จักในท้องถิ่น\\n<human>: พ่อแม่ของเธอคือใคร?\\n<bot>: Rajyalakshmi Raju และ R. G. Narayana Raju รองนักสะสมที่เกษียณแล้ว ชาว Tirumala Reddypalle, Chitoor Dist.\\n<human>: เธอมีพี่น้องบ้างไหม?\\n<bot>: น้องสาวของเธอเป็นนักร้องนาติคผู้โด่งดังและเป็นตัวแทนของ sankirtana of gospel ของ Annamacharya, Smt. นักแต่งเพลงนักบุญแห่งศตวรรษที่ 15\\n<human>: มีสมาชิกในครอบครัวคนไหนอีกบ้าง?\\n<bot>: Shobha Raju และหลานชายของเธอคือ Sreyash Sarkar กวีที่ได้รับการตีพิมพ์ในระดับนานาชาติ                                                                                                                                                                                                                                                                                                                                                                                                                                                                                                                                                                                                                                                                                                                                                                  \n",
       "\n",
       "        nb_token                         metadata  \\\n",
       "90397   190       {'source': 'infil_dbpedia'}       \n",
       "132419  381       {'source': 'infil_dbpedia'}       \n",
       "49527   248       {'source': 'unified_hc3_human'}   \n",
       "41022   98        {'source': 'unified_hc3_human'}   \n",
       "103576  452       {'source': 'infil_dbpedia'}       \n",
       "105630  501       {'source': 'infil_dbpedia'}       \n",
       "62552   405       {'source': 'unified_hc3_human'}   \n",
       "145799  245       {'source': 'infil_dbpedia'}       \n",
       "99360   498       {'source': 'infil_dbpedia'}       \n",
       "121500  342       {'source': 'infil_dbpedia'}       \n",
       "\n",
       "                                                                                                                                                                                                                                                                                                                                                                                                                                                                                                                                                                                                                                                                                                                                                              prompt  \n",
       "90397   <human>: เขียนบทความเกี่ยวกับ Lac Lamothe Water Aerodrome (TC LID, Lac La Mothe, อภิปรายในรายละเอียด Mothe 1.3 ไมล์ทะเล, สิ้นเดือนกันยายนในหนึ่งย่อหน้า)\\n<bot>:                                                                                                                                                                                                                                                                                                                                                                                                                                                                                                                                                                                              \n",
       "132419  <context>: ภูเขาไฟ Didicas เป็นเกาะภูเขาไฟที่ยังไม่ดับในจังหวัด Cagayan ทางตอนเหนือของฟิลิปปินส์ เกาะแห่งนี้เคยเป็นภูเขาไฟใต้น้ำและโผล่ขึ้นมาอีกครั้งจากทะเลในปี 1952 อยู่ห่างจากเกาะ Camiguin ทางตะวันออกเฉียงเหนือ 22 กิโลเมตร ซึ่งเป็นหนึ่งในเกาะ Babuyan ในช่องแคบลูซอน ก่อนปี 1952 ภูเขาไฟระเบิดพื้นผิวมหาสมุทรครั้งแรกในปี 1857\\n<human>: อะไรคือความแตกต่างระหว่างภูเขาไฟ Didicas และภูเขาไฟอื่นๆ?\\n<bot>:                                                                                                                                                                                                                                                                                                                                             \n",
       "49527   <human>: เงินกู้ที่มีอัตราดอกเบี้ยผันแปรเป็นความคิดที่ดีหรือไม่?\\n<bot>:                                                                                                                                                                                                                                                                                                                                                                                                                                                                                                                                                                                                                                                                                      \n",
       "41022   <human>: ทำไมจึงใช้ไข่ขาวดิบทำหางไก่ได้โดยไม่เสี่ยงต่ออาหารเป็นพิษ? เห็นสิ่งนี้ทำในสารคดีที่ฉันกำลังดูอยู่ งงมากกับวิธีการทำงาน อธิบายเหมือนฉันอายุห้าขวบ\\n<bot>:                                                                                                                                                                                                                                                                                                                                                                                                                                                                                                                                                                                             \n",
       "103576  <context>: ทีมบาสเก็ตบอลชายไอโอวาฮอว์คอายส์ปี 1967–68 เป็นตัวแทนของมหาวิทยาลัยไอโอวาในบาสเก็ตบอลระหว่างมหาวิทยาลัยระหว่างฤดูกาล 1967–68 ทีมนี้นำโดย Ralph Miller และเล่นเกมเหย้าของพวกเขาที่ Iowa Field House ฮอว์คอายส์จบฤดูกาลที่ 16–9 และเป็นแชมป์ร่วมของบิ๊กเท็นด้วยสถิติการประชุม 10-4 แซม วิลเลียมส์ ผู้พิทักษ์อาวุโสได้รับเลือกให้เป็นผู้เล่นบิ๊กเท็นแห่งปีหลังจากอายุเฉลี่ย 25 ปี\\n3 แต้มต่อเกมและ 10.9 รีบาวด์ต่อเกม ต้องใช้เวลาอีก 52 ปีก่อนที่นักบาสเก็ตบอลชายจากไอโอวาอีกคนจะคว้ารางวัลกลับบ้านไป\\n<human>: ทีมบาสเก็ตบอลชายของไอโอวา ฮอว์คอายส์ในปี 1967–68 คืออะไร\\n<bot>:                                                                                                                                                                      \n",
       "105630  <context>: McIntosh High School เป็นโรงเรียนรัฐบาลระดับมัธยมศึกษาแบบครอบคลุมระยะเวลาสี่ปีที่ตั้งอยู่ในเมืองพีชทรีซิตี้ รัฐจอร์เจีย ประเทศสหรัฐอเมริกา ในนครแอตแลนตา ในปี 2559 มีนักเรียน 1,684 คนเข้าเรียนในเกรดเก้าถึงสิบสอง โรงเรียนซึ่งปกครองโดย Fayette County School System ได้รับการขนานนามว่าเป็น Georgia School of Excellence ในปี 2544 ในปี 2550 ได้รับการขนานนามว่าเป็น National Blue Ribbon School of Excellence\\n<human>: มีแง่มุมอื่นๆ ที่น่าสนใจเกี่ยวกับบทความนี้เกี่ยวกับโรงเรียนมัธยมแมคอินทอชไหม\\n<bot>:                                                                                                                                                                                                                                    \n",
       "62552   <human>: ระบบโรงเรียนของอังกฤษทำงานอย่างไรกับชาวอเมริกัน ฉันเคยอ่านเจอผู้คนมากมายที่พยายามจะอธิบาย แต่ฉันไม่เข้าใจเลย ขอบคุณ :) โปรดอธิบายเหมือนฉันอายุห้าขวบ\\n<bot>:                                                                                                                                                                                                                                                                                                                                                                                                                                                                                                                                                                                         \n",
       "145799  <context>: แม่น้ำยอร์กเป็นลำธารยาว 13 ไมล์ (21 กม.) ทางตะวันออกเฉียงใต้ของรัฐเมน สหรัฐอเมริกา เป็นน้ำขึ้นน้ำลงกว่าครึ่งหนึ่งของความยาว มันขึ้นที่ York Pond ใน Eliot และเชื่อมต่อกับลำธารและลำธาร ป้อนส่วนน้ำขึ้นน้ำลง แม่น้ำยอร์คไหลไปทางตะวันออกเฉียงใต้สู่มหาสมุทรแอตแลนติกที่ท่าเรือยอร์คในเมืองยอร์ค\\nชื่อ Abenaki สำหรับแม่น้ำยอร์กคือ Agamenticus ซึ่งแปลว่า \\\"นอกเหนือหุบเขาเล็ก ๆ น้อย ๆ\\\" อ้างอิงจากส Eben Norton Horsford, Agamenticus \\\"อธิบายที่ตั้งของปากแม่น้ำลิตเติลยอร์กแห่งหนึ่งที่เข้าใกล้จากทางเหนือ ขณะที่มันอยู่ด้านหลังเนินเขาที่ชาวอินเดียนแดงเรียก \\\"แซสซาโนวส์\\\" (อากาเมนติคัสสมัยใหม่) ลิตเติลยอร์ค แม่น้ำ ซึ่งเป็นแม่น้ำสายสั้นๆ คือ \\\"เลยอ่าวน้อยออกไป\\\"\\n<human>: อะไรคือความแตกต่างระหว่างแม่น้ำยอร์คตอนบนและตอนล่าง?\\n<bot>:  \n",
       "99360   <context>: การปิดล้อมป้อมปราการ Kållandsö เกิดขึ้นในช่วงฤดูหนาวในปี ค.ศ. 1099 โดยกษัตริย์ Inge Stenkilsson แห่งสวีเดน นี่เป็นการโต้ตอบครั้งแรกของ Inge ต่อกษัตริย์ Magnus Barefoot แห่งนอร์เวย์ ซึ่งเคยรุกราน Västergötaland เมื่อหนึ่งหรือสองปีก่อนหน้านี้ โดยหวังว่าจะขยายพรมแดนนอร์เวย์ลงไปจนถึง Götaälv การต่อสู้นั้นมีอยู่อย่างครบถ้วนโดย Snorri Sturlason ในผลงานของเขา Heimskringla\\n<human>: ให้หนึ่งประโยคเกี่ยวกับการปิดล้อมป้อม Kållandsö\\n<bot>:                                                                                                                                                                                                                                                                                                  \n",
       "121500  <context>: Vidushi Sumitra Guha เป็นนักร้องเสียงคลาสสิกชาวอินเดีย ซึ่งเป็นที่รู้จักจากความเชี่ยวชาญของเธอในโรงเรียนดนตรีคลาสสิก Carnatic และ Hindustani รัฐบาลอินเดียยกย่องเธอในปี 2010 ด้วยรางวัลพลเรือนสูงสุดอันดับสี่ของ Padma Shri\\n<human>: สุมิตรา กูฮาคือใคร?\\n<bot>:                                                                                                                                                                                                                                                                                                                                                                                                                                                                                  "
      ]
     },
     "execution_count": 71,
     "metadata": {},
     "output_type": "execute_result"
    }
   ],
   "source": [
    "rlhf_df.sample(10)"
   ]
  },
  {
   "cell_type": "code",
   "execution_count": 72,
   "id": "33795387",
   "metadata": {},
   "outputs": [
    {
     "data": {
      "text/plain": [
       "Dataset({\n",
       "    features: ['text', 'nb_token', 'metadata', 'prompt'],\n",
       "    num_rows: 176005\n",
       "})"
      ]
     },
     "execution_count": 72,
     "metadata": {},
     "output_type": "execute_result"
    }
   ],
   "source": [
    "ds = Dataset.from_pandas(rlhf_df)\n",
    "ds"
   ]
  },
  {
   "cell_type": "code",
   "execution_count": 73,
   "id": "f456d029",
   "metadata": {},
   "outputs": [
    {
     "data": {
      "text/plain": [
       "DatasetDict({\n",
       "    train: Dataset({\n",
       "        features: ['text', 'nb_token', 'metadata', 'prompt'],\n",
       "        num_rows: 175360\n",
       "    })\n",
       "    test: Dataset({\n",
       "        features: ['text', 'nb_token', 'metadata', 'prompt'],\n",
       "        num_rows: 645\n",
       "    })\n",
       "})"
      ]
     },
     "execution_count": 73,
     "metadata": {},
     "output_type": "execute_result"
    }
   ],
   "source": [
    "ds_split = ds.train_test_split(test_size=645, seed=125)\n",
    "ds_split"
   ]
  },
  {
   "cell_type": "code",
   "execution_count": 74,
   "id": "5a914714",
   "metadata": {},
   "outputs": [
    {
     "name": "stderr",
     "output_type": "stream",
     "text": [
      "Pushing split train to the Hub.\n"
     ]
    },
    {
     "data": {
      "application/vnd.jupyter.widget-view+json": {
       "model_id": "9cc08829ffda4504b2441c30ace2b61d",
       "version_major": 2,
       "version_minor": 0
      },
      "text/plain": [
       "Pushing dataset shards to the dataset hub:   0%|          | 0/2 [00:00<?, ?it/s]"
      ]
     },
     "metadata": {},
     "output_type": "display_data"
    },
    {
     "name": "stderr",
     "output_type": "stream",
     "text": [
      "Pushing split test to the Hub.\n"
     ]
    },
    {
     "data": {
      "application/vnd.jupyter.widget-view+json": {
       "model_id": "26f9b9be99ac4a80877b39594a4e7118",
       "version_major": 2,
       "version_minor": 0
      },
      "text/plain": [
       "Pushing dataset shards to the dataset hub:   0%|          | 0/1 [00:00<?, ?it/s]"
      ]
     },
     "metadata": {},
     "output_type": "display_data"
    }
   ],
   "source": [
    "ds_split.push_to_hub('pythainlp/final_training_set_v1_rlhf', private=True)"
   ]
  },
  {
   "cell_type": "code",
   "execution_count": null,
   "id": "7e2d6060",
   "metadata": {},
   "outputs": [],
   "source": []
  }
 ],
 "metadata": {
  "kernelspec": {
   "display_name": "Python 3 (ipykernel)",
   "language": "python",
   "name": "python3"
  },
  "language_info": {
   "codemirror_mode": {
    "name": "ipython",
    "version": 3
   },
   "file_extension": ".py",
   "mimetype": "text/x-python",
   "name": "python",
   "nbconvert_exporter": "python",
   "pygments_lexer": "ipython3",
   "version": "3.9.12"
  }
 },
 "nbformat": 4,
 "nbformat_minor": 5
}
