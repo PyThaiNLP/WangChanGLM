{
 "cells": [
  {
   "cell_type": "code",
   "execution_count": 43,
   "id": "908e223a",
   "metadata": {},
   "outputs": [],
   "source": [
    "from transformers import (\n",
    "    AutoTokenizer,\n",
    "    AutoModelForCausalLM,\n",
    ")\n",
    "from peft import (\n",
    "    PeftModel,\n",
    ")\n",
    "from typing import Optional, Union, List, Dict, Any\n",
    "import numpy as np\n",
    "import pandas as pd\n",
    "from tqdm.auto import tqdm\n",
    "import torch\n",
    "import re\n",
    "\n",
    "# import re\n",
    "# from transformers import AutoTokenizer\n",
    "# from tokenizers.decoders import ByteLevel\n",
    "\n",
    "# bytelevel_decoder = ByteLevel()\n",
    "\n",
    "# def get_vocab_from_bytelevel_decoder(bytelevel_tokenizer):\n",
    "#     subwords = list(map(lambda subword: bytelevel_decoder.decode([subword]).strip(), bytelevel_tokenizer.get_vocab().keys()))\n",
    "#     return subwords\n",
    "\n",
    "# bytelevel_subwords = get_vocab_from_bytelevel_decoder(tokenizer)\n",
    "# # len(bytelevel_subwords), bytelevel_subwords[:10]\n",
    "\n",
    "# bytelevel_subwords_th = list(filter(lambda x: re.search(r'[ก-๙)]', x), bytelevel_subwords))\n",
    "# bytelevel_subwords_th[:10]"
   ]
  },
  {
   "cell_type": "markdown",
   "id": "90f5002f",
   "metadata": {},
   "source": [
    "## Load Pretrained and PEFT Model"
   ]
  },
  {
   "cell_type": "code",
   "execution_count": 6,
   "id": "5b794cdc",
   "metadata": {},
   "outputs": [],
   "source": [
    "tokenizer = AutoTokenizer.from_pretrained('facebook/xglm-7.5B')"
   ]
  },
  {
   "cell_type": "code",
   "execution_count": 7,
   "id": "ca0e10a0",
   "metadata": {},
   "outputs": [
    {
     "data": {
      "text/plain": [
       "30004674560"
      ]
     },
     "execution_count": 7,
     "metadata": {},
     "output_type": "execute_result"
    }
   ],
   "source": [
    "pretrained_model = AutoModelForCausalLM.from_pretrained(\n",
    "    'facebook/xglm-7.5B',\n",
    "#     device_map=\"auto\",\n",
    "#     torch_dtype=\"auto\",\n",
    ")\n",
    "\n",
    "pretrained_model.eval()\n",
    "pretrained_model.get_memory_footprint()"
   ]
  },
  {
   "cell_type": "code",
   "execution_count": 8,
   "id": "04172413",
   "metadata": {},
   "outputs": [
    {
     "data": {
      "application/vnd.jupyter.widget-view+json": {
       "model_id": "b002595531e644ab867096639fe3be3b",
       "version_major": 2,
       "version_minor": 0
      },
      "text/plain": [
       "Downloading:   0%|          | 0.00/393 [00:00<?, ?B/s]"
      ]
     },
     "metadata": {},
     "output_type": "display_data"
    },
    {
     "data": {
      "application/vnd.jupyter.widget-view+json": {
       "model_id": "502d23c85bc84ac58da34b26fd859aa8",
       "version_major": 2,
       "version_minor": 0
      },
      "text/plain": [
       "Downloading:   0%|          | 0.00/1.21G [00:00<?, ?B/s]"
      ]
     },
     "metadata": {},
     "output_type": "display_data"
    },
    {
     "data": {
      "text/plain": [
       "31212634112"
      ]
     },
     "execution_count": 8,
     "metadata": {},
     "output_type": "execute_result"
    }
   ],
   "source": [
    "model = PeftModel.from_pretrained(pretrained_model, \n",
    "                                  'pythainlp/adapter-wangchanglm-7.5B-lora-multiworld')\n",
    "model.config.use_cache = True  # silence the warnings. Please re-enable for inference!\n",
    "model.eval()\n",
    "model.get_memory_footprint()"
   ]
  },
  {
   "cell_type": "markdown",
   "id": "d52503a5",
   "metadata": {},
   "source": [
    "## Get Tokens to Exclude from Beginning of Generation"
   ]
  },
  {
   "cell_type": "code",
   "execution_count": 44,
   "id": "3a2db255",
   "metadata": {},
   "outputs": [
    {
     "data": {
      "text/plain": [
       "['(2018)',\n",
       " 'йд',\n",
       " 'краю',\n",
       " 'zaposlen',\n",
       " 'ಕಥೆ',\n",
       " 'അതി',\n",
       " 'коју',\n",
       " 'پولی',\n",
       " 'krásne',\n",
       " 'eenth']"
      ]
     },
     "execution_count": 44,
     "metadata": {},
     "output_type": "execute_result"
    }
   ],
   "source": [
    "exclude_pattern = re.compile(r'[^ก-๙]+') #|[^0-9a-zA-Z]+\n",
    "def is_exclude(text):\n",
    "   return bool(exclude_pattern.search(text))\n",
    "\n",
    "df = pd.DataFrame(tokenizer.vocab.items(), columns=['text', 'idx'])\n",
    "df['is_exclude'] = df.text.map(is_exclude)\n",
    "exclude_ids = df[df.is_exclude==True].idx.tolist()\n",
    "[tokenizer.decode(i) for i in exclude_ids[:10]]"
   ]
  },
  {
   "cell_type": "markdown",
   "id": "84f72195",
   "metadata": {},
   "source": [
    "## Context-reminded Logit Processor"
   ]
  },
  {
   "cell_type": "code",
   "execution_count": 45,
   "id": "dc8cfb9d",
   "metadata": {},
   "outputs": [],
   "source": [
    "from transformers import LogitsProcessor\n",
    "\n",
    "class FocusContextProcessor(LogitsProcessor):\n",
    "    def __init__(self,\n",
    "        context_tokens: List[int],\n",
    "        vocab_size: int,\n",
    "        scaling_factor: float=1.5,\n",
    "        device='cpu'):\n",
    "        self.context_tokens = context_tokens\n",
    "        self.vocab_size = vocab_size\n",
    "        self.scaling_factor = scaling_factor\n",
    "        self.context_mask = torch.tensor([self.scaling_factor if \\\n",
    "            t in self.context_tokens else 1 for t in range(self.vocab_size)]).to(device)\n",
    "\n",
    "    def __call__(self, input_ids: torch.LongTensor, scores: torch.FloatTensor) -> torch.FloatTensor:\n",
    "        scores_pos = scores.clamp(min=0) * self.context_mask\n",
    "        scores_neg = scores.clamp(max=0) / self.context_mask\n",
    "        return scores_pos + scores_neg"
   ]
  },
  {
   "cell_type": "markdown",
   "id": "5dba6416",
   "metadata": {},
   "source": [
    "## Beam Search"
   ]
  },
  {
   "cell_type": "code",
   "execution_count": 29,
   "id": "4e3a7607",
   "metadata": {},
   "outputs": [],
   "source": [
    "context = '''\n",
    "แฟนบอลลิเวอร์พูล ถูกใจสนับสนุนอยากให้สโมสรคว้าตัว ไรอัน กราเวนเบิร์ช มิดฟิลด์ดาวรุ่งชาวดัตช์ของ บาเยิร์น มิวนิค มาร่วมทีมซัมเมอร์นี้ หลังปรากฎภาพแข้งวัย 20 ปี เคยสวมเสื้อแข่งหงส์แดงมาก่อนในอดีต\n",
    "ลิเวอร์พูล ถูกพูดถึงอย่างมากกับความเคลื่อนไหวในตลาดซัมเมอร์นี้ หลังสโมสรถอนตัวยอมรับว่าไม่มีเงินมากพอไล่ล่าตัว จู๊ด เบลลิ่งแฮม วันเดอร์คิดของโบรุสเซีย ดอร์ทมุนด์ แต่จะมองหาเป้าหมายอื่นที่มีความเหมาะสมแทน\n",
    "กราเวนเบิร์ช เป็นหนึ่งในตัวเลือกที่ลิเวอร์พูลให้ความสนใจ เนื่องจากดาวรุ่งวัย 20 ปี กำลังมีปัญหาแทบไม่ค่อยได้รับโอกาสจากบาเยิร์น มิวนิค นับตั้งแต่ย้ายมาจากอาแย๊กซ์ ค่าตัว 21 ล้านปอนด์ เมื่อซัมเมอร์ที่แล้ว\n",
    "โดย The Times เปิดเผยว่า ตัวแทนของลิเวอร์พูล ได้เดินทางไปพบกับคุณพ่อของกราเวนเบิร์ช ถึงเนเธอร์แลนด์ เมื่อวันอังคารที่ผ่านมา ซึ่งคาดว่า เสือใต้พร้อมที่จะปล่อยตัวนักเตะให้ย้ายทีมในราคาประมาณ 25 ล้านปอนด์\n",
    "'''\n",
    "\n",
    "input_text = f\"<context>: {context} <human>: สรุปสั้นๆ <bot>: \"\n",
    "# input_text = f\"<human>: เล่าเรื่องเกี่ยวกับมังกรหน่อย <bot>: \"\n",
    "batch = tokenizer(input_text, return_tensors='pt')"
   ]
  },
  {
   "cell_type": "code",
   "execution_count": null,
   "id": "02b69e45",
   "metadata": {},
   "outputs": [],
   "source": [
    "#remind the models of the tokens in context\n",
    "context_tokens = tokenizer(context, add_special_tokens=False)['input_ids']\n",
    "logits_processor = FocusContextProcessor(context_tokens, \n",
    "                                         model.config.vocab_size, \n",
    "                                         scaling_factor = 1.5)"
   ]
  },
  {
   "cell_type": "code",
   "execution_count": 46,
   "id": "57f680d6",
   "metadata": {},
   "outputs": [
    {
     "name": "stdout",
     "output_type": "stream",
     "text": [
      "<context>: แฟนบอลลิเวอร์พูล ถูกใจสนับสนุนอยากให้สโมสรคว้าตัว ไรอัน กราเวนเบิร์ช มิดฟิลด์ดาวรุ่งชาวดัตช์ของ บาเยิร์น มิวนิค มาร่วมทีมซัมเมอร์นี้ หลังปรากฎภาพแข้งวัย 20 ปี เคยสวมเสื้อแข่งหงส์แดงมาก่อนในอดีต ลิเวอร์พูล ถูกพูดถึงอย่างมากกับความเคลื่อนไหวในตลาดซัมเมอร์นี้ หลังสโมสรถอนตัวยอมรับว่าไม่มีเงินมากพอไล่ล่าตัว จู๊ด เบลลิ่งแฮม วันเดอร์คิดของโบรุสเซีย ดอร์ทมุนด์ แต่จะมองหาเป้าหมายอื่นที่มีความเหมาะสมแทน กราเวนเบิร์ช เป็นหนึ่งในตัวเลือกที่ลิเวอร์พูลให้ความสนใจ เนื่องจากดาวรุ่งวัย 20 ปี กําลังมีปัญหาแทบไม่ค่อยได้รับโอกาสจากบาเยิร์น มิวนิค นับตั้งแต่ย้ายมาจากอาแย๊กซ์ ค่าตัว 21 ล้านปอนด์ เมื่อซัมเมอร์ที่แล้ว โดย The Times เปิดเผยว่า ตัวแทนของลิเวอร์พูล ได้เดินทางไปพบกับคุณพ่อของกราเวนเบิร์ช ถึงเนเธอร์แลนด์ เมื่อวันอังคารที่ผ่านมา ซึ่งคาดว่า เสือใต้พร้อมที่จะปล่อยตัวนักเตะให้ย้ายทีมในราคาประมาณ 25 ล้านปอนด์ <human>: ทําไมลิเวอร์พูลซื้อจู๊ด เบลลิ่งแฮมไม่ได้? <bot>: สโมสรลิเวอร์พูลถูกวิจารณ์อย่างหนักจากตลาดซื้อขายนักเตะในฤดูกาลนี้ เนื่องจากสโมสรไม่สามารถหาเงินมาจ่ายค่าตัวของนักเตะที่พวกเขาต้องการได้\n"
     ]
    }
   ],
   "source": [
    "output_tokens = pretrained_model.generate(**batch, \n",
    "                               no_repeat_ngram_size=2,\n",
    "                               num_beams=5,\n",
    "                               min_length=len(batch['input_ids'])+128,\n",
    "                               max_new_tokens=512,\n",
    "                               begin_suppress_tokens = exclude_ids,\n",
    "                               logits_processor=[logits_processor],\n",
    "                              )\n",
    "\n",
    "print(tokenizer.decode(output_tokens[0], skip_special_tokens=True))"
   ]
  },
  {
   "cell_type": "code",
   "execution_count": null,
   "id": "7d4001a2",
   "metadata": {},
   "outputs": [],
   "source": []
  }
 ],
 "metadata": {
  "kernelspec": {
   "display_name": "Python 3 (ipykernel)",
   "language": "python",
   "name": "python3"
  },
  "language_info": {
   "codemirror_mode": {
    "name": "ipython",
    "version": 3
   },
   "file_extension": ".py",
   "mimetype": "text/x-python",
   "name": "python",
   "nbconvert_exporter": "python",
   "pygments_lexer": "ipython3",
   "version": "3.9.12"
  }
 },
 "nbformat": 4,
 "nbformat_minor": 5
}
