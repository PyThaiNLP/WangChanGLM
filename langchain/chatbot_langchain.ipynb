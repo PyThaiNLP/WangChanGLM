{
 "cells": [
  {
   "cell_type": "markdown",
   "id": "c64c07ca-3d4b-48db-9ec7-66825138bf05",
   "metadata": {},
   "source": [
    "ChatBOT mode from https://python.langchain.com/en/latest/modules/agents/agent_executors/examples/chatgpt_clone.html"
   ]
  },
  {
   "cell_type": "code",
   "execution_count": 1,
   "id": "4b1b7115-5de7-4c75-96b1-7f4d1507b4c1",
   "metadata": {
    "tags": []
   },
   "outputs": [],
   "source": [
    "import os\n",
    "os.environ[\"CUDA_VISIBLE_DEVICES\"]=\"3\""
   ]
  },
  {
   "cell_type": "code",
   "execution_count": 2,
   "id": "d3f5c7c8-0f76-49e8-bcd1-c38e98314b9b",
   "metadata": {
    "tags": []
   },
   "outputs": [],
   "source": [
    "pretrained = \"pythainlp/wangchanglm-7.5B-sft-adapter-merged\""
   ]
  },
  {
   "cell_type": "code",
   "execution_count": 3,
   "id": "baf06455-0ec1-4c62-b3ee-6cae0c6d001e",
   "metadata": {
    "tags": []
   },
   "outputs": [],
   "source": [
    "from langchain.llms import HuggingFacePipeline\n",
    "from transformers import pipeline"
   ]
  },
  {
   "cell_type": "code",
   "execution_count": 4,
   "id": "bfee3db5-2a26-4c42-99d9-bd154f2eadcf",
   "metadata": {
    "tags": []
   },
   "outputs": [],
   "source": [
    "from langchain import ConversationChain, LLMChain, PromptTemplate\n",
    "from langchain.memory import ConversationBufferWindowMemory\n",
    "import torch"
   ]
  },
  {
   "cell_type": "code",
   "execution_count": 5,
   "id": "a30a5269-6699-4f18-82d9-8f63e8d51e0c",
   "metadata": {
    "tags": []
   },
   "outputs": [],
   "source": [
    "from transformers import AutoTokenizer,AutoModelForCausalLM"
   ]
  },
  {
   "cell_type": "code",
   "execution_count": 6,
   "id": "55fed777-d63b-4c1a-996c-9725a949bd07",
   "metadata": {
    "tags": []
   },
   "outputs": [],
   "source": [
    "template = \"\"\"\n",
    "{history}\n",
    "<human>: {human_input}\n",
    "<bot>:\"\"\""
   ]
  },
  {
   "cell_type": "code",
   "execution_count": 7,
   "id": "a94d471e-22bf-46cc-a144-2db069eb9299",
   "metadata": {
    "tags": []
   },
   "outputs": [
    {
     "data": {
      "application/vnd.jupyter.widget-view+json": {
       "model_id": "a597219e7c5541538eefe4462aae75ef",
       "version_major": 2,
       "version_minor": 0
      },
      "text/plain": [
       "Loading checkpoint shards:   0%|          | 0/2 [00:00<?, ?it/s]"
      ]
     },
     "metadata": {},
     "output_type": "display_data"
    }
   ],
   "source": [
    "prompt = PromptTemplate(\n",
    "    input_variables=[\"history\", \"human_input\"], \n",
    "    template=template\n",
    ")\n",
    "tokenizer = AutoTokenizer.from_pretrained(pretrained)\n",
    "\n",
    "model = AutoModelForCausalLM.from_pretrained(pretrained)#, torch_dtype=torch.float16)\n",
    "\n",
    "pipe = pipeline(\n",
    "    \"text-generation\",\n",
    "    model=model,\n",
    "    tokenizer=tokenizer,\n",
    "    max_length=1024\n",
    ")\n",
    "hf_pipeline = HuggingFacePipeline(pipeline=pipe)\n",
    "\n",
    "chatgpt_chain = LLMChain(\n",
    "    llm=hf_pipeline, \n",
    "    prompt=prompt, \n",
    "    verbose=True, \n",
    "    memory=ConversationBufferWindowMemory(k=2),\n",
    ")"
   ]
  },
  {
   "cell_type": "code",
   "execution_count": 8,
   "id": "d6fb5b71-04b8-4cef-9e54-a57b9dfbc001",
   "metadata": {
    "tags": []
   },
   "outputs": [
    {
     "name": "stdout",
     "output_type": "stream",
     "text": [
      "\n",
      "\n",
      "\u001b[1m> Entering new LLMChain chain...\u001b[0m\n",
      "Prompt after formatting:\n",
      "\u001b[32;1m\u001b[1;3m\n",
      "\n",
      "<human>: Hello! Can you tell that how to write a book about ai?\n",
      "<bot>:\u001b[0m\n",
      "\n",
      "\u001b[1m> Finished chain.\u001b[0m\n",
      " I can help you with that. First, you need to decide what kind of book you want to write. Then, you need to decide on the topic and the structure of the book. You should also research the topic and the field of AI. Once you have done that, you can start writing the book.\n"
     ]
    }
   ],
   "source": [
    "output = chatgpt_chain.predict(human_input=\"Hello! Can you tell that how to write a book about ai?\")\n",
    "print(output)"
   ]
  },
  {
   "cell_type": "code",
   "execution_count": 9,
   "id": "1429e3b6-cc41-4cfc-9221-6ccd21ed0025",
   "metadata": {
    "tags": []
   },
   "outputs": [
    {
     "name": "stdout",
     "output_type": "stream",
     "text": [
      "\n",
      "\n",
      "\u001b[1m> Entering new LLMChain chain...\u001b[0m\n",
      "Prompt after formatting:\n",
      "\u001b[32;1m\u001b[1;3m\n",
      "Human: Hello! Can you tell that how to write a book about ai?\n",
      "AI:  I can help you with that. First, you need to decide what kind of book you want to write. Then, you need to decide on the topic and the structure of the book. You should also research the topic and the field of AI. Once you have done that, you can start writing the book.\n",
      "<human>: OK. I will write about chat bot. Can you give me a title for the book?\n",
      "<bot>:\u001b[0m\n",
      "\n",
      "\u001b[1m> Finished chain.\u001b[0m\n",
      " I will write about Chat Bot.\n"
     ]
    }
   ],
   "source": [
    "output = chatgpt_chain.predict(human_input=\"OK. I will write about chat bot. Can you give me a title for the book?\")\n",
    "print(output)"
   ]
  },
  {
   "cell_type": "code",
   "execution_count": 10,
   "id": "ea7f1064-be88-48ad-8bfc-ae2415144b1e",
   "metadata": {
    "tags": []
   },
   "outputs": [
    {
     "name": "stdout",
     "output_type": "stream",
     "text": [
      "\n",
      "\n",
      "\u001b[1m> Entering new LLMChain chain...\u001b[0m\n",
      "Prompt after formatting:\n",
      "\u001b[32;1m\u001b[1;3m\n",
      "Human: Hello! Can you tell that how to write a book about ai?\n",
      "AI:  I can help you with that. First, you need to decide what kind of book you want to write. Then, you need to decide on the topic and the structure of the book. You should also research the topic and the field of AI. Once you have done that, you can start writing the book.\n",
      "Human: OK. I will write about chat bot. Can you give me a title for the book?\n",
      "AI:  I will write about Chat Bot.\n",
      "<human>: Can you give me a example for the book?\n",
      "<bot>:\u001b[0m\n",
      "\n",
      "\u001b[1m> Finished chain.\u001b[0m\n",
      " Chat Bot is a computer program that can be used to interact with humans. It is a type of artificial intelligence. Chat Bots are used to interact with people through text messages, emails, and social media. Chat Bots are also used to interact with other computers. Chat Bots are used to help people with their daily tasks.\n"
     ]
    }
   ],
   "source": [
    "output = chatgpt_chain.predict(human_input=\"Can you give me a example for the book?\")\n",
    "print(output)"
   ]
  },
  {
   "cell_type": "code",
   "execution_count": null,
   "id": "75040da5-0599-4302-a77a-1cd0bbe9f3d8",
   "metadata": {},
   "outputs": [],
   "source": []
  }
 ],
 "metadata": {
  "kernelspec": {
   "display_name": "Python 3 (ipykernel)",
   "language": "python",
   "name": "python3"
  },
  "language_info": {
   "codemirror_mode": {
    "name": "ipython",
    "version": 3
   },
   "file_extension": ".py",
   "mimetype": "text/x-python",
   "name": "python",
   "nbconvert_exporter": "python",
   "pygments_lexer": "ipython3",
   "version": "3.8.10"
  }
 },
 "nbformat": 4,
 "nbformat_minor": 5
}
